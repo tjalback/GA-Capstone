{
 "cells": [
  {
   "cell_type": "markdown",
   "metadata": {},
   "source": [
    "### Southbank location using all violation instances"
   ]
  },
  {
   "cell_type": "markdown",
   "metadata": {},
   "source": [
    "This workbook steps through investigation into one area within the data set. Due to the sensor data file being so large (over 5gb) it is not possible to view all parking violation instances across the city. I've chosen to drill down on Southbank as this area had the top car parking bays with the highest overall parking violation instances in 2017. \n",
    "The difference between this approach and the all_violations aggregate approach is that information over time can be analysed.\n",
    "The same data calling, cleaning, merging steps apply as the all_violations notebook"
   ]
  },
  {
   "cell_type": "code",
   "execution_count": null,
   "metadata": {
    "scrolled": true
   },
   "outputs": [],
   "source": [
    "# make sure to install these packages before running:\n",
    "# pip install pandas -- already installed"
   ]
  },
  {
   "cell_type": "code",
   "execution_count": 1,
   "metadata": {},
   "outputs": [
    {
     "name": "stdout",
     "output_type": "stream",
     "text": [
      "Requirement already satisfied: sodapy in /opt/anaconda3/lib/python3.8/site-packages (2.1.0)\n",
      "Requirement already satisfied: requests>=2.20.0 in /opt/anaconda3/lib/python3.8/site-packages (from sodapy) (2.24.0)\n",
      "Requirement already satisfied: certifi>=2017.4.17 in /opt/anaconda3/lib/python3.8/site-packages (from requests>=2.20.0->sodapy) (2020.6.20)\n",
      "Requirement already satisfied: chardet<4,>=3.0.2 in /opt/anaconda3/lib/python3.8/site-packages (from requests>=2.20.0->sodapy) (3.0.4)\n",
      "Requirement already satisfied: urllib3!=1.25.0,!=1.25.1,<1.26,>=1.21.1 in /opt/anaconda3/lib/python3.8/site-packages (from requests>=2.20.0->sodapy) (1.25.11)\n",
      "Requirement already satisfied: idna<3,>=2.5 in /opt/anaconda3/lib/python3.8/site-packages (from requests>=2.20.0->sodapy) (2.10)\n",
      "Note: you may need to restart the kernel to use updated packages.\n"
     ]
    }
   ],
   "source": [
    "#pip install sodapy"
   ]
  },
  {
   "cell_type": "code",
   "execution_count": 1,
   "metadata": {},
   "outputs": [],
   "source": [
    "import pandas as pd\n",
    "import numpy as np\n",
    "import requests\n",
    "from sodapy import Socrata\n",
    "\n",
    "# Unauthenticated client only works with public data sets. Note 'None'\n",
    "# in place of application token, and no username or password:\n",
    "client = Socrata(\"data.melbourne.vic.gov.au\", \"RG1MLdEhMl8N8uP4WMDWLJ3Yz\")\n",
    "\n",
    "# Example authenticated client (needed for non-public datasets):\n",
    "# client = Socrata(data.melbourne.vic.gov.au,\n",
    "#                  MyAppToken,\n",
    "#                  userame=\"user@example.com\",\n",
    "#                  password=\"AFakePassword\")\n",
    "\n",
    "# First 2000 results, returned as JSON from API / converted to Python list of\n",
    "# dictionaries by sodapy.\n",
    "\n",
    "# Full year 2017 parking events for Southbank, violations, arrival date, street, row is a parking instance\n",
    "results = client.get(\"u9sa-j86i\", area='Southbank', in_violation=True, limit=110000)\n",
    "\n",
    "# All on-street parking bays: lat, long of parking bays\n",
    "results2 = client.get(\"wuf8-susg\", limit=30000)\n",
    "\n",
    "# All parking bay sensors --> not used, this is the live parking information\n",
    "results3 = client.get(\"vh2v-4nfs\", limit=5000)\n",
    "\n",
    "# All parking restrictions: extended info for restrictions\n",
    "results4 = client.get(\"ntht-5rk7\", limit=4200)\n",
    "\n",
    "# Convert to pandas DataFrame\n",
    "sensor_df = pd.DataFrame.from_records(results)\n",
    "\n",
    "# Convert to pandas DataFrame\n",
    "location_df = pd.DataFrame.from_records(results2)\n",
    "\n",
    "# Convert to pandas DataFrame\n",
    "park_sens_df = pd.DataFrame.from_records(results3)\n",
    "\n",
    "# # Convert to pandas DataFrame\n",
    "restriction_df = pd.DataFrame.from_records(results4)"
   ]
  },
  {
   "cell_type": "code",
   "execution_count": null,
   "metadata": {},
   "outputs": [],
   "source": [
    "# response = requests.get('https://data.melbourne.vic.gov.au/resource/ntht-5rk7.json')\n",
    "# status_code = response.status_code\n",
    "# data_parking_res = response.json()"
   ]
  },
  {
   "cell_type": "markdown",
   "metadata": {},
   "source": [
    "### Check and clean sensor_df"
   ]
  },
  {
   "cell_type": "code",
   "execution_count": 2,
   "metadata": {},
   "outputs": [
    {
     "data": {
      "text/html": [
       "<div>\n",
       "<style scoped>\n",
       "    .dataframe tbody tr th:only-of-type {\n",
       "        vertical-align: middle;\n",
       "    }\n",
       "\n",
       "    .dataframe tbody tr th {\n",
       "        vertical-align: top;\n",
       "    }\n",
       "\n",
       "    .dataframe thead th {\n",
       "        text-align: right;\n",
       "    }\n",
       "</style>\n",
       "<table border=\"1\" class=\"dataframe\">\n",
       "  <thead>\n",
       "    <tr style=\"text-align: right;\">\n",
       "      <th></th>\n",
       "      <th>deviceid</th>\n",
       "      <th>arrivaltime</th>\n",
       "      <th>departuretime</th>\n",
       "      <th>durationseconds</th>\n",
       "      <th>streetmarker</th>\n",
       "      <th>sign</th>\n",
       "      <th>area</th>\n",
       "      <th>streetid</th>\n",
       "      <th>streetname</th>\n",
       "      <th>betweenstreet1</th>\n",
       "      <th>betweenstreet2</th>\n",
       "      <th>side_of_street</th>\n",
       "      <th>in_violation</th>\n",
       "      <th>vehicle_present</th>\n",
       "    </tr>\n",
       "  </thead>\n",
       "  <tbody>\n",
       "    <tr>\n",
       "      <th>0</th>\n",
       "      <td>21668</td>\n",
       "      <td>2017-11-13T13:08:02.000</td>\n",
       "      <td>2017-11-13T16:14:31.000</td>\n",
       "      <td>11189</td>\n",
       "      <td>8642E</td>\n",
       "      <td>3P TKT A M-F 7:30-18:30</td>\n",
       "      <td>Southbank</td>\n",
       "      <td>828</td>\n",
       "      <td>KAVANAGH STREET</td>\n",
       "      <td>BALSTON STREET</td>\n",
       "      <td>POWER STREET</td>\n",
       "      <td>2</td>\n",
       "      <td>True</td>\n",
       "      <td>True</td>\n",
       "    </tr>\n",
       "    <tr>\n",
       "      <th>1</th>\n",
       "      <td>21416</td>\n",
       "      <td>2017-02-10T07:30:00.000</td>\n",
       "      <td>2017-02-10T10:56:47.000</td>\n",
       "      <td>12407</td>\n",
       "      <td>8350E</td>\n",
       "      <td>3P TKT A M-F 7:30-18:30</td>\n",
       "      <td>Southbank</td>\n",
       "      <td>591</td>\n",
       "      <td>DODDS STREET</td>\n",
       "      <td>SOUTHBANK BOULEVARD</td>\n",
       "      <td>GRANT STREET</td>\n",
       "      <td>2</td>\n",
       "      <td>True</td>\n",
       "      <td>True</td>\n",
       "    </tr>\n",
       "  </tbody>\n",
       "</table>\n",
       "</div>"
      ],
      "text/plain": [
       "  deviceid              arrivaltime            departuretime durationseconds  \\\n",
       "0    21668  2017-11-13T13:08:02.000  2017-11-13T16:14:31.000           11189   \n",
       "1    21416  2017-02-10T07:30:00.000  2017-02-10T10:56:47.000           12407   \n",
       "\n",
       "  streetmarker                     sign       area streetid       streetname  \\\n",
       "0        8642E  3P TKT A M-F 7:30-18:30  Southbank      828  KAVANAGH STREET   \n",
       "1        8350E  3P TKT A M-F 7:30-18:30  Southbank      591     DODDS STREET   \n",
       "\n",
       "        betweenstreet1 betweenstreet2 side_of_street in_violation  \\\n",
       "0       BALSTON STREET   POWER STREET              2         True   \n",
       "1  SOUTHBANK BOULEVARD   GRANT STREET              2         True   \n",
       "\n",
       "  vehicle_present  \n",
       "0            True  \n",
       "1            True  "
      ]
     },
     "execution_count": 2,
     "metadata": {},
     "output_type": "execute_result"
    }
   ],
   "source": [
    "sensor_df.head(2)"
   ]
  },
  {
   "cell_type": "code",
   "execution_count": 3,
   "metadata": {},
   "outputs": [
    {
     "data": {
      "text/plain": [
       "(105151, 14)"
      ]
     },
     "execution_count": 3,
     "metadata": {},
     "output_type": "execute_result"
    }
   ],
   "source": [
    "sensor_df.shape\n",
    "# this row number matches the website visualisation "
   ]
  },
  {
   "cell_type": "code",
   "execution_count": 9,
   "metadata": {},
   "outputs": [
    {
     "name": "stdout",
     "output_type": "stream",
     "text": [
      "<class 'pandas.core.frame.DataFrame'>\n",
      "RangeIndex: 105151 entries, 0 to 105150\n",
      "Data columns (total 14 columns):\n",
      " #   Column           Non-Null Count   Dtype \n",
      "---  ------           --------------   ----- \n",
      " 0   deviceid         105151 non-null  object\n",
      " 1   arrivaltime      105151 non-null  object\n",
      " 2   departuretime    105151 non-null  object\n",
      " 3   durationseconds  105151 non-null  object\n",
      " 4   streetmarker     105151 non-null  object\n",
      " 5   sign             105148 non-null  object\n",
      " 6   area             105151 non-null  object\n",
      " 7   streetid         105151 non-null  object\n",
      " 8   streetname       105151 non-null  object\n",
      " 9   betweenstreet1   105151 non-null  object\n",
      " 10  betweenstreet2   105151 non-null  object\n",
      " 11  side_of_street   105151 non-null  object\n",
      " 12  in_violation     105151 non-null  object\n",
      " 13  vehicle_present  105151 non-null  object\n",
      "dtypes: object(14)\n",
      "memory usage: 11.2+ MB\n"
     ]
    }
   ],
   "source": [
    "sensor_df.info()"
   ]
  },
  {
   "cell_type": "code",
   "execution_count": 43,
   "metadata": {},
   "outputs": [
    {
     "data": {
      "text/plain": [
       "deviceid           0\n",
       "arrivaltime        0\n",
       "departuretime      0\n",
       "durationseconds    0\n",
       "marker_id          0\n",
       "sign               3\n",
       "area               0\n",
       "streetid           0\n",
       "streetname         0\n",
       "betweenstreet1     0\n",
       "betweenstreet2     0\n",
       "side_of_street     0\n",
       "in_violation       0\n",
       "vehicle_present    0\n",
       "dtype: int64"
      ]
     },
     "execution_count": 43,
     "metadata": {},
     "output_type": "execute_result"
    }
   ],
   "source": [
    "sensor_df.isnull().sum()\n",
    "# only 3 nulls in sign column (won't use this column)"
   ]
  },
  {
   "cell_type": "markdown",
   "metadata": {},
   "source": [
    "### Check/clean location_df"
   ]
  },
  {
   "cell_type": "code",
   "execution_count": 15,
   "metadata": {},
   "outputs": [
    {
     "data": {
      "text/plain": [
       "(24746, 8)"
      ]
     },
     "execution_count": 15,
     "metadata": {},
     "output_type": "execute_result"
    }
   ],
   "source": [
    "location_df.shape"
   ]
  },
  {
   "cell_type": "code",
   "execution_count": 16,
   "metadata": {},
   "outputs": [
    {
     "name": "stdout",
     "output_type": "stream",
     "text": [
      "<class 'pandas.core.frame.DataFrame'>\n",
      "RangeIndex: 24746 entries, 0 to 24745\n",
      "Data columns (total 8 columns):\n",
      " #   Column       Non-Null Count  Dtype \n",
      "---  ------       --------------  ----- \n",
      " 0   the_geom     24746 non-null  object\n",
      " 1   marker_id    6015 non-null   object\n",
      " 2   bay_id       24746 non-null  object\n",
      " 3   last_edit    24746 non-null  object\n",
      " 4   rd_seg_id    23600 non-null  object\n",
      " 5   rd_seg_dsc   23600 non-null  object\n",
      " 6   meter_id     533 non-null    object\n",
      " 7   coordinates  24746 non-null  object\n",
      "dtypes: object(8)\n",
      "memory usage: 1.5+ MB\n"
     ]
    }
   ],
   "source": [
    "location_df.info()"
   ]
  },
  {
   "cell_type": "code",
   "execution_count": 5,
   "metadata": {},
   "outputs": [],
   "source": [
    "location_df = location_df.dropna(subset = ['marker_id'])"
   ]
  },
  {
   "cell_type": "code",
   "execution_count": 18,
   "metadata": {},
   "outputs": [
    {
     "data": {
      "text/plain": [
       "3776N     4\n",
       "15208E    4\n",
       "4559W     2\n",
       "9083S     2\n",
       "13436E    2\n",
       "         ..\n",
       "C814      1\n",
       "6581S     1\n",
       "15502N    1\n",
       "3407S     1\n",
       "2853S     1\n",
       "Name: marker_id, Length: 6001, dtype: int64"
      ]
     },
     "execution_count": 18,
     "metadata": {},
     "output_type": "execute_result"
    }
   ],
   "source": [
    "location_df.marker_id.value_counts().sort_values(ascending = False)"
   ]
  },
  {
   "cell_type": "code",
   "execution_count": 6,
   "metadata": {},
   "outputs": [],
   "source": [
    "location_df = location_df.drop_duplicates(subset = 'marker_id')"
   ]
  },
  {
   "cell_type": "code",
   "execution_count": 20,
   "metadata": {},
   "outputs": [
    {
     "data": {
      "text/plain": [
       "7062N     1\n",
       "12568N    1\n",
       "C592      1\n",
       "1526E     1\n",
       "13828N    1\n",
       "         ..\n",
       "C814      1\n",
       "6581S     1\n",
       "15502N    1\n",
       "3407S     1\n",
       "4869W     1\n",
       "Name: marker_id, Length: 6001, dtype: int64"
      ]
     },
     "execution_count": 20,
     "metadata": {},
     "output_type": "execute_result"
    }
   ],
   "source": [
    "location_df.marker_id.value_counts().sort_values(ascending = False)\n",
    "#shows duplicates removed"
   ]
  },
  {
   "cell_type": "code",
   "execution_count": 21,
   "metadata": {},
   "outputs": [
    {
     "data": {
      "text/plain": [
       "(6001, 8)"
      ]
     },
     "execution_count": 21,
     "metadata": {},
     "output_type": "execute_result"
    }
   ],
   "source": [
    "location_df.shape"
   ]
  },
  {
   "cell_type": "code",
   "execution_count": 22,
   "metadata": {},
   "outputs": [
    {
     "data": {
      "text/html": [
       "<div>\n",
       "<style scoped>\n",
       "    .dataframe tbody tr th:only-of-type {\n",
       "        vertical-align: middle;\n",
       "    }\n",
       "\n",
       "    .dataframe tbody tr th {\n",
       "        vertical-align: top;\n",
       "    }\n",
       "\n",
       "    .dataframe thead th {\n",
       "        text-align: right;\n",
       "    }\n",
       "</style>\n",
       "<table border=\"1\" class=\"dataframe\">\n",
       "  <thead>\n",
       "    <tr style=\"text-align: right;\">\n",
       "      <th></th>\n",
       "      <th>the_geom</th>\n",
       "      <th>marker_id</th>\n",
       "      <th>bay_id</th>\n",
       "      <th>last_edit</th>\n",
       "      <th>rd_seg_id</th>\n",
       "      <th>rd_seg_dsc</th>\n",
       "      <th>meter_id</th>\n",
       "      <th>coordinates</th>\n",
       "    </tr>\n",
       "  </thead>\n",
       "  <tbody>\n",
       "    <tr>\n",
       "      <th>0</th>\n",
       "      <td>{'type': 'MultiPolygon', 'coordinates': [[[[14...</td>\n",
       "      <td>20268E</td>\n",
       "      <td>17200</td>\n",
       "      <td>20201223122254</td>\n",
       "      <td>22277</td>\n",
       "      <td>St Leonards Court from Anderson Street</td>\n",
       "      <td>NaN</td>\n",
       "      <td>[144.985530949946, -37.829757851313]</td>\n",
       "    </tr>\n",
       "    <tr>\n",
       "      <th>9</th>\n",
       "      <td>{'type': 'MultiPolygon', 'coordinates': [[[[14...</td>\n",
       "      <td>4902E</td>\n",
       "      <td>14322</td>\n",
       "      <td>20201208141232</td>\n",
       "      <td>21630</td>\n",
       "      <td>Queen Street between Franklin Street and Therr...</td>\n",
       "      <td>NaN</td>\n",
       "      <td>[144.958094708823, -37.808001781862]</td>\n",
       "    </tr>\n",
       "  </tbody>\n",
       "</table>\n",
       "</div>"
      ],
      "text/plain": [
       "                                            the_geom marker_id bay_id  \\\n",
       "0  {'type': 'MultiPolygon', 'coordinates': [[[[14...    20268E  17200   \n",
       "9  {'type': 'MultiPolygon', 'coordinates': [[[[14...     4902E  14322   \n",
       "\n",
       "        last_edit rd_seg_id  \\\n",
       "0  20201223122254     22277   \n",
       "9  20201208141232     21630   \n",
       "\n",
       "                                          rd_seg_dsc meter_id  \\\n",
       "0             St Leonards Court from Anderson Street      NaN   \n",
       "9  Queen Street between Franklin Street and Therr...      NaN   \n",
       "\n",
       "                            coordinates  \n",
       "0  [144.985530949946, -37.829757851313]  \n",
       "9  [144.958094708823, -37.808001781862]  "
      ]
     },
     "execution_count": 22,
     "metadata": {},
     "output_type": "execute_result"
    }
   ],
   "source": [
    "location_df.head(2)"
   ]
  },
  {
   "cell_type": "markdown",
   "metadata": {},
   "source": [
    "#### Looking at the 'the_geom'"
   ]
  },
  {
   "cell_type": "code",
   "execution_count": 23,
   "metadata": {
    "scrolled": true
   },
   "outputs": [
    {
     "data": {
      "text/plain": [
       "{'type': 'MultiPolygon',\n",
       " 'coordinates': [[[[144.985530949946, -37.829757851313],\n",
       "    [144.985512852395, -37.829763753466],\n",
       "    [144.985510384116, -37.829757713584],\n",
       "    [144.985508481348, -37.829751561613],\n",
       "    [144.985507310993, -37.82974529717],\n",
       "    [144.985501612155, -37.829713747685],\n",
       "    [144.985521539055, -37.829711225609],\n",
       "    [144.985523760892, -37.829725114714],\n",
       "    [144.985525367663, -37.829738725646],\n",
       "    [144.985529858079, -37.829756054609],\n",
       "    [144.985530949946, -37.829757851313]]]]}"
      ]
     },
     "execution_count": 23,
     "metadata": {},
     "output_type": "execute_result"
    }
   ],
   "source": [
    "location_df['the_geom'][0]"
   ]
  },
  {
   "cell_type": "markdown",
   "metadata": {},
   "source": [
    "#### Extract the first set of coordinates from the_geom and add as lat/long columns"
   ]
  },
  {
   "cell_type": "markdown",
   "metadata": {},
   "source": [
    "The car park bay location is given as a spatial polygon. An approach to extract one lat/long coordinate per parking bay is to get the first set of coordinates and use that as the location, which is shown below."
   ]
  },
  {
   "cell_type": "code",
   "execution_count": 7,
   "metadata": {},
   "outputs": [],
   "source": [
    "location_df['coordinates'] = location_df.the_geom.apply(lambda x: x['coordinates'][0][0][0])\n",
    "# get first item in the nested list --> assign as new column called coordinates"
   ]
  },
  {
   "cell_type": "code",
   "execution_count": 8,
   "metadata": {},
   "outputs": [],
   "source": [
    "location_df[['long','lat']] = pd.DataFrame(location_df['coordinates'].tolist(), index = location_df.index)"
   ]
  },
  {
   "cell_type": "code",
   "execution_count": 26,
   "metadata": {},
   "outputs": [
    {
     "data": {
      "text/html": [
       "<div>\n",
       "<style scoped>\n",
       "    .dataframe tbody tr th:only-of-type {\n",
       "        vertical-align: middle;\n",
       "    }\n",
       "\n",
       "    .dataframe tbody tr th {\n",
       "        vertical-align: top;\n",
       "    }\n",
       "\n",
       "    .dataframe thead th {\n",
       "        text-align: right;\n",
       "    }\n",
       "</style>\n",
       "<table border=\"1\" class=\"dataframe\">\n",
       "  <thead>\n",
       "    <tr style=\"text-align: right;\">\n",
       "      <th></th>\n",
       "      <th>the_geom</th>\n",
       "      <th>marker_id</th>\n",
       "      <th>bay_id</th>\n",
       "      <th>last_edit</th>\n",
       "      <th>rd_seg_id</th>\n",
       "      <th>rd_seg_dsc</th>\n",
       "      <th>meter_id</th>\n",
       "      <th>coordinates</th>\n",
       "      <th>long</th>\n",
       "      <th>lat</th>\n",
       "    </tr>\n",
       "  </thead>\n",
       "  <tbody>\n",
       "    <tr>\n",
       "      <th>0</th>\n",
       "      <td>{'type': 'MultiPolygon', 'coordinates': [[[[14...</td>\n",
       "      <td>20268E</td>\n",
       "      <td>17200</td>\n",
       "      <td>20201223122254</td>\n",
       "      <td>22277</td>\n",
       "      <td>St Leonards Court from Anderson Street</td>\n",
       "      <td>NaN</td>\n",
       "      <td>[144.985530949946, -37.829757851313]</td>\n",
       "      <td>144.985531</td>\n",
       "      <td>-37.829758</td>\n",
       "    </tr>\n",
       "    <tr>\n",
       "      <th>9</th>\n",
       "      <td>{'type': 'MultiPolygon', 'coordinates': [[[[14...</td>\n",
       "      <td>4902E</td>\n",
       "      <td>14322</td>\n",
       "      <td>20201208141232</td>\n",
       "      <td>21630</td>\n",
       "      <td>Queen Street between Franklin Street and Therr...</td>\n",
       "      <td>NaN</td>\n",
       "      <td>[144.958094708823, -37.808001781862]</td>\n",
       "      <td>144.958095</td>\n",
       "      <td>-37.808002</td>\n",
       "    </tr>\n",
       "  </tbody>\n",
       "</table>\n",
       "</div>"
      ],
      "text/plain": [
       "                                            the_geom marker_id bay_id  \\\n",
       "0  {'type': 'MultiPolygon', 'coordinates': [[[[14...    20268E  17200   \n",
       "9  {'type': 'MultiPolygon', 'coordinates': [[[[14...     4902E  14322   \n",
       "\n",
       "        last_edit rd_seg_id  \\\n",
       "0  20201223122254     22277   \n",
       "9  20201208141232     21630   \n",
       "\n",
       "                                          rd_seg_dsc meter_id  \\\n",
       "0             St Leonards Court from Anderson Street      NaN   \n",
       "9  Queen Street between Franklin Street and Therr...      NaN   \n",
       "\n",
       "                            coordinates        long        lat  \n",
       "0  [144.985530949946, -37.829757851313]  144.985531 -37.829758  \n",
       "9  [144.958094708823, -37.808001781862]  144.958095 -37.808002  "
      ]
     },
     "execution_count": 26,
     "metadata": {},
     "output_type": "execute_result"
    }
   ],
   "source": [
    "location_df.head(2)"
   ]
  },
  {
   "cell_type": "markdown",
   "metadata": {},
   "source": [
    "#### Merge on streetmarker/marker_id"
   ]
  },
  {
   "cell_type": "code",
   "execution_count": 9,
   "metadata": {},
   "outputs": [],
   "source": [
    "sensor_df.rename(columns = {'streetmarker':'marker_id'}, inplace = True)\n",
    "# Rename the column name so it's easy to match on one column: 'marker_id'"
   ]
  },
  {
   "cell_type": "code",
   "execution_count": 29,
   "metadata": {},
   "outputs": [
    {
     "data": {
      "text/plain": [
       "Index(['deviceid', 'arrivaltime', 'departuretime', 'durationseconds',\n",
       "       'marker_id', 'sign', 'area', 'streetid', 'streetname', 'betweenstreet1',\n",
       "       'betweenstreet2', 'side_of_street', 'in_violation', 'vehicle_present'],\n",
       "      dtype='object')"
      ]
     },
     "execution_count": 29,
     "metadata": {},
     "output_type": "execute_result"
    }
   ],
   "source": [
    "sensor_df.columns"
   ]
  },
  {
   "cell_type": "code",
   "execution_count": 30,
   "metadata": {},
   "outputs": [
    {
     "data": {
      "text/plain": [
       "Index(['the_geom', 'marker_id', 'bay_id', 'last_edit', 'rd_seg_id',\n",
       "       'rd_seg_dsc', 'meter_id', 'coordinates', 'long', 'lat'],\n",
       "      dtype='object')"
      ]
     },
     "execution_count": 30,
     "metadata": {},
     "output_type": "execute_result"
    }
   ],
   "source": [
    "location_df.columns"
   ]
  },
  {
   "cell_type": "code",
   "execution_count": 36,
   "metadata": {},
   "outputs": [
    {
     "data": {
      "text/plain": [
       "497"
      ]
     },
     "execution_count": 36,
     "metadata": {},
     "output_type": "execute_result"
    }
   ],
   "source": [
    "sensor_df['marker_id'].nunique()"
   ]
  },
  {
   "cell_type": "code",
   "execution_count": 32,
   "metadata": {},
   "outputs": [],
   "source": [
    "# this function checks to see unique values in the matching column across both datasets. It helps to ensure\n",
    "# you don't lose/gain any rows through the merge step\n",
    "def check_if_match(df_1, df_2, col_name_df1, col_name_df2):\n",
    "    unique_to_df_1 = [i for i in df_1[col_name_df1].unique() if i not in df_2[col_name_df2].unique()]\n",
    "    unique_to_df_2 = [i for i in df_2[col_name_df2].unique() if i not in df_1[col_name_df1].unique()]\n",
    "    common_to_df_1_and_df_2 = [i for i in df_2[col_name_df2].unique() if i in df_1[col_name_df1].unique()]\n",
    "    print('values unique to df_1', str(len(unique_to_df_1)))\n",
    "    print('values unique to df_2', str(len(unique_to_df_2)))\n",
    "    print('values common to df_1 and df_2', str(len(common_to_df_1_and_df_2)))\n",
    "    return unique_to_df_1, unique_to_df_2, common_to_df_1_and_df_2"
   ]
  },
  {
   "cell_type": "code",
   "execution_count": 33,
   "metadata": {
    "scrolled": false
   },
   "outputs": [
    {
     "name": "stdout",
     "output_type": "stream",
     "text": [
      "values unique to df_1 62\n",
      "values unique to df_2 5566\n",
      "values common to df_1 and df_2 435\n"
     ]
    }
   ],
   "source": [
    "# this runs the function: note it can take a while to run if large dataset\n",
    "result_unique_df_1, result_unique_df_2, result_common_df_1_df_2 = check_if_match(df_1 = sensor_df, df_2 = location_df, col_name_df1 = 'marker_id', col_name_df2 = 'marker_id')"
   ]
  },
  {
   "cell_type": "code",
   "execution_count": 34,
   "metadata": {},
   "outputs": [],
   "source": [
    "# result_common_df_1_df_2 \n",
    "# to see list of marker id's that will be used in the join"
   ]
  },
  {
   "cell_type": "code",
   "execution_count": 35,
   "metadata": {},
   "outputs": [],
   "source": [
    "# result_unique_df_1  \n",
    "# this shows how many marker id's in the sensor df don't have a matching lat/long and therefore will not be included\n",
    "# in further analysis"
   ]
  },
  {
   "cell_type": "code",
   "execution_count": 34,
   "metadata": {},
   "outputs": [],
   "source": [
    "# result_unique_df_2\n",
    "# these are unique to the location_df: makes sense that this list is large due to only one area selected"
   ]
  },
  {
   "cell_type": "code",
   "execution_count": 37,
   "metadata": {},
   "outputs": [
    {
     "data": {
      "text/plain": [
       "6001"
      ]
     },
     "execution_count": 37,
     "metadata": {},
     "output_type": "execute_result"
    }
   ],
   "source": [
    "location_df.marker_id.nunique()"
   ]
  },
  {
   "cell_type": "code",
   "execution_count": 10,
   "metadata": {},
   "outputs": [],
   "source": [
    "sensor_merge_location = pd.merge(sensor_df, location_df, on=\"marker_id\")"
   ]
  },
  {
   "cell_type": "code",
   "execution_count": 11,
   "metadata": {},
   "outputs": [
    {
     "data": {
      "text/plain": [
       "435"
      ]
     },
     "execution_count": 11,
     "metadata": {},
     "output_type": "execute_result"
    }
   ],
   "source": [
    "sensor_merge_location.marker_id.nunique()\n",
    "# this number matches our marker id's in common between the df's"
   ]
  },
  {
   "cell_type": "code",
   "execution_count": 40,
   "metadata": {},
   "outputs": [
    {
     "data": {
      "text/plain": [
       "(105151, 14)"
      ]
     },
     "execution_count": 40,
     "metadata": {},
     "output_type": "execute_result"
    }
   ],
   "source": [
    "sensor_df.shape"
   ]
  },
  {
   "cell_type": "code",
   "execution_count": 41,
   "metadata": {
    "scrolled": true
   },
   "outputs": [
    {
     "data": {
      "text/plain": [
       "(89778, 23)"
      ]
     },
     "execution_count": 41,
     "metadata": {},
     "output_type": "execute_result"
    }
   ],
   "source": [
    "sensor_merge_location.shape\n",
    "# lost some rows where no markerid and therefore no lat/long info in location_df"
   ]
  },
  {
   "cell_type": "code",
   "execution_count": 12,
   "metadata": {},
   "outputs": [
    {
     "data": {
      "text/html": [
       "<div>\n",
       "<style scoped>\n",
       "    .dataframe tbody tr th:only-of-type {\n",
       "        vertical-align: middle;\n",
       "    }\n",
       "\n",
       "    .dataframe tbody tr th {\n",
       "        vertical-align: top;\n",
       "    }\n",
       "\n",
       "    .dataframe thead th {\n",
       "        text-align: right;\n",
       "    }\n",
       "</style>\n",
       "<table border=\"1\" class=\"dataframe\">\n",
       "  <thead>\n",
       "    <tr style=\"text-align: right;\">\n",
       "      <th></th>\n",
       "      <th>deviceid</th>\n",
       "      <th>arrivaltime</th>\n",
       "      <th>departuretime</th>\n",
       "      <th>durationseconds</th>\n",
       "      <th>marker_id</th>\n",
       "      <th>sign</th>\n",
       "      <th>area</th>\n",
       "      <th>streetid</th>\n",
       "      <th>streetname</th>\n",
       "      <th>betweenstreet1</th>\n",
       "      <th>...</th>\n",
       "      <th>vehicle_present</th>\n",
       "      <th>the_geom</th>\n",
       "      <th>bay_id</th>\n",
       "      <th>last_edit</th>\n",
       "      <th>rd_seg_id</th>\n",
       "      <th>rd_seg_dsc</th>\n",
       "      <th>meter_id</th>\n",
       "      <th>coordinates</th>\n",
       "      <th>long</th>\n",
       "      <th>lat</th>\n",
       "    </tr>\n",
       "  </thead>\n",
       "  <tbody>\n",
       "    <tr>\n",
       "      <th>0</th>\n",
       "      <td>21668</td>\n",
       "      <td>2017-11-13T13:08:02.000</td>\n",
       "      <td>2017-11-13T16:14:31.000</td>\n",
       "      <td>11189</td>\n",
       "      <td>8642E</td>\n",
       "      <td>3P TKT A M-F 7:30-18:30</td>\n",
       "      <td>Southbank</td>\n",
       "      <td>828</td>\n",
       "      <td>KAVANAGH STREET</td>\n",
       "      <td>BALSTON STREET</td>\n",
       "      <td>...</td>\n",
       "      <td>True</td>\n",
       "      <td>{'type': 'MultiPolygon', 'coordinates': [[[[14...</td>\n",
       "      <td>22717</td>\n",
       "      <td>20201208142107</td>\n",
       "      <td>22051</td>\n",
       "      <td>Kavanagh Street between Power Street and Balst...</td>\n",
       "      <td>NaN</td>\n",
       "      <td>[144.962619935411, -37.825585019738]</td>\n",
       "      <td>144.96262</td>\n",
       "      <td>-37.825585</td>\n",
       "    </tr>\n",
       "    <tr>\n",
       "      <th>1</th>\n",
       "      <td>21668</td>\n",
       "      <td>2017-06-14T10:15:43.000</td>\n",
       "      <td>2017-06-14T13:53:04.000</td>\n",
       "      <td>13041</td>\n",
       "      <td>8642E</td>\n",
       "      <td>3P TKT A M-F 7:30-18:30</td>\n",
       "      <td>Southbank</td>\n",
       "      <td>828</td>\n",
       "      <td>KAVANAGH STREET</td>\n",
       "      <td>BALSTON STREET</td>\n",
       "      <td>...</td>\n",
       "      <td>True</td>\n",
       "      <td>{'type': 'MultiPolygon', 'coordinates': [[[[14...</td>\n",
       "      <td>22717</td>\n",
       "      <td>20201208142107</td>\n",
       "      <td>22051</td>\n",
       "      <td>Kavanagh Street between Power Street and Balst...</td>\n",
       "      <td>NaN</td>\n",
       "      <td>[144.962619935411, -37.825585019738]</td>\n",
       "      <td>144.96262</td>\n",
       "      <td>-37.825585</td>\n",
       "    </tr>\n",
       "  </tbody>\n",
       "</table>\n",
       "<p>2 rows × 23 columns</p>\n",
       "</div>"
      ],
      "text/plain": [
       "  deviceid              arrivaltime            departuretime durationseconds  \\\n",
       "0    21668  2017-11-13T13:08:02.000  2017-11-13T16:14:31.000           11189   \n",
       "1    21668  2017-06-14T10:15:43.000  2017-06-14T13:53:04.000           13041   \n",
       "\n",
       "  marker_id                     sign       area streetid       streetname  \\\n",
       "0     8642E  3P TKT A M-F 7:30-18:30  Southbank      828  KAVANAGH STREET   \n",
       "1     8642E  3P TKT A M-F 7:30-18:30  Southbank      828  KAVANAGH STREET   \n",
       "\n",
       "   betweenstreet1  ... vehicle_present  \\\n",
       "0  BALSTON STREET  ...            True   \n",
       "1  BALSTON STREET  ...            True   \n",
       "\n",
       "                                            the_geom bay_id       last_edit  \\\n",
       "0  {'type': 'MultiPolygon', 'coordinates': [[[[14...  22717  20201208142107   \n",
       "1  {'type': 'MultiPolygon', 'coordinates': [[[[14...  22717  20201208142107   \n",
       "\n",
       "  rd_seg_id                                         rd_seg_dsc meter_id  \\\n",
       "0     22051  Kavanagh Street between Power Street and Balst...      NaN   \n",
       "1     22051  Kavanagh Street between Power Street and Balst...      NaN   \n",
       "\n",
       "                            coordinates       long        lat  \n",
       "0  [144.962619935411, -37.825585019738]  144.96262 -37.825585  \n",
       "1  [144.962619935411, -37.825585019738]  144.96262 -37.825585  \n",
       "\n",
       "[2 rows x 23 columns]"
      ]
     },
     "execution_count": 12,
     "metadata": {},
     "output_type": "execute_result"
    }
   ],
   "source": [
    "sensor_merge_location.head(2)"
   ]
  },
  {
   "cell_type": "code",
   "execution_count": 14,
   "metadata": {},
   "outputs": [],
   "source": [
    "Southbank_violations_interesting_columns = sensor_merge_location[['deviceid','arrivaltime','departuretime','durationseconds','marker_id','area','streetname','bay_id','long','lat']]"
   ]
  },
  {
   "cell_type": "code",
   "execution_count": 15,
   "metadata": {},
   "outputs": [
    {
     "data": {
      "text/html": [
       "<div>\n",
       "<style scoped>\n",
       "    .dataframe tbody tr th:only-of-type {\n",
       "        vertical-align: middle;\n",
       "    }\n",
       "\n",
       "    .dataframe tbody tr th {\n",
       "        vertical-align: top;\n",
       "    }\n",
       "\n",
       "    .dataframe thead th {\n",
       "        text-align: right;\n",
       "    }\n",
       "</style>\n",
       "<table border=\"1\" class=\"dataframe\">\n",
       "  <thead>\n",
       "    <tr style=\"text-align: right;\">\n",
       "      <th></th>\n",
       "      <th>deviceid</th>\n",
       "      <th>arrivaltime</th>\n",
       "      <th>departuretime</th>\n",
       "      <th>durationseconds</th>\n",
       "      <th>marker_id</th>\n",
       "      <th>area</th>\n",
       "      <th>streetname</th>\n",
       "      <th>bay_id</th>\n",
       "      <th>long</th>\n",
       "      <th>lat</th>\n",
       "    </tr>\n",
       "  </thead>\n",
       "  <tbody>\n",
       "    <tr>\n",
       "      <th>0</th>\n",
       "      <td>21668</td>\n",
       "      <td>2017-11-13T13:08:02.000</td>\n",
       "      <td>2017-11-13T16:14:31.000</td>\n",
       "      <td>11189</td>\n",
       "      <td>8642E</td>\n",
       "      <td>Southbank</td>\n",
       "      <td>KAVANAGH STREET</td>\n",
       "      <td>22717</td>\n",
       "      <td>144.96262</td>\n",
       "      <td>-37.825585</td>\n",
       "    </tr>\n",
       "    <tr>\n",
       "      <th>1</th>\n",
       "      <td>21668</td>\n",
       "      <td>2017-06-14T10:15:43.000</td>\n",
       "      <td>2017-06-14T13:53:04.000</td>\n",
       "      <td>13041</td>\n",
       "      <td>8642E</td>\n",
       "      <td>Southbank</td>\n",
       "      <td>KAVANAGH STREET</td>\n",
       "      <td>22717</td>\n",
       "      <td>144.96262</td>\n",
       "      <td>-37.825585</td>\n",
       "    </tr>\n",
       "    <tr>\n",
       "      <th>2</th>\n",
       "      <td>21668</td>\n",
       "      <td>2017-10-10T07:30:00.000</td>\n",
       "      <td>2017-10-10T18:30:00.000</td>\n",
       "      <td>39600</td>\n",
       "      <td>8642E</td>\n",
       "      <td>Southbank</td>\n",
       "      <td>KAVANAGH STREET</td>\n",
       "      <td>22717</td>\n",
       "      <td>144.96262</td>\n",
       "      <td>-37.825585</td>\n",
       "    </tr>\n",
       "    <tr>\n",
       "      <th>3</th>\n",
       "      <td>21668</td>\n",
       "      <td>2017-02-13T14:38:11.000</td>\n",
       "      <td>2017-02-13T18:30:00.000</td>\n",
       "      <td>13909</td>\n",
       "      <td>8642E</td>\n",
       "      <td>Southbank</td>\n",
       "      <td>KAVANAGH STREET</td>\n",
       "      <td>22717</td>\n",
       "      <td>144.96262</td>\n",
       "      <td>-37.825585</td>\n",
       "    </tr>\n",
       "    <tr>\n",
       "      <th>4</th>\n",
       "      <td>21668</td>\n",
       "      <td>2017-07-31T07:30:00.000</td>\n",
       "      <td>2017-07-31T10:52:35.000</td>\n",
       "      <td>12155</td>\n",
       "      <td>8642E</td>\n",
       "      <td>Southbank</td>\n",
       "      <td>KAVANAGH STREET</td>\n",
       "      <td>22717</td>\n",
       "      <td>144.96262</td>\n",
       "      <td>-37.825585</td>\n",
       "    </tr>\n",
       "  </tbody>\n",
       "</table>\n",
       "</div>"
      ],
      "text/plain": [
       "  deviceid              arrivaltime            departuretime durationseconds  \\\n",
       "0    21668  2017-11-13T13:08:02.000  2017-11-13T16:14:31.000           11189   \n",
       "1    21668  2017-06-14T10:15:43.000  2017-06-14T13:53:04.000           13041   \n",
       "2    21668  2017-10-10T07:30:00.000  2017-10-10T18:30:00.000           39600   \n",
       "3    21668  2017-02-13T14:38:11.000  2017-02-13T18:30:00.000           13909   \n",
       "4    21668  2017-07-31T07:30:00.000  2017-07-31T10:52:35.000           12155   \n",
       "\n",
       "  marker_id       area       streetname bay_id       long        lat  \n",
       "0     8642E  Southbank  KAVANAGH STREET  22717  144.96262 -37.825585  \n",
       "1     8642E  Southbank  KAVANAGH STREET  22717  144.96262 -37.825585  \n",
       "2     8642E  Southbank  KAVANAGH STREET  22717  144.96262 -37.825585  \n",
       "3     8642E  Southbank  KAVANAGH STREET  22717  144.96262 -37.825585  \n",
       "4     8642E  Southbank  KAVANAGH STREET  22717  144.96262 -37.825585  "
      ]
     },
     "execution_count": 15,
     "metadata": {},
     "output_type": "execute_result"
    }
   ],
   "source": [
    "Southbank_violations_interesting_columns.head(5)"
   ]
  },
  {
   "cell_type": "code",
   "execution_count": 44,
   "metadata": {},
   "outputs": [],
   "source": [
    "sensor_merge_location.to_csv('SouthbankViolations.csv')\n",
    "#export to csv to view in Tableau"
   ]
  },
  {
   "cell_type": "code",
   "execution_count": null,
   "metadata": {},
   "outputs": [],
   "source": []
  },
  {
   "cell_type": "code",
   "execution_count": null,
   "metadata": {},
   "outputs": [],
   "source": []
  },
  {
   "cell_type": "code",
   "execution_count": null,
   "metadata": {},
   "outputs": [],
   "source": []
  }
 ],
 "metadata": {
  "kernelspec": {
   "display_name": "Python 3",
   "language": "python",
   "name": "python3"
  },
  "language_info": {
   "codemirror_mode": {
    "name": "ipython",
    "version": 3
   },
   "file_extension": ".py",
   "mimetype": "text/x-python",
   "name": "python",
   "nbconvert_exporter": "python",
   "pygments_lexer": "ipython3",
   "version": "3.8.5"
  }
 },
 "nbformat": 4,
 "nbformat_minor": 4
}
