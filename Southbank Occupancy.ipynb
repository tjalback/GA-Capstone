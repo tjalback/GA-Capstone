{
 "cells": [
  {
   "cell_type": "markdown",
   "metadata": {},
   "source": [
    "# Southbank occupancy rates "
   ]
  },
  {
   "cell_type": "markdown",
   "metadata": {},
   "source": [
    "This notebook describes an approach to suggest removal of on-street car parks based on occupancy rate. \n",
    "To calculate to the total occupancy rate, the durationseconds column can be used to see how often each parking bay was used. \n",
    "It's not possible to run this over the whole data set so I have started by filtering by area = Soutbank. "
   ]
  },
  {
   "cell_type": "code",
   "execution_count": 4,
   "metadata": {},
   "outputs": [],
   "source": [
    "import missingno as msno\n",
    "# to see where nulls are"
   ]
  },
  {
   "cell_type": "code",
   "execution_count": 1,
   "metadata": {},
   "outputs": [],
   "source": [
    "import pandas as pd\n",
    "import numpy as np\n",
    "import requests\n",
    "from sodapy import Socrata\n",
    "import datetime as dt\n",
    "# need datetime to manipulate dates"
   ]
  },
  {
   "cell_type": "code",
   "execution_count": 2,
   "metadata": {},
   "outputs": [],
   "source": [
    "client = Socrata(\"data.melbourne.vic.gov.au\", \"RG1MLdEhMl8N8uP4WMDWLJ3Yz\")\n",
    "\n",
    "# Soutbank filter, with all parking instances: This is a big call so will take time to run ~2.7mil rows\n",
    "results = client.get(\"u9sa-j86i\", area='Southbank', limit=3000000)\n",
    "\n",
    "# Convert to pandas DataFrame\n",
    "sensor_df = pd.DataFrame.from_records(results)"
   ]
  },
  {
   "cell_type": "code",
   "execution_count": 5,
   "metadata": {},
   "outputs": [],
   "source": [
    "# All on-street parking bays: lat, long of parking bays\n",
    "results2 = client.get(\"wuf8-susg\", limit=30000)\n",
    "\n",
    "# Convert to pandas DataFrame\n",
    "location_df = pd.DataFrame.from_records(results2)"
   ]
  },
  {
   "cell_type": "code",
   "execution_count": null,
   "metadata": {},
   "outputs": [],
   "source": [
    "# if wanting to investigate restrictions dataset\n",
    "# All parking restrictions: extended info for restrictions\n",
    "# results3 = client.get(\"ntht-5rk7\", limit=4200)\n",
    "\n",
    "# Convert to pandas DataFrame\n",
    "# restriction_df = pd.DataFrame.from_records(results3)"
   ]
  },
  {
   "cell_type": "markdown",
   "metadata": {},
   "source": [
    "#### Prep sensor dataframe for analysis"
   ]
  },
  {
   "cell_type": "code",
   "execution_count": 8,
   "metadata": {},
   "outputs": [
    {
     "data": {
      "text/plain": [
       "(2734379, 14)"
      ]
     },
     "execution_count": 8,
     "metadata": {},
     "output_type": "execute_result"
    }
   ],
   "source": [
    "sensor_df.shape"
   ]
  },
  {
   "cell_type": "code",
   "execution_count": 9,
   "metadata": {},
   "outputs": [],
   "source": [
    "# only keep useful columns\n",
    "sensor_df = sensor_df[['arrivaltime', 'departuretime','durationseconds','streetmarker','in_violation']]"
   ]
  },
  {
   "cell_type": "code",
   "execution_count": 10,
   "metadata": {},
   "outputs": [
    {
     "data": {
      "text/html": [
       "<div>\n",
       "<style scoped>\n",
       "    .dataframe tbody tr th:only-of-type {\n",
       "        vertical-align: middle;\n",
       "    }\n",
       "\n",
       "    .dataframe tbody tr th {\n",
       "        vertical-align: top;\n",
       "    }\n",
       "\n",
       "    .dataframe thead th {\n",
       "        text-align: right;\n",
       "    }\n",
       "</style>\n",
       "<table border=\"1\" class=\"dataframe\">\n",
       "  <thead>\n",
       "    <tr style=\"text-align: right;\">\n",
       "      <th></th>\n",
       "      <th>arrivaltime</th>\n",
       "      <th>departuretime</th>\n",
       "      <th>durationseconds</th>\n",
       "      <th>streetmarker</th>\n",
       "      <th>in_violation</th>\n",
       "    </tr>\n",
       "  </thead>\n",
       "  <tbody>\n",
       "    <tr>\n",
       "      <th>0</th>\n",
       "      <td>2017-07-13T20:20:05.000</td>\n",
       "      <td>2017-07-13T22:46:33.000</td>\n",
       "      <td>8788</td>\n",
       "      <td>8668E</td>\n",
       "      <td>False</td>\n",
       "    </tr>\n",
       "    <tr>\n",
       "      <th>1</th>\n",
       "      <td>2017-04-21T13:12:01.000</td>\n",
       "      <td>2017-04-21T15:42:32.000</td>\n",
       "      <td>9031</td>\n",
       "      <td>8340E</td>\n",
       "      <td>False</td>\n",
       "    </tr>\n",
       "    <tr>\n",
       "      <th>2</th>\n",
       "      <td>2017-01-13T11:52:18.000</td>\n",
       "      <td>2017-01-13T12:02:09.000</td>\n",
       "      <td>591</td>\n",
       "      <td>9427S</td>\n",
       "      <td>False</td>\n",
       "    </tr>\n",
       "    <tr>\n",
       "      <th>3</th>\n",
       "      <td>2017-09-16T22:15:44.000</td>\n",
       "      <td>2017-09-16T22:21:06.000</td>\n",
       "      <td>322</td>\n",
       "      <td>9939S</td>\n",
       "      <td>False</td>\n",
       "    </tr>\n",
       "    <tr>\n",
       "      <th>4</th>\n",
       "      <td>2017-10-31T12:28:27.000</td>\n",
       "      <td>2017-10-31T12:29:04.000</td>\n",
       "      <td>37</td>\n",
       "      <td>10051S</td>\n",
       "      <td>False</td>\n",
       "    </tr>\n",
       "  </tbody>\n",
       "</table>\n",
       "</div>"
      ],
      "text/plain": [
       "               arrivaltime            departuretime durationseconds  \\\n",
       "0  2017-07-13T20:20:05.000  2017-07-13T22:46:33.000            8788   \n",
       "1  2017-04-21T13:12:01.000  2017-04-21T15:42:32.000            9031   \n",
       "2  2017-01-13T11:52:18.000  2017-01-13T12:02:09.000             591   \n",
       "3  2017-09-16T22:15:44.000  2017-09-16T22:21:06.000             322   \n",
       "4  2017-10-31T12:28:27.000  2017-10-31T12:29:04.000              37   \n",
       "\n",
       "  streetmarker in_violation  \n",
       "0        8668E        False  \n",
       "1        8340E        False  \n",
       "2        9427S        False  \n",
       "3        9939S        False  \n",
       "4       10051S        False  "
      ]
     },
     "execution_count": 10,
     "metadata": {},
     "output_type": "execute_result"
    }
   ],
   "source": [
    "sensor_df.head()"
   ]
  },
  {
   "cell_type": "code",
   "execution_count": 87,
   "metadata": {},
   "outputs": [
    {
     "data": {
      "text/plain": [
       "arrivaltime        0\n",
       "departuretime      0\n",
       "durationseconds    0\n",
       "streetmarker       0\n",
       "in_violation       0\n",
       "dtype: int64"
      ]
     },
     "execution_count": 87,
     "metadata": {},
     "output_type": "execute_result"
    }
   ],
   "source": [
    "sensor_df.isnull().sum()"
   ]
  },
  {
   "cell_type": "code",
   "execution_count": 88,
   "metadata": {},
   "outputs": [
    {
     "data": {
      "text/plain": [
       "arrivaltime        object\n",
       "departuretime      object\n",
       "durationseconds    object\n",
       "streetmarker       object\n",
       "in_violation       object\n",
       "dtype: object"
      ]
     },
     "execution_count": 88,
     "metadata": {},
     "output_type": "execute_result"
    }
   ],
   "source": [
    "sensor_df.dtypes\n",
    "# need to change to useful data types for math operations and date manipulation"
   ]
  },
  {
   "cell_type": "code",
   "execution_count": 11,
   "metadata": {},
   "outputs": [],
   "source": [
    "sensor_df['durationseconds'] = sensor_df['durationseconds'].astype(int)\n",
    "# have to change duration to integer to do any aggregate calcs"
   ]
  },
  {
   "cell_type": "code",
   "execution_count": 90,
   "metadata": {},
   "outputs": [
    {
     "data": {
      "text/plain": [
       "<bound method IndexOpsMixin.nunique of 0           8788\n",
       "1           9031\n",
       "2            591\n",
       "3            322\n",
       "4             37\n",
       "           ...  \n",
       "2734374     5234\n",
       "2734375    12594\n",
       "2734376      502\n",
       "2734377     6238\n",
       "2734378       32\n",
       "Name: durationseconds, Length: 2734379, dtype: int32>"
      ]
     },
     "execution_count": 90,
     "metadata": {},
     "output_type": "execute_result"
    }
   ],
   "source": [
    "sensor_df['durationseconds'].nunique"
   ]
  },
  {
   "cell_type": "code",
   "execution_count": 91,
   "metadata": {},
   "outputs": [
    {
     "data": {
      "text/plain": [
       "<bound method Series.unique of 1575067       -3473\n",
       "1585840       -3027\n",
       "2357926       -2817\n",
       "306193        -2725\n",
       "1032766       -2449\n",
       "             ...   \n",
       "578574     28988177\n",
       "1978770    28988373\n",
       "791390     28998611\n",
       "683535     28999478\n",
       "1998067    28999905\n",
       "Name: durationseconds, Length: 2734379, dtype: int32>"
      ]
     },
     "execution_count": 91,
     "metadata": {},
     "output_type": "execute_result"
    }
   ],
   "source": [
    "sensor_df['durationseconds'].sort_values().unique"
   ]
  },
  {
   "cell_type": "code",
   "execution_count": 92,
   "metadata": {},
   "outputs": [],
   "source": [
    "# on 2017 sensor data website, there is a note under known data issues: some durations have negative numbers due to sensors\n",
    "# detecting an arrival time after a vehicle has departed. These -ve numbers can be removed."
   ]
  },
  {
   "cell_type": "code",
   "execution_count": 14,
   "metadata": {},
   "outputs": [],
   "source": [
    "sensor_df = sensor_df[(sensor_df['durationseconds'] >= 0)]\n",
    "# keep everything greater than or equal to 0, remove -ve numbers"
   ]
  },
  {
   "cell_type": "code",
   "execution_count": 94,
   "metadata": {},
   "outputs": [
    {
     "data": {
      "text/plain": [
       "(2734360, 5)"
      ]
     },
     "execution_count": 94,
     "metadata": {},
     "output_type": "execute_result"
    }
   ],
   "source": [
    "sensor_df.shape"
   ]
  },
  {
   "cell_type": "code",
   "execution_count": 15,
   "metadata": {},
   "outputs": [
    {
     "data": {
      "text/plain": [
       "<bound method Series.unique of 2508935           0\n",
       "462920            0\n",
       "1307032           0\n",
       "2291717           0\n",
       "32550             0\n",
       "             ...   \n",
       "578574     28988177\n",
       "1978770    28988373\n",
       "791390     28998611\n",
       "683535     28999478\n",
       "1998067    28999905\n",
       "Name: durationseconds, Length: 2734360, dtype: int32>"
      ]
     },
     "execution_count": 15,
     "metadata": {},
     "output_type": "execute_result"
    }
   ],
   "source": [
    "sensor_df['durationseconds'].sort_values().unique"
   ]
  },
  {
   "cell_type": "markdown",
   "metadata": {},
   "source": [
    "#### Group by and calculate occupancy rate"
   ]
  },
  {
   "cell_type": "code",
   "execution_count": 16,
   "metadata": {},
   "outputs": [],
   "source": [
    "southbank_groupby = sensor_df.groupby(['streetmarker']).agg(max_duration=('durationseconds', max),\\\n",
    "    min_duration=('durationseconds', min), total_duration=('durationseconds', sum), \\\n",
    "    annual_occupancy=('durationseconds', lambda x: ((sum(x))/31536000)))\n",
    "# this groupby gives the output below\n",
    "# the occupancy rate calculation is the sum of all the durations for each parking instance in 2017 / total seconds in a year\n",
    "# number seconds in a year = 31536000"
   ]
  },
  {
   "cell_type": "code",
   "execution_count": 17,
   "metadata": {},
   "outputs": [
    {
     "data": {
      "text/html": [
       "<div>\n",
       "<style scoped>\n",
       "    .dataframe tbody tr th:only-of-type {\n",
       "        vertical-align: middle;\n",
       "    }\n",
       "\n",
       "    .dataframe tbody tr th {\n",
       "        vertical-align: top;\n",
       "    }\n",
       "\n",
       "    .dataframe thead th {\n",
       "        text-align: right;\n",
       "    }\n",
       "</style>\n",
       "<table border=\"1\" class=\"dataframe\">\n",
       "  <thead>\n",
       "    <tr style=\"text-align: right;\">\n",
       "      <th></th>\n",
       "      <th>max_duration</th>\n",
       "      <th>min_duration</th>\n",
       "      <th>total_duration</th>\n",
       "      <th>annual_occupancy</th>\n",
       "    </tr>\n",
       "    <tr>\n",
       "      <th>streetmarker</th>\n",
       "      <th></th>\n",
       "      <th></th>\n",
       "      <th></th>\n",
       "      <th></th>\n",
       "    </tr>\n",
       "  </thead>\n",
       "  <tbody>\n",
       "    <tr>\n",
       "      <th>9138N</th>\n",
       "      <td>21145312</td>\n",
       "      <td>0</td>\n",
       "      <td>3.227753e+10</td>\n",
       "      <td>1023.513732</td>\n",
       "    </tr>\n",
       "    <tr>\n",
       "      <th>8000E</th>\n",
       "      <td>28999905</td>\n",
       "      <td>0</td>\n",
       "      <td>5.877521e+09</td>\n",
       "      <td>186.374961</td>\n",
       "    </tr>\n",
       "    <tr>\n",
       "      <th>8015W</th>\n",
       "      <td>4308718</td>\n",
       "      <td>0</td>\n",
       "      <td>3.342147e+07</td>\n",
       "      <td>1.059788</td>\n",
       "    </tr>\n",
       "    <tr>\n",
       "      <th>9824N</th>\n",
       "      <td>39600</td>\n",
       "      <td>0</td>\n",
       "      <td>3.141170e+07</td>\n",
       "      <td>0.996058</td>\n",
       "    </tr>\n",
       "    <tr>\n",
       "      <th>9830N</th>\n",
       "      <td>39600</td>\n",
       "      <td>6</td>\n",
       "      <td>3.136737e+07</td>\n",
       "      <td>0.994653</td>\n",
       "    </tr>\n",
       "    <tr>\n",
       "      <th>10034N</th>\n",
       "      <td>62044</td>\n",
       "      <td>0</td>\n",
       "      <td>3.133519e+07</td>\n",
       "      <td>0.993632</td>\n",
       "    </tr>\n",
       "    <tr>\n",
       "      <th>9826N</th>\n",
       "      <td>37788</td>\n",
       "      <td>3</td>\n",
       "      <td>3.132758e+07</td>\n",
       "      <td>0.993391</td>\n",
       "    </tr>\n",
       "    <tr>\n",
       "      <th>8346E</th>\n",
       "      <td>86136</td>\n",
       "      <td>0</td>\n",
       "      <td>3.132433e+07</td>\n",
       "      <td>0.993288</td>\n",
       "    </tr>\n",
       "    <tr>\n",
       "      <th>9956N</th>\n",
       "      <td>39600</td>\n",
       "      <td>4</td>\n",
       "      <td>3.131894e+07</td>\n",
       "      <td>0.993117</td>\n",
       "    </tr>\n",
       "    <tr>\n",
       "      <th>9828N</th>\n",
       "      <td>39600</td>\n",
       "      <td>2</td>\n",
       "      <td>3.130739e+07</td>\n",
       "      <td>0.992751</td>\n",
       "    </tr>\n",
       "  </tbody>\n",
       "</table>\n",
       "</div>"
      ],
      "text/plain": [
       "              max_duration  min_duration  total_duration  annual_occupancy\n",
       "streetmarker                                                              \n",
       "9138N             21145312             0    3.227753e+10       1023.513732\n",
       "8000E             28999905             0    5.877521e+09        186.374961\n",
       "8015W              4308718             0    3.342147e+07          1.059788\n",
       "9824N                39600             0    3.141170e+07          0.996058\n",
       "9830N                39600             6    3.136737e+07          0.994653\n",
       "10034N               62044             0    3.133519e+07          0.993632\n",
       "9826N                37788             3    3.132758e+07          0.993391\n",
       "8346E                86136             0    3.132433e+07          0.993288\n",
       "9956N                39600             4    3.131894e+07          0.993117\n",
       "9828N                39600             2    3.130739e+07          0.992751"
      ]
     },
     "execution_count": 17,
     "metadata": {},
     "output_type": "execute_result"
    }
   ],
   "source": [
    "southbank_groupby.sort_values(by = 'annual_occupancy', ascending = False).head(10)"
   ]
  },
  {
   "cell_type": "markdown",
   "metadata": {},
   "source": [
    "#### Investigate why top 3 results are off the scale"
   ]
  },
  {
   "cell_type": "code",
   "execution_count": 98,
   "metadata": {},
   "outputs": [],
   "source": [
    "check_mask = sensor_df['streetmarker'] == '9138N'"
   ]
  },
  {
   "cell_type": "code",
   "execution_count": 99,
   "metadata": {},
   "outputs": [],
   "source": [
    "check_mask_9138N = sensor_df[check_mask]"
   ]
  },
  {
   "cell_type": "code",
   "execution_count": 100,
   "metadata": {},
   "outputs": [
    {
     "data": {
      "text/plain": [
       "2483"
      ]
     },
     "execution_count": 100,
     "metadata": {},
     "output_type": "execute_result"
    }
   ],
   "source": [
    "check_mask_9138N.shape[0]"
   ]
  },
  {
   "cell_type": "code",
   "execution_count": 101,
   "metadata": {},
   "outputs": [
    {
     "data": {
      "text/html": [
       "<div>\n",
       "<style scoped>\n",
       "    .dataframe tbody tr th:only-of-type {\n",
       "        vertical-align: middle;\n",
       "    }\n",
       "\n",
       "    .dataframe tbody tr th {\n",
       "        vertical-align: top;\n",
       "    }\n",
       "\n",
       "    .dataframe thead th {\n",
       "        text-align: right;\n",
       "    }\n",
       "</style>\n",
       "<table border=\"1\" class=\"dataframe\">\n",
       "  <thead>\n",
       "    <tr style=\"text-align: right;\">\n",
       "      <th></th>\n",
       "      <th>arrivaltime</th>\n",
       "      <th>departuretime</th>\n",
       "      <th>durationseconds</th>\n",
       "      <th>streetmarker</th>\n",
       "      <th>in_violation</th>\n",
       "    </tr>\n",
       "  </thead>\n",
       "  <tbody>\n",
       "    <tr>\n",
       "      <th>2685893</th>\n",
       "      <td>2017-03-24T13:47:08.000</td>\n",
       "      <td>2017-11-24T07:29:00.000</td>\n",
       "      <td>21145312</td>\n",
       "      <td>9138N</td>\n",
       "      <td>False</td>\n",
       "    </tr>\n",
       "    <tr>\n",
       "      <th>516096</th>\n",
       "      <td>2017-03-24T15:25:01.000</td>\n",
       "      <td>2017-11-24T08:03:42.000</td>\n",
       "      <td>21141521</td>\n",
       "      <td>9138N</td>\n",
       "      <td>False</td>\n",
       "    </tr>\n",
       "    <tr>\n",
       "      <th>1978548</th>\n",
       "      <td>2017-03-24T15:19:58.000</td>\n",
       "      <td>2017-11-24T07:31:43.000</td>\n",
       "      <td>21139905</td>\n",
       "      <td>9138N</td>\n",
       "      <td>False</td>\n",
       "    </tr>\n",
       "    <tr>\n",
       "      <th>647763</th>\n",
       "      <td>2017-03-24T17:03:01.000</td>\n",
       "      <td>2017-11-24T08:28:01.000</td>\n",
       "      <td>21137100</td>\n",
       "      <td>9138N</td>\n",
       "      <td>False</td>\n",
       "    </tr>\n",
       "    <tr>\n",
       "      <th>997658</th>\n",
       "      <td>2017-03-24T16:53:43.000</td>\n",
       "      <td>2017-11-24T08:09:54.000</td>\n",
       "      <td>21136571</td>\n",
       "      <td>9138N</td>\n",
       "      <td>False</td>\n",
       "    </tr>\n",
       "    <tr>\n",
       "      <th>766633</th>\n",
       "      <td>2017-03-24T18:30:25.000</td>\n",
       "      <td>2017-11-24T09:20:01.000</td>\n",
       "      <td>21134976</td>\n",
       "      <td>9138N</td>\n",
       "      <td>False</td>\n",
       "    </tr>\n",
       "    <tr>\n",
       "      <th>1745320</th>\n",
       "      <td>2017-03-24T18:18:51.000</td>\n",
       "      <td>2017-11-24T08:51:52.000</td>\n",
       "      <td>21133981</td>\n",
       "      <td>9138N</td>\n",
       "      <td>False</td>\n",
       "    </tr>\n",
       "    <tr>\n",
       "      <th>135</th>\n",
       "      <td>2017-03-24T18:16:25.000</td>\n",
       "      <td>2017-11-24T08:29:28.000</td>\n",
       "      <td>21132783</td>\n",
       "      <td>9138N</td>\n",
       "      <td>False</td>\n",
       "    </tr>\n",
       "    <tr>\n",
       "      <th>2107529</th>\n",
       "      <td>2017-03-24T23:08:41.000</td>\n",
       "      <td>2017-11-24T12:07:17.000</td>\n",
       "      <td>21128316</td>\n",
       "      <td>9138N</td>\n",
       "      <td>False</td>\n",
       "    </tr>\n",
       "    <tr>\n",
       "      <th>939162</th>\n",
       "      <td>2017-03-24T11:10:31.000</td>\n",
       "      <td>2017-11-24T00:00:00.000</td>\n",
       "      <td>21127769</td>\n",
       "      <td>9138N</td>\n",
       "      <td>False</td>\n",
       "    </tr>\n",
       "  </tbody>\n",
       "</table>\n",
       "</div>"
      ],
      "text/plain": [
       "                     arrivaltime            departuretime  durationseconds  \\\n",
       "2685893  2017-03-24T13:47:08.000  2017-11-24T07:29:00.000         21145312   \n",
       "516096   2017-03-24T15:25:01.000  2017-11-24T08:03:42.000         21141521   \n",
       "1978548  2017-03-24T15:19:58.000  2017-11-24T07:31:43.000         21139905   \n",
       "647763   2017-03-24T17:03:01.000  2017-11-24T08:28:01.000         21137100   \n",
       "997658   2017-03-24T16:53:43.000  2017-11-24T08:09:54.000         21136571   \n",
       "766633   2017-03-24T18:30:25.000  2017-11-24T09:20:01.000         21134976   \n",
       "1745320  2017-03-24T18:18:51.000  2017-11-24T08:51:52.000         21133981   \n",
       "135      2017-03-24T18:16:25.000  2017-11-24T08:29:28.000         21132783   \n",
       "2107529  2017-03-24T23:08:41.000  2017-11-24T12:07:17.000         21128316   \n",
       "939162   2017-03-24T11:10:31.000  2017-11-24T00:00:00.000         21127769   \n",
       "\n",
       "        streetmarker in_violation  \n",
       "2685893        9138N        False  \n",
       "516096         9138N        False  \n",
       "1978548        9138N        False  \n",
       "647763         9138N        False  \n",
       "997658         9138N        False  \n",
       "766633         9138N        False  \n",
       "1745320        9138N        False  \n",
       "135            9138N        False  \n",
       "2107529        9138N        False  \n",
       "939162         9138N        False  "
      ]
     },
     "execution_count": 101,
     "metadata": {},
     "output_type": "execute_result"
    }
   ],
   "source": [
    "check_mask_9138N.sort_values(by = 'durationseconds', ascending = False).head(10)"
   ]
  },
  {
   "cell_type": "code",
   "execution_count": 102,
   "metadata": {},
   "outputs": [
    {
     "data": {
      "text/plain": [
       "0.6705134449518011"
      ]
     },
     "execution_count": 102,
     "metadata": {},
     "output_type": "execute_result"
    }
   ],
   "source": [
    "21145312/31536000\n",
    "# multiple very high duration parking instances recorded at the same time. Can remove this streetmarker from the analysis\n",
    "# due to likely sensor error"
   ]
  },
  {
   "cell_type": "code",
   "execution_count": 103,
   "metadata": {},
   "outputs": [],
   "source": [
    "check_mask1 = sensor_df['streetmarker'] == '8000E'"
   ]
  },
  {
   "cell_type": "code",
   "execution_count": 104,
   "metadata": {},
   "outputs": [],
   "source": [
    "check_mask_8000E = sensor_df[check_mask1]"
   ]
  },
  {
   "cell_type": "code",
   "execution_count": 105,
   "metadata": {},
   "outputs": [
    {
     "data": {
      "text/plain": [
       "6159"
      ]
     },
     "execution_count": 105,
     "metadata": {},
     "output_type": "execute_result"
    }
   ],
   "source": [
    "check_mask_8000E.shape[0]"
   ]
  },
  {
   "cell_type": "code",
   "execution_count": 106,
   "metadata": {},
   "outputs": [
    {
     "data": {
      "text/html": [
       "<div>\n",
       "<style scoped>\n",
       "    .dataframe tbody tr th:only-of-type {\n",
       "        vertical-align: middle;\n",
       "    }\n",
       "\n",
       "    .dataframe tbody tr th {\n",
       "        vertical-align: top;\n",
       "    }\n",
       "\n",
       "    .dataframe thead th {\n",
       "        text-align: right;\n",
       "    }\n",
       "</style>\n",
       "<table border=\"1\" class=\"dataframe\">\n",
       "  <thead>\n",
       "    <tr style=\"text-align: right;\">\n",
       "      <th></th>\n",
       "      <th>arrivaltime</th>\n",
       "      <th>departuretime</th>\n",
       "      <th>durationseconds</th>\n",
       "      <th>streetmarker</th>\n",
       "      <th>in_violation</th>\n",
       "    </tr>\n",
       "  </thead>\n",
       "  <tbody>\n",
       "    <tr>\n",
       "      <th>1998067</th>\n",
       "      <td>2017-01-29T18:39:57.000</td>\n",
       "      <td>2017-12-31T10:11:42.000</td>\n",
       "      <td>28999905</td>\n",
       "      <td>8000E</td>\n",
       "      <td>False</td>\n",
       "    </tr>\n",
       "    <tr>\n",
       "      <th>683535</th>\n",
       "      <td>2017-01-29T18:21:07.000</td>\n",
       "      <td>2017-12-31T09:45:45.000</td>\n",
       "      <td>28999478</td>\n",
       "      <td>8000E</td>\n",
       "      <td>False</td>\n",
       "    </tr>\n",
       "    <tr>\n",
       "      <th>791390</th>\n",
       "      <td>2017-01-29T18:38:37.000</td>\n",
       "      <td>2017-12-31T09:48:48.000</td>\n",
       "      <td>28998611</td>\n",
       "      <td>8000E</td>\n",
       "      <td>False</td>\n",
       "    </tr>\n",
       "    <tr>\n",
       "      <th>1978770</th>\n",
       "      <td>2017-01-30T09:49:15.000</td>\n",
       "      <td>2017-12-31T22:08:48.000</td>\n",
       "      <td>28988373</td>\n",
       "      <td>8000E</td>\n",
       "      <td>False</td>\n",
       "    </tr>\n",
       "    <tr>\n",
       "      <th>578574</th>\n",
       "      <td>2017-01-30T09:48:10.000</td>\n",
       "      <td>2017-12-31T22:04:27.000</td>\n",
       "      <td>28988177</td>\n",
       "      <td>8000E</td>\n",
       "      <td>False</td>\n",
       "    </tr>\n",
       "    <tr>\n",
       "      <th>401334</th>\n",
       "      <td>2017-01-30T10:03:35.000</td>\n",
       "      <td>2017-12-31T22:10:10.000</td>\n",
       "      <td>28987595</td>\n",
       "      <td>8000E</td>\n",
       "      <td>False</td>\n",
       "    </tr>\n",
       "    <tr>\n",
       "      <th>700972</th>\n",
       "      <td>2017-01-30T00:00:00.000</td>\n",
       "      <td>2017-12-31T11:33:43.000</td>\n",
       "      <td>28985623</td>\n",
       "      <td>8000E</td>\n",
       "      <td>False</td>\n",
       "    </tr>\n",
       "    <tr>\n",
       "      <th>287983</th>\n",
       "      <td>2017-01-30T09:45:20.000</td>\n",
       "      <td>2017-12-31T20:01:59.000</td>\n",
       "      <td>28980999</td>\n",
       "      <td>8000E</td>\n",
       "      <td>False</td>\n",
       "    </tr>\n",
       "    <tr>\n",
       "      <th>1951331</th>\n",
       "      <td>2017-01-30T05:34:54.000</td>\n",
       "      <td>2017-12-31T11:46:22.000</td>\n",
       "      <td>28966288</td>\n",
       "      <td>8000E</td>\n",
       "      <td>False</td>\n",
       "    </tr>\n",
       "    <tr>\n",
       "      <th>53698</th>\n",
       "      <td>2017-01-30T05:32:24.000</td>\n",
       "      <td>2017-12-31T11:43:50.000</td>\n",
       "      <td>28966286</td>\n",
       "      <td>8000E</td>\n",
       "      <td>False</td>\n",
       "    </tr>\n",
       "  </tbody>\n",
       "</table>\n",
       "</div>"
      ],
      "text/plain": [
       "                     arrivaltime            departuretime  durationseconds  \\\n",
       "1998067  2017-01-29T18:39:57.000  2017-12-31T10:11:42.000         28999905   \n",
       "683535   2017-01-29T18:21:07.000  2017-12-31T09:45:45.000         28999478   \n",
       "791390   2017-01-29T18:38:37.000  2017-12-31T09:48:48.000         28998611   \n",
       "1978770  2017-01-30T09:49:15.000  2017-12-31T22:08:48.000         28988373   \n",
       "578574   2017-01-30T09:48:10.000  2017-12-31T22:04:27.000         28988177   \n",
       "401334   2017-01-30T10:03:35.000  2017-12-31T22:10:10.000         28987595   \n",
       "700972   2017-01-30T00:00:00.000  2017-12-31T11:33:43.000         28985623   \n",
       "287983   2017-01-30T09:45:20.000  2017-12-31T20:01:59.000         28980999   \n",
       "1951331  2017-01-30T05:34:54.000  2017-12-31T11:46:22.000         28966288   \n",
       "53698    2017-01-30T05:32:24.000  2017-12-31T11:43:50.000         28966286   \n",
       "\n",
       "        streetmarker in_violation  \n",
       "1998067        8000E        False  \n",
       "683535         8000E        False  \n",
       "791390         8000E        False  \n",
       "1978770        8000E        False  \n",
       "578574         8000E        False  \n",
       "401334         8000E        False  \n",
       "700972         8000E        False  \n",
       "287983         8000E        False  \n",
       "1951331        8000E        False  \n",
       "53698          8000E        False  "
      ]
     },
     "execution_count": 106,
     "metadata": {},
     "output_type": "execute_result"
    }
   ],
   "source": [
    "check_mask_8000E.sort_values(by = 'durationseconds', ascending = False).head(10)"
   ]
  },
  {
   "cell_type": "code",
   "execution_count": 107,
   "metadata": {},
   "outputs": [],
   "source": [
    "check_mask2 = sensor_df['streetmarker'] == '8015W'"
   ]
  },
  {
   "cell_type": "code",
   "execution_count": 108,
   "metadata": {},
   "outputs": [],
   "source": [
    "check_mask_8015W = sensor_df[check_mask2]"
   ]
  },
  {
   "cell_type": "code",
   "execution_count": 109,
   "metadata": {},
   "outputs": [
    {
     "data": {
      "text/plain": [
       "4458"
      ]
     },
     "execution_count": 109,
     "metadata": {},
     "output_type": "execute_result"
    }
   ],
   "source": [
    "check_mask_8015W.shape[0]"
   ]
  },
  {
   "cell_type": "code",
   "execution_count": 110,
   "metadata": {},
   "outputs": [
    {
     "data": {
      "text/html": [
       "<div>\n",
       "<style scoped>\n",
       "    .dataframe tbody tr th:only-of-type {\n",
       "        vertical-align: middle;\n",
       "    }\n",
       "\n",
       "    .dataframe tbody tr th {\n",
       "        vertical-align: top;\n",
       "    }\n",
       "\n",
       "    .dataframe thead th {\n",
       "        text-align: right;\n",
       "    }\n",
       "</style>\n",
       "<table border=\"1\" class=\"dataframe\">\n",
       "  <thead>\n",
       "    <tr style=\"text-align: right;\">\n",
       "      <th></th>\n",
       "      <th>arrivaltime</th>\n",
       "      <th>departuretime</th>\n",
       "      <th>durationseconds</th>\n",
       "      <th>streetmarker</th>\n",
       "      <th>in_violation</th>\n",
       "    </tr>\n",
       "  </thead>\n",
       "  <tbody>\n",
       "    <tr>\n",
       "      <th>1685292</th>\n",
       "      <td>2017-06-02T19:52:20.000</td>\n",
       "      <td>2017-07-22T16:44:18.000</td>\n",
       "      <td>4308718</td>\n",
       "      <td>8015W</td>\n",
       "      <td>False</td>\n",
       "    </tr>\n",
       "    <tr>\n",
       "      <th>1294461</th>\n",
       "      <td>2017-07-16T00:00:00.000</td>\n",
       "      <td>2017-07-17T00:00:00.000</td>\n",
       "      <td>86400</td>\n",
       "      <td>8015W</td>\n",
       "      <td>False</td>\n",
       "    </tr>\n",
       "    <tr>\n",
       "      <th>2252222</th>\n",
       "      <td>2017-12-10T00:00:00.000</td>\n",
       "      <td>2017-12-11T00:00:00.000</td>\n",
       "      <td>86400</td>\n",
       "      <td>8015W</td>\n",
       "      <td>False</td>\n",
       "    </tr>\n",
       "    <tr>\n",
       "      <th>2248135</th>\n",
       "      <td>2017-11-25T00:00:00.000</td>\n",
       "      <td>2017-11-26T00:00:00.000</td>\n",
       "      <td>86400</td>\n",
       "      <td>8015W</td>\n",
       "      <td>False</td>\n",
       "    </tr>\n",
       "    <tr>\n",
       "      <th>60922</th>\n",
       "      <td>2017-04-08T00:00:00.000</td>\n",
       "      <td>2017-04-09T00:00:00.000</td>\n",
       "      <td>86400</td>\n",
       "      <td>8015W</td>\n",
       "      <td>False</td>\n",
       "    </tr>\n",
       "    <tr>\n",
       "      <th>394179</th>\n",
       "      <td>2017-02-05T00:00:00.000</td>\n",
       "      <td>2017-02-06T00:00:00.000</td>\n",
       "      <td>86400</td>\n",
       "      <td>8015W</td>\n",
       "      <td>False</td>\n",
       "    </tr>\n",
       "    <tr>\n",
       "      <th>2582355</th>\n",
       "      <td>2017-08-27T00:00:00.000</td>\n",
       "      <td>2017-08-28T00:00:00.000</td>\n",
       "      <td>86400</td>\n",
       "      <td>8015W</td>\n",
       "      <td>False</td>\n",
       "    </tr>\n",
       "    <tr>\n",
       "      <th>1669210</th>\n",
       "      <td>2017-11-26T00:00:00.000</td>\n",
       "      <td>2017-11-27T00:00:00.000</td>\n",
       "      <td>86400</td>\n",
       "      <td>8015W</td>\n",
       "      <td>False</td>\n",
       "    </tr>\n",
       "    <tr>\n",
       "      <th>1359344</th>\n",
       "      <td>2017-04-09T00:00:00.000</td>\n",
       "      <td>2017-04-10T00:00:00.000</td>\n",
       "      <td>86400</td>\n",
       "      <td>8015W</td>\n",
       "      <td>False</td>\n",
       "    </tr>\n",
       "    <tr>\n",
       "      <th>1529849</th>\n",
       "      <td>2017-12-23T00:00:00.000</td>\n",
       "      <td>2017-12-24T00:00:00.000</td>\n",
       "      <td>86400</td>\n",
       "      <td>8015W</td>\n",
       "      <td>False</td>\n",
       "    </tr>\n",
       "  </tbody>\n",
       "</table>\n",
       "</div>"
      ],
      "text/plain": [
       "                     arrivaltime            departuretime  durationseconds  \\\n",
       "1685292  2017-06-02T19:52:20.000  2017-07-22T16:44:18.000          4308718   \n",
       "1294461  2017-07-16T00:00:00.000  2017-07-17T00:00:00.000            86400   \n",
       "2252222  2017-12-10T00:00:00.000  2017-12-11T00:00:00.000            86400   \n",
       "2248135  2017-11-25T00:00:00.000  2017-11-26T00:00:00.000            86400   \n",
       "60922    2017-04-08T00:00:00.000  2017-04-09T00:00:00.000            86400   \n",
       "394179   2017-02-05T00:00:00.000  2017-02-06T00:00:00.000            86400   \n",
       "2582355  2017-08-27T00:00:00.000  2017-08-28T00:00:00.000            86400   \n",
       "1669210  2017-11-26T00:00:00.000  2017-11-27T00:00:00.000            86400   \n",
       "1359344  2017-04-09T00:00:00.000  2017-04-10T00:00:00.000            86400   \n",
       "1529849  2017-12-23T00:00:00.000  2017-12-24T00:00:00.000            86400   \n",
       "\n",
       "        streetmarker in_violation  \n",
       "1685292        8015W        False  \n",
       "1294461        8015W        False  \n",
       "2252222        8015W        False  \n",
       "2248135        8015W        False  \n",
       "60922          8015W        False  \n",
       "394179         8015W        False  \n",
       "2582355        8015W        False  \n",
       "1669210        8015W        False  \n",
       "1359344        8015W        False  \n",
       "1529849        8015W        False  "
      ]
     },
     "execution_count": 110,
     "metadata": {},
     "output_type": "execute_result"
    }
   ],
   "source": [
    "check_mask_8015W.sort_values(by = 'durationseconds', ascending = False).head(10)"
   ]
  },
  {
   "cell_type": "code",
   "execution_count": 111,
   "metadata": {},
   "outputs": [
    {
     "data": {
      "text/plain": [
       "0.1366285514967022"
      ]
     },
     "execution_count": 111,
     "metadata": {},
     "output_type": "execute_result"
    }
   ],
   "source": [
    "4308718/31536000\n",
    "# this first entry is unusually high compared to other max values. It's likely this is contributing to \n",
    "# the occupancy rate for the year being over 100%"
   ]
  },
  {
   "cell_type": "markdown",
   "metadata": {},
   "source": [
    "#### remove three streetmarkers as outliers "
   ]
  },
  {
   "cell_type": "code",
   "execution_count": 127,
   "metadata": {},
   "outputs": [
    {
     "data": {
      "text/plain": [
       "(2734360, 5)"
      ]
     },
     "execution_count": 127,
     "metadata": {},
     "output_type": "execute_result"
    }
   ],
   "source": [
    "sensor_df.shape"
   ]
  },
  {
   "cell_type": "code",
   "execution_count": 18,
   "metadata": {},
   "outputs": [],
   "source": [
    "# Get indexes where name column has value \n",
    "indexNames = sensor_df[sensor_df['streetmarker'] == '9138N'].index\n",
    " \n",
    "# Delete these row indexes from dataFrame\n",
    "sensor_df.drop(indexNames , inplace=True)"
   ]
  },
  {
   "cell_type": "code",
   "execution_count": 19,
   "metadata": {},
   "outputs": [],
   "source": [
    "# Get indexes where name column has value \n",
    "indexNames = sensor_df[sensor_df['streetmarker'] == '8000E'].index\n",
    " \n",
    "# Delete these row indexes from dataFrame\n",
    "sensor_df.drop(indexNames , inplace=True)"
   ]
  },
  {
   "cell_type": "code",
   "execution_count": 20,
   "metadata": {},
   "outputs": [],
   "source": [
    "# Get indexes where name column has value \n",
    "indexNames = sensor_df[sensor_df['streetmarker'] == '8015W'].index\n",
    " \n",
    "# Delete these row indexes from dataFrame\n",
    "sensor_df.drop(indexNames , inplace=True)"
   ]
  },
  {
   "cell_type": "code",
   "execution_count": 21,
   "metadata": {},
   "outputs": [
    {
     "data": {
      "text/plain": [
       "(2721260, 5)"
      ]
     },
     "execution_count": 21,
     "metadata": {},
     "output_type": "execute_result"
    }
   ],
   "source": [
    "sensor_df.shape"
   ]
  },
  {
   "cell_type": "code",
   "execution_count": 134,
   "metadata": {},
   "outputs": [],
   "source": [
    "# check if rows have been removed properly\n",
    "sum_rows_to_remove = check_mask_9138N.shape[0] + check_mask_8000E.shape[0] + check_mask_8015W.shape[0]"
   ]
  },
  {
   "cell_type": "code",
   "execution_count": 136,
   "metadata": {},
   "outputs": [
    {
     "data": {
      "text/plain": [
       "13100"
      ]
     },
     "execution_count": 136,
     "metadata": {},
     "output_type": "execute_result"
    }
   ],
   "source": [
    "sum_rows_to_remove"
   ]
  },
  {
   "cell_type": "code",
   "execution_count": 138,
   "metadata": {},
   "outputs": [
    {
     "data": {
      "text/plain": [
       "2721260"
      ]
     },
     "execution_count": 138,
     "metadata": {},
     "output_type": "execute_result"
    }
   ],
   "source": [
    "2734360 - sum_rows_to_remove\n",
    "# old df row - sum of rows of streetmarkers removed --> It equals new dataframe so we know correct rows have been removed"
   ]
  },
  {
   "cell_type": "code",
   "execution_count": 139,
   "metadata": {},
   "outputs": [
    {
     "data": {
      "text/plain": [
       "(2721260, 5)"
      ]
     },
     "execution_count": 139,
     "metadata": {},
     "output_type": "execute_result"
    }
   ],
   "source": [
    "sensor_df.shape"
   ]
  },
  {
   "cell_type": "code",
   "execution_count": 22,
   "metadata": {},
   "outputs": [],
   "source": [
    "#rerun groupby on cleaned sensor_df\n",
    "southbank_groupby = sensor_df.groupby(['streetmarker']).agg(max_duration=('durationseconds', max),\\\n",
    "    min_duration=('durationseconds', min), total_duration=('durationseconds', sum), \\\n",
    "    annual_occupancy=('durationseconds', lambda x: ((sum(x))/31536000)))"
   ]
  },
  {
   "cell_type": "code",
   "execution_count": 23,
   "metadata": {},
   "outputs": [
    {
     "data": {
      "text/html": [
       "<div>\n",
       "<style scoped>\n",
       "    .dataframe tbody tr th:only-of-type {\n",
       "        vertical-align: middle;\n",
       "    }\n",
       "\n",
       "    .dataframe tbody tr th {\n",
       "        vertical-align: top;\n",
       "    }\n",
       "\n",
       "    .dataframe thead th {\n",
       "        text-align: right;\n",
       "    }\n",
       "</style>\n",
       "<table border=\"1\" class=\"dataframe\">\n",
       "  <thead>\n",
       "    <tr style=\"text-align: right;\">\n",
       "      <th></th>\n",
       "      <th>max_duration</th>\n",
       "      <th>min_duration</th>\n",
       "      <th>total_duration</th>\n",
       "      <th>annual_occupancy</th>\n",
       "    </tr>\n",
       "    <tr>\n",
       "      <th>streetmarker</th>\n",
       "      <th></th>\n",
       "      <th></th>\n",
       "      <th></th>\n",
       "      <th></th>\n",
       "    </tr>\n",
       "  </thead>\n",
       "  <tbody>\n",
       "    <tr>\n",
       "      <th>9824N</th>\n",
       "      <td>39600</td>\n",
       "      <td>0</td>\n",
       "      <td>31411698</td>\n",
       "      <td>0.996058</td>\n",
       "    </tr>\n",
       "    <tr>\n",
       "      <th>9830N</th>\n",
       "      <td>39600</td>\n",
       "      <td>6</td>\n",
       "      <td>31367373</td>\n",
       "      <td>0.994653</td>\n",
       "    </tr>\n",
       "    <tr>\n",
       "      <th>10034N</th>\n",
       "      <td>62044</td>\n",
       "      <td>0</td>\n",
       "      <td>31335189</td>\n",
       "      <td>0.993632</td>\n",
       "    </tr>\n",
       "    <tr>\n",
       "      <th>9826N</th>\n",
       "      <td>37788</td>\n",
       "      <td>3</td>\n",
       "      <td>31327583</td>\n",
       "      <td>0.993391</td>\n",
       "    </tr>\n",
       "    <tr>\n",
       "      <th>8346E</th>\n",
       "      <td>86136</td>\n",
       "      <td>0</td>\n",
       "      <td>31324329</td>\n",
       "      <td>0.993288</td>\n",
       "    </tr>\n",
       "    <tr>\n",
       "      <th>9956N</th>\n",
       "      <td>39600</td>\n",
       "      <td>4</td>\n",
       "      <td>31318936</td>\n",
       "      <td>0.993117</td>\n",
       "    </tr>\n",
       "    <tr>\n",
       "      <th>9828N</th>\n",
       "      <td>39600</td>\n",
       "      <td>2</td>\n",
       "      <td>31307388</td>\n",
       "      <td>0.992751</td>\n",
       "    </tr>\n",
       "    <tr>\n",
       "      <th>9834N</th>\n",
       "      <td>36595</td>\n",
       "      <td>4</td>\n",
       "      <td>31253477</td>\n",
       "      <td>0.991041</td>\n",
       "    </tr>\n",
       "    <tr>\n",
       "      <th>8354E</th>\n",
       "      <td>86400</td>\n",
       "      <td>0</td>\n",
       "      <td>31245115</td>\n",
       "      <td>0.990776</td>\n",
       "    </tr>\n",
       "    <tr>\n",
       "      <th>9836N</th>\n",
       "      <td>35456</td>\n",
       "      <td>3</td>\n",
       "      <td>31235186</td>\n",
       "      <td>0.990461</td>\n",
       "    </tr>\n",
       "  </tbody>\n",
       "</table>\n",
       "</div>"
      ],
      "text/plain": [
       "              max_duration  min_duration  total_duration  annual_occupancy\n",
       "streetmarker                                                              \n",
       "9824N                39600             0        31411698          0.996058\n",
       "9830N                39600             6        31367373          0.994653\n",
       "10034N               62044             0        31335189          0.993632\n",
       "9826N                37788             3        31327583          0.993391\n",
       "8346E                86136             0        31324329          0.993288\n",
       "9956N                39600             4        31318936          0.993117\n",
       "9828N                39600             2        31307388          0.992751\n",
       "9834N                36595             4        31253477          0.991041\n",
       "8354E                86400             0        31245115          0.990776\n",
       "9836N                35456             3        31235186          0.990461"
      ]
     },
     "execution_count": 23,
     "metadata": {},
     "output_type": "execute_result"
    }
   ],
   "source": [
    "southbank_groupby.sort_values(by = 'annual_occupancy', ascending = False).head(10)"
   ]
  },
  {
   "cell_type": "code",
   "execution_count": 31,
   "metadata": {},
   "outputs": [
    {
     "data": {
      "text/plain": [
       "<AxesSubplot:>"
      ]
     },
     "execution_count": 31,
     "metadata": {},
     "output_type": "execute_result"
    },
    {
     "data": {
      "image/png": "[encoded data removed]",
      "text/plain": [
       "<Figure size 432x288 with 1 Axes>"
      ]
     },
     "metadata": {
      "needs_background": "light"
     },
     "output_type": "display_data"
    }
   ],
   "source": [
    "southbank_groupby['annual_occupancy'].hist(legend = True )\n",
    "# this histogram can help with determining threshhold limits"
   ]
  },
  {
   "cell_type": "code",
   "execution_count": 232,
   "metadata": {},
   "outputs": [],
   "source": [
    "# further analysis could investigate low occupancy bays as well to see if they are outliers"
   ]
  },
  {
   "cell_type": "code",
   "execution_count": 25,
   "metadata": {},
   "outputs": [],
   "source": [
    "southbank_groupby = southbank_groupby.reset_index()"
   ]
  },
  {
   "cell_type": "code",
   "execution_count": 26,
   "metadata": {},
   "outputs": [
    {
     "data": {
      "text/html": [
       "<div>\n",
       "<style scoped>\n",
       "    .dataframe tbody tr th:only-of-type {\n",
       "        vertical-align: middle;\n",
       "    }\n",
       "\n",
       "    .dataframe tbody tr th {\n",
       "        vertical-align: top;\n",
       "    }\n",
       "\n",
       "    .dataframe thead th {\n",
       "        text-align: right;\n",
       "    }\n",
       "</style>\n",
       "<table border=\"1\" class=\"dataframe\">\n",
       "  <thead>\n",
       "    <tr style=\"text-align: right;\">\n",
       "      <th></th>\n",
       "      <th>streetmarker</th>\n",
       "      <th>max_duration</th>\n",
       "      <th>min_duration</th>\n",
       "      <th>total_duration</th>\n",
       "      <th>annual_occupancy</th>\n",
       "    </tr>\n",
       "  </thead>\n",
       "  <tbody>\n",
       "    <tr>\n",
       "      <th>215</th>\n",
       "      <td>9086N</td>\n",
       "      <td>496</td>\n",
       "      <td>496</td>\n",
       "      <td>496</td>\n",
       "      <td>0.000016</td>\n",
       "    </tr>\n",
       "    <tr>\n",
       "      <th>285</th>\n",
       "      <td>9277S</td>\n",
       "      <td>2604</td>\n",
       "      <td>2604</td>\n",
       "      <td>2604</td>\n",
       "      <td>0.000083</td>\n",
       "    </tr>\n",
       "    <tr>\n",
       "      <th>286</th>\n",
       "      <td>9279S</td>\n",
       "      <td>10011</td>\n",
       "      <td>253</td>\n",
       "      <td>12878</td>\n",
       "      <td>0.000408</td>\n",
       "    </tr>\n",
       "    <tr>\n",
       "      <th>199</th>\n",
       "      <td>8881W</td>\n",
       "      <td>46800</td>\n",
       "      <td>5</td>\n",
       "      <td>1087311</td>\n",
       "      <td>0.034478</td>\n",
       "    </tr>\n",
       "    <tr>\n",
       "      <th>160</th>\n",
       "      <td>8656E</td>\n",
       "      <td>33179</td>\n",
       "      <td>4</td>\n",
       "      <td>1091567</td>\n",
       "      <td>0.034613</td>\n",
       "    </tr>\n",
       "    <tr>\n",
       "      <th>193</th>\n",
       "      <td>8850E</td>\n",
       "      <td>55516</td>\n",
       "      <td>10</td>\n",
       "      <td>1099532</td>\n",
       "      <td>0.034866</td>\n",
       "    </tr>\n",
       "    <tr>\n",
       "      <th>251</th>\n",
       "      <td>9236N</td>\n",
       "      <td>86400</td>\n",
       "      <td>50</td>\n",
       "      <td>1103400</td>\n",
       "      <td>0.034989</td>\n",
       "    </tr>\n",
       "    <tr>\n",
       "      <th>192</th>\n",
       "      <td>8848E</td>\n",
       "      <td>86400</td>\n",
       "      <td>5</td>\n",
       "      <td>7397260</td>\n",
       "      <td>0.234566</td>\n",
       "    </tr>\n",
       "    <tr>\n",
       "      <th>189</th>\n",
       "      <td>8838E</td>\n",
       "      <td>86400</td>\n",
       "      <td>0</td>\n",
       "      <td>12545222</td>\n",
       "      <td>0.397806</td>\n",
       "    </tr>\n",
       "    <tr>\n",
       "      <th>191</th>\n",
       "      <td>8846E</td>\n",
       "      <td>86400</td>\n",
       "      <td>0</td>\n",
       "      <td>13214422</td>\n",
       "      <td>0.419027</td>\n",
       "    </tr>\n",
       "  </tbody>\n",
       "</table>\n",
       "</div>"
      ],
      "text/plain": [
       "    streetmarker  max_duration  min_duration  total_duration  annual_occupancy\n",
       "215        9086N           496           496             496          0.000016\n",
       "285        9277S          2604          2604            2604          0.000083\n",
       "286        9279S         10011           253           12878          0.000408\n",
       "199        8881W         46800             5         1087311          0.034478\n",
       "160        8656E         33179             4         1091567          0.034613\n",
       "193        8850E         55516            10         1099532          0.034866\n",
       "251        9236N         86400            50         1103400          0.034989\n",
       "192        8848E         86400             5         7397260          0.234566\n",
       "189        8838E         86400             0        12545222          0.397806\n",
       "191        8846E         86400             0        13214422          0.419027"
      ]
     },
     "execution_count": 26,
     "metadata": {},
     "output_type": "execute_result"
    }
   ],
   "source": [
    "southbank_groupby.sort_values(by = 'annual_occupancy').head(10)\n",
    "# can make arguement: bays with occupancy rate of less than 'x' amount can be suggested for removal (not being utilised)"
   ]
  },
  {
   "cell_type": "code",
   "execution_count": 27,
   "metadata": {},
   "outputs": [],
   "source": [
    "stats = southbank_groupby.describe()"
   ]
  },
  {
   "cell_type": "code",
   "execution_count": 33,
   "metadata": {},
   "outputs": [
    {
     "data": {
      "text/html": [
       "<div>\n",
       "<style scoped>\n",
       "    .dataframe tbody tr th:only-of-type {\n",
       "        vertical-align: middle;\n",
       "    }\n",
       "\n",
       "    .dataframe tbody tr th {\n",
       "        vertical-align: top;\n",
       "    }\n",
       "\n",
       "    .dataframe thead th {\n",
       "        text-align: right;\n",
       "    }\n",
       "</style>\n",
       "<table border=\"1\" class=\"dataframe\">\n",
       "  <thead>\n",
       "    <tr style=\"text-align: right;\">\n",
       "      <th></th>\n",
       "      <th>annual_occupancy</th>\n",
       "    </tr>\n",
       "  </thead>\n",
       "  <tbody>\n",
       "    <tr>\n",
       "      <th>count</th>\n",
       "      <td>499.000000</td>\n",
       "    </tr>\n",
       "    <tr>\n",
       "      <th>mean</th>\n",
       "      <td>0.909272</td>\n",
       "    </tr>\n",
       "    <tr>\n",
       "      <th>std</th>\n",
       "      <td>0.150238</td>\n",
       "    </tr>\n",
       "    <tr>\n",
       "      <th>min</th>\n",
       "      <td>0.000016</td>\n",
       "    </tr>\n",
       "    <tr>\n",
       "      <th>25%</th>\n",
       "      <td>0.915477</td>\n",
       "    </tr>\n",
       "    <tr>\n",
       "      <th>50%</th>\n",
       "      <td>0.955710</td>\n",
       "    </tr>\n",
       "    <tr>\n",
       "      <th>75%</th>\n",
       "      <td>0.978430</td>\n",
       "    </tr>\n",
       "    <tr>\n",
       "      <th>max</th>\n",
       "      <td>0.996058</td>\n",
       "    </tr>\n",
       "  </tbody>\n",
       "</table>\n",
       "</div>"
      ],
      "text/plain": [
       "       annual_occupancy\n",
       "count        499.000000\n",
       "mean           0.909272\n",
       "std            0.150238\n",
       "min            0.000016\n",
       "25%            0.915477\n",
       "50%            0.955710\n",
       "75%            0.978430\n",
       "max            0.996058"
      ]
     },
     "execution_count": 33,
     "metadata": {},
     "output_type": "execute_result"
    }
   ],
   "source": [
    "stats[['annual_occupancy']]\n",
    "# 499 marker id's\n",
    "# mean occupancy accross marker id's is 0.90\n",
    "# could potentiall use interquartile range as a determiner for threshold limits. Histogram also helps with this\n",
    "# leave to see map in Tableau and make judgement categories of occupancy rates."
   ]
  },
  {
   "cell_type": "markdown",
   "metadata": {},
   "source": [
    "#### merge with location_df to visualize the map of occupancy rate"
   ]
  },
  {
   "cell_type": "code",
   "execution_count": 147,
   "metadata": {},
   "outputs": [
    {
     "data": {
      "text/html": [
       "<div>\n",
       "<style scoped>\n",
       "    .dataframe tbody tr th:only-of-type {\n",
       "        vertical-align: middle;\n",
       "    }\n",
       "\n",
       "    .dataframe tbody tr th {\n",
       "        vertical-align: top;\n",
       "    }\n",
       "\n",
       "    .dataframe thead th {\n",
       "        text-align: right;\n",
       "    }\n",
       "</style>\n",
       "<table border=\"1\" class=\"dataframe\">\n",
       "  <thead>\n",
       "    <tr style=\"text-align: right;\">\n",
       "      <th></th>\n",
       "      <th>the_geom</th>\n",
       "      <th>marker_id</th>\n",
       "      <th>bay_id</th>\n",
       "      <th>last_edit</th>\n",
       "      <th>rd_seg_id</th>\n",
       "      <th>rd_seg_dsc</th>\n",
       "      <th>meter_id</th>\n",
       "    </tr>\n",
       "  </thead>\n",
       "  <tbody>\n",
       "    <tr>\n",
       "      <th>0</th>\n",
       "      <td>{'type': 'MultiPolygon', 'coordinates': [[[[14...</td>\n",
       "      <td>20268E</td>\n",
       "      <td>17200</td>\n",
       "      <td>20201223122254</td>\n",
       "      <td>22277</td>\n",
       "      <td>St Leonards Court from Anderson Street</td>\n",
       "      <td>NaN</td>\n",
       "    </tr>\n",
       "    <tr>\n",
       "      <th>1</th>\n",
       "      <td>{'type': 'MultiPolygon', 'coordinates': [[[[14...</td>\n",
       "      <td>NaN</td>\n",
       "      <td>12554</td>\n",
       "      <td>20201208141056</td>\n",
       "      <td>20524</td>\n",
       "      <td>Lygon Street between Queensberry Street and Ar...</td>\n",
       "      <td>NaN</td>\n",
       "    </tr>\n",
       "    <tr>\n",
       "      <th>2</th>\n",
       "      <td>{'type': 'MultiPolygon', 'coordinates': [[[[14...</td>\n",
       "      <td>NaN</td>\n",
       "      <td>5246</td>\n",
       "      <td>20201223122247</td>\n",
       "      <td>21015</td>\n",
       "      <td>Queensberry Street between Curzon Street and A...</td>\n",
       "      <td>NaN</td>\n",
       "    </tr>\n",
       "    <tr>\n",
       "      <th>3</th>\n",
       "      <td>{'type': 'MultiPolygon', 'coordinates': [[[[14...</td>\n",
       "      <td>NaN</td>\n",
       "      <td>21476</td>\n",
       "      <td>20201208141949</td>\n",
       "      <td>22106</td>\n",
       "      <td>Wells Street between Grant Street and Miles St...</td>\n",
       "      <td>NaN</td>\n",
       "    </tr>\n",
       "    <tr>\n",
       "      <th>4</th>\n",
       "      <td>{'type': 'MultiPolygon', 'coordinates': [[[[14...</td>\n",
       "      <td>NaN</td>\n",
       "      <td>11451</td>\n",
       "      <td>20201208140949</td>\n",
       "      <td>20482</td>\n",
       "      <td>Swanston Street between Victoria Street and Qu...</td>\n",
       "      <td>NaN</td>\n",
       "    </tr>\n",
       "  </tbody>\n",
       "</table>\n",
       "</div>"
      ],
      "text/plain": [
       "                                            the_geom marker_id bay_id  \\\n",
       "0  {'type': 'MultiPolygon', 'coordinates': [[[[14...    20268E  17200   \n",
       "1  {'type': 'MultiPolygon', 'coordinates': [[[[14...       NaN  12554   \n",
       "2  {'type': 'MultiPolygon', 'coordinates': [[[[14...       NaN   5246   \n",
       "3  {'type': 'MultiPolygon', 'coordinates': [[[[14...       NaN  21476   \n",
       "4  {'type': 'MultiPolygon', 'coordinates': [[[[14...       NaN  11451   \n",
       "\n",
       "        last_edit rd_seg_id  \\\n",
       "0  20201223122254     22277   \n",
       "1  20201208141056     20524   \n",
       "2  20201223122247     21015   \n",
       "3  20201208141949     22106   \n",
       "4  20201208140949     20482   \n",
       "\n",
       "                                          rd_seg_dsc meter_id  \n",
       "0             St Leonards Court from Anderson Street      NaN  \n",
       "1  Lygon Street between Queensberry Street and Ar...      NaN  \n",
       "2  Queensberry Street between Curzon Street and A...      NaN  \n",
       "3  Wells Street between Grant Street and Miles St...      NaN  \n",
       "4  Swanston Street between Victoria Street and Qu...      NaN  "
      ]
     },
     "execution_count": 147,
     "metadata": {},
     "output_type": "execute_result"
    }
   ],
   "source": [
    "location_df.head()"
   ]
  },
  {
   "cell_type": "code",
   "execution_count": 6,
   "metadata": {},
   "outputs": [
    {
     "data": {
      "text/plain": [
       "<AxesSubplot:>"
      ]
     },
     "execution_count": 6,
     "metadata": {},
     "output_type": "execute_result"
    },
    {
     "data": {
      "image/png": "[encoded data removed]",
      "text/plain": [
       "<Figure size 1800x720 with 2 Axes>"
      ]
     },
     "metadata": {
      "needs_background": "light"
     },
     "output_type": "display_data"
    }
   ],
   "source": [
    "msno.matrix(location_df)\n",
    "# remove missing marker_ids"
   ]
  },
  {
   "cell_type": "code",
   "execution_count": 148,
   "metadata": {},
   "outputs": [],
   "source": [
    "location_df = location_df.dropna(subset = ['marker_id'])"
   ]
  },
  {
   "cell_type": "code",
   "execution_count": 149,
   "metadata": {},
   "outputs": [
    {
     "data": {
      "text/plain": [
       "(6015, 7)"
      ]
     },
     "execution_count": 149,
     "metadata": {},
     "output_type": "execute_result"
    }
   ],
   "source": [
    "location_df.shape"
   ]
  },
  {
   "cell_type": "code",
   "execution_count": 150,
   "metadata": {},
   "outputs": [],
   "source": [
    "location_df = location_df.drop_duplicates(subset = 'marker_id')"
   ]
  },
  {
   "cell_type": "code",
   "execution_count": 151,
   "metadata": {},
   "outputs": [
    {
     "data": {
      "text/plain": [
       "8442E     1\n",
       "8781W     1\n",
       "9515S     1\n",
       "13608E    1\n",
       "8451W     1\n",
       "         ..\n",
       "9427S     1\n",
       "15031W    1\n",
       "103W      1\n",
       "5472E     1\n",
       "20388E    1\n",
       "Name: marker_id, Length: 6001, dtype: int64"
      ]
     },
     "execution_count": 151,
     "metadata": {},
     "output_type": "execute_result"
    }
   ],
   "source": [
    "location_df.marker_id.value_counts().sort_values(ascending = False)"
   ]
  },
  {
   "cell_type": "code",
   "execution_count": 152,
   "metadata": {},
   "outputs": [
    {
     "data": {
      "text/plain": [
       "(6001, 7)"
      ]
     },
     "execution_count": 152,
     "metadata": {},
     "output_type": "execute_result"
    }
   ],
   "source": [
    "location_df.shape"
   ]
  },
  {
   "cell_type": "code",
   "execution_count": 153,
   "metadata": {},
   "outputs": [],
   "source": [
    "location_df['coordinates'] = location_df.the_geom.apply(lambda x: x['coordinates'][0][0][0])"
   ]
  },
  {
   "cell_type": "code",
   "execution_count": 154,
   "metadata": {},
   "outputs": [],
   "source": [
    "location_df[['long','lat']] = pd.DataFrame(location_df['coordinates'].tolist(), index = location_df.index)"
   ]
  },
  {
   "cell_type": "code",
   "execution_count": 155,
   "metadata": {},
   "outputs": [],
   "source": [
    "location_df = location_df[['marker_id','long','lat']]"
   ]
  },
  {
   "cell_type": "code",
   "execution_count": 156,
   "metadata": {},
   "outputs": [],
   "source": [
    "location_df.rename(columns = {'marker_id':'streetmarker'}, inplace = True)"
   ]
  },
  {
   "cell_type": "code",
   "execution_count": 157,
   "metadata": {},
   "outputs": [
    {
     "data": {
      "text/plain": [
       "Index(['streetmarker', 'long', 'lat'], dtype='object')"
      ]
     },
     "execution_count": 157,
     "metadata": {},
     "output_type": "execute_result"
    }
   ],
   "source": [
    "location_df.columns"
   ]
  },
  {
   "cell_type": "code",
   "execution_count": 158,
   "metadata": {},
   "outputs": [
    {
     "data": {
      "text/html": [
       "<div>\n",
       "<style scoped>\n",
       "    .dataframe tbody tr th:only-of-type {\n",
       "        vertical-align: middle;\n",
       "    }\n",
       "\n",
       "    .dataframe tbody tr th {\n",
       "        vertical-align: top;\n",
       "    }\n",
       "\n",
       "    .dataframe thead th {\n",
       "        text-align: right;\n",
       "    }\n",
       "</style>\n",
       "<table border=\"1\" class=\"dataframe\">\n",
       "  <thead>\n",
       "    <tr style=\"text-align: right;\">\n",
       "      <th></th>\n",
       "      <th>streetmarker</th>\n",
       "      <th>long</th>\n",
       "      <th>lat</th>\n",
       "    </tr>\n",
       "  </thead>\n",
       "  <tbody>\n",
       "    <tr>\n",
       "      <th>0</th>\n",
       "      <td>20268E</td>\n",
       "      <td>144.985531</td>\n",
       "      <td>-37.829758</td>\n",
       "    </tr>\n",
       "    <tr>\n",
       "      <th>9</th>\n",
       "      <td>4902E</td>\n",
       "      <td>144.958095</td>\n",
       "      <td>-37.808002</td>\n",
       "    </tr>\n",
       "    <tr>\n",
       "      <th>12</th>\n",
       "      <td>8481W</td>\n",
       "      <td>144.966757</td>\n",
       "      <td>-37.825113</td>\n",
       "    </tr>\n",
       "    <tr>\n",
       "      <th>13</th>\n",
       "      <td>20308E</td>\n",
       "      <td>144.985862</td>\n",
       "      <td>-37.832815</td>\n",
       "    </tr>\n",
       "    <tr>\n",
       "      <th>19</th>\n",
       "      <td>3914N</td>\n",
       "      <td>144.955170</td>\n",
       "      <td>-37.812031</td>\n",
       "    </tr>\n",
       "  </tbody>\n",
       "</table>\n",
       "</div>"
      ],
      "text/plain": [
       "   streetmarker        long        lat\n",
       "0        20268E  144.985531 -37.829758\n",
       "9         4902E  144.958095 -37.808002\n",
       "12        8481W  144.966757 -37.825113\n",
       "13       20308E  144.985862 -37.832815\n",
       "19        3914N  144.955170 -37.812031"
      ]
     },
     "execution_count": 158,
     "metadata": {},
     "output_type": "execute_result"
    }
   ],
   "source": [
    "location_df.head()\n",
    "# this is the cleaned location dataset ready to merge"
   ]
  },
  {
   "cell_type": "code",
   "execution_count": 159,
   "metadata": {},
   "outputs": [
    {
     "data": {
      "text/plain": [
       "(6001, 3)"
      ]
     },
     "execution_count": 159,
     "metadata": {},
     "output_type": "execute_result"
    }
   ],
   "source": [
    "location_df.shape"
   ]
  },
  {
   "cell_type": "code",
   "execution_count": 160,
   "metadata": {},
   "outputs": [
    {
     "data": {
      "text/plain": [
       "(499, 4)"
      ]
     },
     "execution_count": 160,
     "metadata": {},
     "output_type": "execute_result"
    }
   ],
   "source": [
    "southbank_groupby.shape"
   ]
  },
  {
   "cell_type": "code",
   "execution_count": 172,
   "metadata": {},
   "outputs": [
    {
     "data": {
      "text/plain": [
       "Index(['streetmarker', 'max_duration', 'min_duration', 'total_duration',\n",
       "       'annual_occupancy'],\n",
       "      dtype='object')"
      ]
     },
     "execution_count": 172,
     "metadata": {},
     "output_type": "execute_result"
    }
   ],
   "source": [
    "southbank_groupby.columns"
   ]
  },
  {
   "cell_type": "code",
   "execution_count": 173,
   "metadata": {},
   "outputs": [],
   "source": [
    "southbank_occupancy = pd.merge(southbank_groupby, location_df, on=\"streetmarker\")"
   ]
  },
  {
   "cell_type": "code",
   "execution_count": 174,
   "metadata": {},
   "outputs": [
    {
     "data": {
      "text/plain": [
       "(435, 7)"
      ]
     },
     "execution_count": 174,
     "metadata": {},
     "output_type": "execute_result"
    }
   ],
   "source": [
    "southbank_occupancy.shape"
   ]
  },
  {
   "cell_type": "code",
   "execution_count": 175,
   "metadata": {},
   "outputs": [
    {
     "data": {
      "text/html": [
       "<div>\n",
       "<style scoped>\n",
       "    .dataframe tbody tr th:only-of-type {\n",
       "        vertical-align: middle;\n",
       "    }\n",
       "\n",
       "    .dataframe tbody tr th {\n",
       "        vertical-align: top;\n",
       "    }\n",
       "\n",
       "    .dataframe thead th {\n",
       "        text-align: right;\n",
       "    }\n",
       "</style>\n",
       "<table border=\"1\" class=\"dataframe\">\n",
       "  <thead>\n",
       "    <tr style=\"text-align: right;\">\n",
       "      <th></th>\n",
       "      <th>streetmarker</th>\n",
       "      <th>max_duration</th>\n",
       "      <th>min_duration</th>\n",
       "      <th>total_duration</th>\n",
       "      <th>annual_occupancy</th>\n",
       "      <th>long</th>\n",
       "      <th>lat</th>\n",
       "    </tr>\n",
       "  </thead>\n",
       "  <tbody>\n",
       "    <tr>\n",
       "      <th>0</th>\n",
       "      <td>10041S</td>\n",
       "      <td>55800</td>\n",
       "      <td>0</td>\n",
       "      <td>25709355</td>\n",
       "      <td>0.815238</td>\n",
       "      <td>144.965739</td>\n",
       "      <td>-37.823369</td>\n",
       "    </tr>\n",
       "    <tr>\n",
       "      <th>1</th>\n",
       "      <td>10043S</td>\n",
       "      <td>55800</td>\n",
       "      <td>0</td>\n",
       "      <td>25377488</td>\n",
       "      <td>0.804715</td>\n",
       "      <td>144.965666</td>\n",
       "      <td>-37.823379</td>\n",
       "    </tr>\n",
       "    <tr>\n",
       "      <th>2</th>\n",
       "      <td>10049S</td>\n",
       "      <td>72833</td>\n",
       "      <td>0</td>\n",
       "      <td>30539049</td>\n",
       "      <td>0.968387</td>\n",
       "      <td>144.963199</td>\n",
       "      <td>-37.822029</td>\n",
       "    </tr>\n",
       "    <tr>\n",
       "      <th>3</th>\n",
       "      <td>10051S</td>\n",
       "      <td>85408</td>\n",
       "      <td>0</td>\n",
       "      <td>30569164</td>\n",
       "      <td>0.969342</td>\n",
       "      <td>144.963199</td>\n",
       "      <td>-37.822029</td>\n",
       "    </tr>\n",
       "    <tr>\n",
       "      <th>4</th>\n",
       "      <td>10053S</td>\n",
       "      <td>68900</td>\n",
       "      <td>0</td>\n",
       "      <td>30398254</td>\n",
       "      <td>0.963922</td>\n",
       "      <td>144.963153</td>\n",
       "      <td>-37.821985</td>\n",
       "    </tr>\n",
       "  </tbody>\n",
       "</table>\n",
       "</div>"
      ],
      "text/plain": [
       "  streetmarker  max_duration  min_duration  total_duration  annual_occupancy  \\\n",
       "0       10041S         55800             0        25709355          0.815238   \n",
       "1       10043S         55800             0        25377488          0.804715   \n",
       "2       10049S         72833             0        30539049          0.968387   \n",
       "3       10051S         85408             0        30569164          0.969342   \n",
       "4       10053S         68900             0        30398254          0.963922   \n",
       "\n",
       "         long        lat  \n",
       "0  144.965739 -37.823369  \n",
       "1  144.965666 -37.823379  \n",
       "2  144.963199 -37.822029  \n",
       "3  144.963199 -37.822029  \n",
       "4  144.963153 -37.821985  "
      ]
     },
     "execution_count": 175,
     "metadata": {},
     "output_type": "execute_result"
    }
   ],
   "source": [
    "southbank_occupancy.head()"
   ]
  },
  {
   "cell_type": "code",
   "execution_count": 163,
   "metadata": {},
   "outputs": [],
   "source": [
    "def check_if_match(df_1, df_2, col_name_df1, col_name_df2):\n",
    "    unique_to_df_1 = [i for i in df_1[col_name_df1].unique() if i not in df_2[col_name_df2].unique()]\n",
    "    unique_to_df_2 = [i for i in df_2[col_name_df2].unique() if i not in df_1[col_name_df1].unique()]\n",
    "    common_to_df_1_and_df_2 = [i for i in df_2[col_name_df2].unique() if i in df_1[col_name_df1].unique()]\n",
    "    print('values unique to df_1', str(len(unique_to_df_1)))\n",
    "    print('values unique to df_2', str(len(unique_to_df_2)))\n",
    "    print('values common to df_1 and df_2', str(len(common_to_df_1_and_df_2)))\n",
    "    return unique_to_df_1, unique_to_df_2, common_to_df_1_and_df_2"
   ]
  },
  {
   "cell_type": "code",
   "execution_count": 176,
   "metadata": {},
   "outputs": [
    {
     "name": "stdout",
     "output_type": "stream",
     "text": [
      "values unique to df_1 64\n",
      "values unique to df_2 5566\n",
      "values common to df_1 and df_2 435\n"
     ]
    }
   ],
   "source": [
    "result_unique_df_1, result_unique_df_2, result_common_df_1_df_2 = check_if_match(df_1 = southbank_groupby, \\\n",
    "                df_2 = location_df, col_name_df1 = 'streetmarker', col_name_df2 = 'streetmarker')"
   ]
  },
  {
   "cell_type": "code",
   "execution_count": 179,
   "metadata": {},
   "outputs": [
    {
     "data": {
      "text/plain": [
       "64"
      ]
     },
     "execution_count": 179,
     "metadata": {},
     "output_type": "execute_result"
    }
   ],
   "source": [
    "southbank_groupby.shape[0] - southbank_occupancy.shape[0]\n",
    "# this number matches unique to df1 so merge is good (with 64 streetmarkers removed due to no matching value)"
   ]
  },
  {
   "cell_type": "code",
   "execution_count": 233,
   "metadata": {},
   "outputs": [
    {
     "data": {
      "text/plain": [
       "<AxesSubplot:>"
      ]
     },
     "execution_count": 233,
     "metadata": {},
     "output_type": "execute_result"
    },
    {
     "data": {
      "image/png": "[encoded data removed]",
      "text/plain": [
       "<Figure size 432x288 with 1 Axes>"
      ]
     },
     "metadata": {
      "needs_background": "light"
     },
     "output_type": "display_data"
    }
   ],
   "source": [
    "southbank_occupancy['annual_occupancy'].hist()"
   ]
  },
  {
   "cell_type": "code",
   "execution_count": 180,
   "metadata": {},
   "outputs": [],
   "source": [
    "southbank_occupancy.to_csv('southbankoccupancy.csv')\n",
    "# majority of parks are actually more than 90% (higher than I expected)\n",
    "# can use this histogram to justify categories for filtering or for creating a threshold for removal suggestion"
   ]
  },
  {
   "cell_type": "markdown",
   "metadata": {},
   "source": [
    "#### Playing with Southbank data in python to understand all parking instances and violation trends "
   ]
  },
  {
   "cell_type": "code",
   "execution_count": 34,
   "metadata": {},
   "outputs": [],
   "source": [
    "sensor_df['arrivaltime'] = pd.to_datetime(sensor_df['arrivaltime'])"
   ]
  },
  {
   "cell_type": "code",
   "execution_count": 35,
   "metadata": {},
   "outputs": [
    {
     "data": {
      "text/plain": [
       "arrivaltime        datetime64[ns]\n",
       "departuretime              object\n",
       "durationseconds             int32\n",
       "streetmarker               object\n",
       "in_violation               object\n",
       "dtype: object"
      ]
     },
     "execution_count": 35,
     "metadata": {},
     "output_type": "execute_result"
    }
   ],
   "source": [
    "sensor_df.dtypes"
   ]
  },
  {
   "cell_type": "code",
   "execution_count": 36,
   "metadata": {},
   "outputs": [],
   "source": [
    "sensor_df['year'] = pd.DatetimeIndex(sensor_df['arrivaltime']).year\n",
    "# add new column with year split out"
   ]
  },
  {
   "cell_type": "code",
   "execution_count": 37,
   "metadata": {},
   "outputs": [],
   "source": [
    "sensor_df['month'] = pd.DatetimeIndex(sensor_df['arrivaltime']).month"
   ]
  },
  {
   "cell_type": "code",
   "execution_count": 38,
   "metadata": {},
   "outputs": [],
   "source": [
    "sensor_df['day'] = pd.DatetimeIndex(sensor_df['arrivaltime']).day"
   ]
  },
  {
   "cell_type": "code",
   "execution_count": 39,
   "metadata": {},
   "outputs": [],
   "source": [
    "sensor_df['dayname'] = sensor_df.arrivaltime.dt.day_name()\n",
    "# get day names of the week\n",
    "# nice to have name, but doesn't plot well so use day_number"
   ]
  },
  {
   "cell_type": "code",
   "execution_count": 40,
   "metadata": {},
   "outputs": [],
   "source": [
    "sensor_df['day_number'] = sensor_df['arrivaltime'].dt.dayofweek\n",
    "# this gives number 0-6 with Monday being 0, Sunday 6"
   ]
  },
  {
   "cell_type": "code",
   "execution_count": 41,
   "metadata": {},
   "outputs": [],
   "source": [
    "sensor_df['hour_of_day'] = sensor_df['arrivaltime'].dt.hour"
   ]
  },
  {
   "cell_type": "code",
   "execution_count": 42,
   "metadata": {},
   "outputs": [
    {
     "data": {
      "text/html": [
       "<div>\n",
       "<style scoped>\n",
       "    .dataframe tbody tr th:only-of-type {\n",
       "        vertical-align: middle;\n",
       "    }\n",
       "\n",
       "    .dataframe tbody tr th {\n",
       "        vertical-align: top;\n",
       "    }\n",
       "\n",
       "    .dataframe thead th {\n",
       "        text-align: right;\n",
       "    }\n",
       "</style>\n",
       "<table border=\"1\" class=\"dataframe\">\n",
       "  <thead>\n",
       "    <tr style=\"text-align: right;\">\n",
       "      <th></th>\n",
       "      <th>arrivaltime</th>\n",
       "      <th>departuretime</th>\n",
       "      <th>durationseconds</th>\n",
       "      <th>streetmarker</th>\n",
       "      <th>in_violation</th>\n",
       "      <th>year</th>\n",
       "      <th>month</th>\n",
       "      <th>day</th>\n",
       "      <th>dayname</th>\n",
       "      <th>day_number</th>\n",
       "      <th>hour_of_day</th>\n",
       "    </tr>\n",
       "  </thead>\n",
       "  <tbody>\n",
       "    <tr>\n",
       "      <th>0</th>\n",
       "      <td>2017-07-13 20:20:05</td>\n",
       "      <td>2017-07-13T22:46:33.000</td>\n",
       "      <td>8788</td>\n",
       "      <td>8668E</td>\n",
       "      <td>False</td>\n",
       "      <td>2017</td>\n",
       "      <td>7</td>\n",
       "      <td>13</td>\n",
       "      <td>Thursday</td>\n",
       "      <td>3</td>\n",
       "      <td>20</td>\n",
       "    </tr>\n",
       "    <tr>\n",
       "      <th>1</th>\n",
       "      <td>2017-04-21 13:12:01</td>\n",
       "      <td>2017-04-21T15:42:32.000</td>\n",
       "      <td>9031</td>\n",
       "      <td>8340E</td>\n",
       "      <td>False</td>\n",
       "      <td>2017</td>\n",
       "      <td>4</td>\n",
       "      <td>21</td>\n",
       "      <td>Friday</td>\n",
       "      <td>4</td>\n",
       "      <td>13</td>\n",
       "    </tr>\n",
       "  </tbody>\n",
       "</table>\n",
       "</div>"
      ],
      "text/plain": [
       "          arrivaltime            departuretime  durationseconds streetmarker  \\\n",
       "0 2017-07-13 20:20:05  2017-07-13T22:46:33.000             8788        8668E   \n",
       "1 2017-04-21 13:12:01  2017-04-21T15:42:32.000             9031        8340E   \n",
       "\n",
       "  in_violation  year  month  day   dayname  day_number  hour_of_day  \n",
       "0        False  2017      7   13  Thursday           3           20  \n",
       "1        False  2017      4   21    Friday           4           13  "
      ]
     },
     "execution_count": 42,
     "metadata": {},
     "output_type": "execute_result"
    }
   ],
   "source": [
    "sensor_df.head(2)"
   ]
  },
  {
   "cell_type": "code",
   "execution_count": null,
   "metadata": {},
   "outputs": [],
   "source": [
    "# dayOfWeek={0:'Monday', 1:'Tuesday', 2:'Wednesday', 3:'Thursday', 4:'Friday', 5:'Saturday', 6:'Sunday'}\n",
    "# sensor_df['weekday'] = sensor_df['arrivaltime'].dt.dayofweek.map(dayOfWeek)\n",
    "# this does same as dt.day_name() above"
   ]
  },
  {
   "cell_type": "code",
   "execution_count": null,
   "metadata": {},
   "outputs": [],
   "source": [
    "sensor_df.groupby(by=['month']).count()"
   ]
  },
  {
   "cell_type": "code",
   "execution_count": 190,
   "metadata": {},
   "outputs": [],
   "source": [
    "sb_month = sensor_df.groupby(by=['month']).count()"
   ]
  },
  {
   "cell_type": "code",
   "execution_count": 197,
   "metadata": {},
   "outputs": [
    {
     "data": {
      "text/plain": [
       "<AxesSubplot:title={'center':'total parking instances by month'}, xlabel='month', ylabel='count of all parking instances'>"
      ]
     },
     "execution_count": 197,
     "metadata": {},
     "output_type": "execute_result"
    },
    {
     "data": {
      "image/png": "[encoded data removed]",
      "text/plain": [
       "<Figure size 432x288 with 1 Axes>"
      ]
     },
     "metadata": {
      "needs_background": "light"
     },
     "output_type": "display_data"
    }
   ],
   "source": [
    "sb_month['arrivaltime'].plot(ylabel = 'count of all parking instances', title = 'total parking instances by month')\n",
    "# all parking instances in Southbank over 2017\n",
    "# trend showing drop-off over "
   ]
  },
  {
   "cell_type": "code",
   "execution_count": 193,
   "metadata": {},
   "outputs": [],
   "source": [
    "sb_month_viol = sensor_df[sensor_df['in_violation'] == 'True'].groupby(by=['month']).count()"
   ]
  },
  {
   "cell_type": "code",
   "execution_count": 199,
   "metadata": {},
   "outputs": [
    {
     "data": {
      "text/plain": [
       "<AxesSubplot:title={'center':'violations by month'}, xlabel='month', ylabel='count of all violations'>"
      ]
     },
     "execution_count": 199,
     "metadata": {},
     "output_type": "execute_result"
    },
    {
     "data": {
      "image/png": "[encoded data removed]",
      "text/plain": [
       "<Figure size 432x288 with 1 Axes>"
      ]
     },
     "metadata": {
      "needs_background": "light"
     },
     "output_type": "display_data"
    }
   ],
   "source": [
    "sb_month_viol['arrivaltime'].plot(ylabel = 'count of all violations', title = 'violations by month')\n",
    "# roughly same trend shown by violations in Southbank over the year\n",
    "# this plot is same as Tableau plot in Southbank monthly violations "
   ]
  },
  {
   "cell_type": "code",
   "execution_count": 200,
   "metadata": {},
   "outputs": [],
   "source": [
    "sb_day = sensor_df.groupby(by=['day_number']).count()"
   ]
  },
  {
   "cell_type": "code",
   "execution_count": 229,
   "metadata": {},
   "outputs": [
    {
     "data": {
      "text/plain": [
       "<AxesSubplot:title={'center':'total instances by day'}, xlabel='day_number', ylabel='count of all parking instances'>"
      ]
     },
     "execution_count": 229,
     "metadata": {},
     "output_type": "execute_result"
    },
    {
     "data": {
      "image/png": "[encoded data removed]",
      "text/plain": [
       "<Figure size 432x288 with 1 Axes>"
      ]
     },
     "metadata": {
      "needs_background": "light"
     },
     "output_type": "display_data"
    }
   ],
   "source": [
    "sb_day['arrivaltime'].plot(ylabel = 'count of all parking instances', title = 'total instances by day')\n",
    "# 0 is Monday, 6 is Sunday, so trend that parking instances slightly incerase from Monday to Friday, then drop off \n",
    "# over the weekend"
   ]
  },
  {
   "cell_type": "code",
   "execution_count": 202,
   "metadata": {},
   "outputs": [],
   "source": [
    "sb_day_viol = sensor_df[sensor_df['in_violation'] == 'True'].groupby(by=['day_number']).count()"
   ]
  },
  {
   "cell_type": "code",
   "execution_count": 203,
   "metadata": {},
   "outputs": [
    {
     "data": {
      "text/plain": [
       "<AxesSubplot:title={'center':'violations by day'}, xlabel='day_number', ylabel='count of all violations'>"
      ]
     },
     "execution_count": 203,
     "metadata": {},
     "output_type": "execute_result"
    },
    {
     "data": {
      "image/png": "[encoded data removed]",
      "text/plain": [
       "<Figure size 432x288 with 1 Axes>"
      ]
     },
     "metadata": {
      "needs_background": "light"
     },
     "output_type": "display_data"
    }
   ],
   "source": [
    "sb_day_viol['arrivaltime'].plot(ylabel = 'count of all violations', title = 'violations by day')\n",
    "# similar trend with violations"
   ]
  },
  {
   "cell_type": "code",
   "execution_count": 223,
   "metadata": {},
   "outputs": [],
   "source": [
    "sb_day_col = sb_day[['arrivaltime']]"
   ]
  },
  {
   "cell_type": "code",
   "execution_count": 225,
   "metadata": {},
   "outputs": [
    {
     "name": "stderr",
     "output_type": "stream",
     "text": [
      "C:\\Users\\tjalb\\anaconda3\\lib\\site-packages\\pandas\\core\\frame.py:4296: SettingWithCopyWarning: \n",
      "A value is trying to be set on a copy of a slice from a DataFrame\n",
      "\n",
      "See the caveats in the documentation: https://pandas.pydata.org/pandas-docs/stable/user_guide/indexing.html#returning-a-view-versus-a-copy\n",
      "  return super().rename(\n"
     ]
    }
   ],
   "source": [
    "sb_day_col.rename(columns = {'arrivaltime':'count_violations'}, inplace = True)\n",
    "# if you want to change name of column  in output"
   ]
  },
  {
   "cell_type": "code",
   "execution_count": 226,
   "metadata": {},
   "outputs": [
    {
     "data": {
      "text/html": [
       "<div>\n",
       "<style scoped>\n",
       "    .dataframe tbody tr th:only-of-type {\n",
       "        vertical-align: middle;\n",
       "    }\n",
       "\n",
       "    .dataframe tbody tr th {\n",
       "        vertical-align: top;\n",
       "    }\n",
       "\n",
       "    .dataframe thead th {\n",
       "        text-align: right;\n",
       "    }\n",
       "</style>\n",
       "<table border=\"1\" class=\"dataframe\">\n",
       "  <thead>\n",
       "    <tr style=\"text-align: right;\">\n",
       "      <th></th>\n",
       "      <th>count_violations</th>\n",
       "    </tr>\n",
       "    <tr>\n",
       "      <th>day_number</th>\n",
       "      <th></th>\n",
       "    </tr>\n",
       "  </thead>\n",
       "  <tbody>\n",
       "    <tr>\n",
       "      <th>0</th>\n",
       "      <td>404804</td>\n",
       "    </tr>\n",
       "    <tr>\n",
       "      <th>1</th>\n",
       "      <td>431558</td>\n",
       "    </tr>\n",
       "    <tr>\n",
       "      <th>2</th>\n",
       "      <td>446228</td>\n",
       "    </tr>\n",
       "    <tr>\n",
       "      <th>3</th>\n",
       "      <td>451338</td>\n",
       "    </tr>\n",
       "    <tr>\n",
       "      <th>4</th>\n",
       "      <td>444866</td>\n",
       "    </tr>\n",
       "    <tr>\n",
       "      <th>5</th>\n",
       "      <td>302600</td>\n",
       "    </tr>\n",
       "    <tr>\n",
       "      <th>6</th>\n",
       "      <td>239866</td>\n",
       "    </tr>\n",
       "  </tbody>\n",
       "</table>\n",
       "</div>"
      ],
      "text/plain": [
       "            count_violations\n",
       "day_number                  \n",
       "0                     404804\n",
       "1                     431558\n",
       "2                     446228\n",
       "3                     451338\n",
       "4                     444866\n",
       "5                     302600\n",
       "6                     239866"
      ]
     },
     "execution_count": 226,
     "metadata": {},
     "output_type": "execute_result"
    }
   ],
   "source": [
    "sb_day_col"
   ]
  },
  {
   "cell_type": "code",
   "execution_count": 204,
   "metadata": {},
   "outputs": [
    {
     "data": {
      "text/html": [
       "<div>\n",
       "<style scoped>\n",
       "    .dataframe tbody tr th:only-of-type {\n",
       "        vertical-align: middle;\n",
       "    }\n",
       "\n",
       "    .dataframe tbody tr th {\n",
       "        vertical-align: top;\n",
       "    }\n",
       "\n",
       "    .dataframe thead th {\n",
       "        text-align: right;\n",
       "    }\n",
       "</style>\n",
       "<table border=\"1\" class=\"dataframe\">\n",
       "  <thead>\n",
       "    <tr style=\"text-align: right;\">\n",
       "      <th></th>\n",
       "      <th>arrivaltime</th>\n",
       "      <th>departuretime</th>\n",
       "      <th>durationseconds</th>\n",
       "      <th>streetmarker</th>\n",
       "      <th>in_violation</th>\n",
       "      <th>year</th>\n",
       "      <th>month</th>\n",
       "      <th>day</th>\n",
       "      <th>dayname</th>\n",
       "    </tr>\n",
       "    <tr>\n",
       "      <th>day_number</th>\n",
       "      <th></th>\n",
       "      <th></th>\n",
       "      <th></th>\n",
       "      <th></th>\n",
       "      <th></th>\n",
       "      <th></th>\n",
       "      <th></th>\n",
       "      <th></th>\n",
       "      <th></th>\n",
       "    </tr>\n",
       "  </thead>\n",
       "  <tbody>\n",
       "    <tr>\n",
       "      <th>0</th>\n",
       "      <td>16062</td>\n",
       "      <td>16062</td>\n",
       "      <td>16062</td>\n",
       "      <td>16062</td>\n",
       "      <td>16062</td>\n",
       "      <td>16062</td>\n",
       "      <td>16062</td>\n",
       "      <td>16062</td>\n",
       "      <td>16062</td>\n",
       "    </tr>\n",
       "    <tr>\n",
       "      <th>1</th>\n",
       "      <td>17620</td>\n",
       "      <td>17620</td>\n",
       "      <td>17620</td>\n",
       "      <td>17620</td>\n",
       "      <td>17620</td>\n",
       "      <td>17620</td>\n",
       "      <td>17620</td>\n",
       "      <td>17620</td>\n",
       "      <td>17620</td>\n",
       "    </tr>\n",
       "    <tr>\n",
       "      <th>2</th>\n",
       "      <td>18998</td>\n",
       "      <td>18998</td>\n",
       "      <td>18998</td>\n",
       "      <td>18998</td>\n",
       "      <td>18998</td>\n",
       "      <td>18998</td>\n",
       "      <td>18998</td>\n",
       "      <td>18998</td>\n",
       "      <td>18998</td>\n",
       "    </tr>\n",
       "    <tr>\n",
       "      <th>3</th>\n",
       "      <td>18686</td>\n",
       "      <td>18686</td>\n",
       "      <td>18686</td>\n",
       "      <td>18686</td>\n",
       "      <td>18686</td>\n",
       "      <td>18686</td>\n",
       "      <td>18686</td>\n",
       "      <td>18686</td>\n",
       "      <td>18686</td>\n",
       "    </tr>\n",
       "    <tr>\n",
       "      <th>4</th>\n",
       "      <td>17957</td>\n",
       "      <td>17957</td>\n",
       "      <td>17957</td>\n",
       "      <td>17957</td>\n",
       "      <td>17957</td>\n",
       "      <td>17957</td>\n",
       "      <td>17957</td>\n",
       "      <td>17957</td>\n",
       "      <td>17957</td>\n",
       "    </tr>\n",
       "    <tr>\n",
       "      <th>5</th>\n",
       "      <td>9374</td>\n",
       "      <td>9374</td>\n",
       "      <td>9374</td>\n",
       "      <td>9374</td>\n",
       "      <td>9374</td>\n",
       "      <td>9374</td>\n",
       "      <td>9374</td>\n",
       "      <td>9374</td>\n",
       "      <td>9374</td>\n",
       "    </tr>\n",
       "    <tr>\n",
       "      <th>6</th>\n",
       "      <td>6166</td>\n",
       "      <td>6166</td>\n",
       "      <td>6166</td>\n",
       "      <td>6166</td>\n",
       "      <td>6166</td>\n",
       "      <td>6166</td>\n",
       "      <td>6166</td>\n",
       "      <td>6166</td>\n",
       "      <td>6166</td>\n",
       "    </tr>\n",
       "  </tbody>\n",
       "</table>\n",
       "</div>"
      ],
      "text/plain": [
       "            arrivaltime  departuretime  durationseconds  streetmarker  \\\n",
       "day_number                                                              \n",
       "0                 16062          16062            16062         16062   \n",
       "1                 17620          17620            17620         17620   \n",
       "2                 18998          18998            18998         18998   \n",
       "3                 18686          18686            18686         18686   \n",
       "4                 17957          17957            17957         17957   \n",
       "5                  9374           9374             9374          9374   \n",
       "6                  6166           6166             6166          6166   \n",
       "\n",
       "            in_violation   year  month    day  dayname  \n",
       "day_number                                              \n",
       "0                  16062  16062  16062  16062    16062  \n",
       "1                  17620  17620  17620  17620    17620  \n",
       "2                  18998  18998  18998  18998    18998  \n",
       "3                  18686  18686  18686  18686    18686  \n",
       "4                  17957  17957  17957  17957    17957  \n",
       "5                   9374   9374   9374   9374     9374  \n",
       "6                   6166   6166   6166   6166     6166  "
      ]
     },
     "execution_count": 204,
     "metadata": {},
     "output_type": "execute_result"
    }
   ],
   "source": [
    "sb_day_viol"
   ]
  },
  {
   "cell_type": "code",
   "execution_count": 221,
   "metadata": {},
   "outputs": [],
   "source": [
    "calc_day = (sb_day_viol/sb_day) * 100\n",
    "# % of violations per day"
   ]
  },
  {
   "cell_type": "code",
   "execution_count": 228,
   "metadata": {},
   "outputs": [
    {
     "data": {
      "text/plain": [
       "<AxesSubplot:title={'center':'% of violations for all parking instances by day'}, xlabel='day_number', ylabel='% of violations'>"
      ]
     },
     "execution_count": 228,
     "metadata": {},
     "output_type": "execute_result"
    },
    {
     "data": {
      "image/png": "[encoded data removed]",
      "text/plain": [
       "<Figure size 432x288 with 1 Axes>"
      ]
     },
     "metadata": {
      "needs_background": "light"
     },
     "output_type": "display_data"
    }
   ],
   "source": [
    "calc_day['arrivaltime'].plot(ylabel = '% of violations', title = '% of violations for all parking instances by day')\n",
    "#slightly less % of violation over weekend: makes sense if less restrictions over weekend\n",
    "#again 0 = Monday to 6 = Sunday"
   ]
  },
  {
   "cell_type": "code",
   "execution_count": 236,
   "metadata": {},
   "outputs": [],
   "source": [
    "sb_hour = sensor_df.groupby(by=['hour_of_day']).count()"
   ]
  },
  {
   "cell_type": "code",
   "execution_count": 237,
   "metadata": {},
   "outputs": [
    {
     "data": {
      "text/plain": [
       "<AxesSubplot:title={'center':'total instances by hour'}, xlabel='hour_of_day', ylabel='count of all parking instances'>"
      ]
     },
     "execution_count": 237,
     "metadata": {},
     "output_type": "execute_result"
    },
    {
     "data": {
      "image/png": "[encoded data removed]",
      "text/plain": [
       "<Figure size 432x288 with 1 Axes>"
      ]
     },
     "metadata": {
      "needs_background": "light"
     },
     "output_type": "display_data"
    }
   ],
   "source": [
    "sb_hour['arrivaltime'].plot(ylabel = 'count of all parking instances', title = 'total instances by hour')\n",
    "# hourly trend peaks around 7-8am and 5-6pm"
   ]
  },
  {
   "cell_type": "code",
   "execution_count": 43,
   "metadata": {},
   "outputs": [],
   "source": [
    "sb_hour_viol = sensor_df[sensor_df['in_violation'] == 'True'].groupby(by=['hour_of_day']).count()"
   ]
  },
  {
   "cell_type": "code",
   "execution_count": 44,
   "metadata": {},
   "outputs": [
    {
     "data": {
      "text/plain": [
       "<AxesSubplot:title={'center':'violations by hour'}, xlabel='hour_of_day', ylabel='count of all violations'>"
      ]
     },
     "execution_count": 44,
     "metadata": {},
     "output_type": "execute_result"
    },
    {
     "data": {
      "image/png": "[encoded data removed]",
      "text/plain": [
       "<Figure size 432x288 with 1 Axes>"
      ]
     },
     "metadata": {
      "needs_background": "light"
     },
     "output_type": "display_data"
    }
   ],
   "source": [
    "sb_hour_viol['arrivaltime'].plot(ylabel = 'count of all violations', title = 'violations by hour')\n",
    "# similar trend with violations\n",
    "# violations appear to be more in mornings and lessen over the day"
   ]
  },
  {
   "cell_type": "code",
   "execution_count": null,
   "metadata": {},
   "outputs": [],
   "source": []
  }
 ],
 "metadata": {
  "kernelspec": {
   "display_name": "Python 3",
   "language": "python",
   "name": "python3"
  },
  "language_info": {
   "codemirror_mode": {
    "name": "ipython",
    "version": 3
   },
   "file_extension": ".py",
   "mimetype": "text/x-python",
   "name": "python",
   "nbconvert_exporter": "python",
   "pygments_lexer": "ipython3",
   "version": "3.8.5"
  }
 },
 "nbformat": 4,
 "nbformat_minor": 4
}
