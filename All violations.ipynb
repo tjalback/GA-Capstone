{
 "cells": [
  {
   "cell_type": "markdown",
   "metadata": {},
   "source": [
    "# All violations aggregated over 2017"
   ]
  },
  {
   "cell_type": "markdown",
   "metadata": {},
   "source": [
    "This notebook describes how to get information on all parking bays that had a violation in 2017 across the city of Melbourne. A join between the parking sensor (each row a parking instance) dataset and the locations dataset (lat/long). This joins well on streetmarker - markerid. Some data checks and cleaning steps are included. \n",
    "Due to the file being so large, in this approach to see all parking bays with lat/long info, I've aggregated the counts of parking violations per marker_id over the year. \n",
    "Once aggregated, the results are saved to csv to view in Tableau. It will help provide a visual showing the on-street car park bays where the most violations occured in 2017."
   ]
  },
  {
   "cell_type": "code",
   "execution_count": 1,
   "metadata": {},
   "outputs": [],
   "source": [
    "import pandas as pd\n",
    "import numpy as np\n",
    "import requests\n",
    "from sodapy import Socrata\n",
    "\n",
    "client = Socrata(\"data.melbourne.vic.gov.au\", \"RG1MLdEhMl8N8uP4WMDWLJ3Yz\")\n",
    "\n",
    "#parking bay sensor information: contains streetmarker that can be joined to marker_id in location file\n",
    "results = client.get(\"u9sa-j86i\", in_violation=True, limit=2000000)\n",
    "#note: this is a large call that brings in all parking instances that were violations ~1,500,000 rows. \n",
    "\n",
    "#location: contains lat/long points for unique marker_id's\n",
    "results2 = client.get(\"wuf8-susg\", limit=30000)\n",
    "\n",
    "# Convert to pandas DataFrame\n",
    "sensor_df = pd.DataFrame.from_records(results)\n",
    "\n",
    "# Convert to pandas DataFrame\n",
    "location_df = pd.DataFrame.from_records(results2)"
   ]
  },
  {
   "cell_type": "markdown",
   "metadata": {},
   "source": [
    "### Check and clean sensor_df (all parking violations)"
   ]
  },
  {
   "cell_type": "code",
   "execution_count": 2,
   "metadata": {},
   "outputs": [
    {
     "data": {
      "text/plain": [
       "(1469220, 14)"
      ]
     },
     "execution_count": 2,
     "metadata": {},
     "output_type": "execute_result"
    }
   ],
   "source": [
    "sensor_df.shape\n",
    "# from the whole data set, 1,469,220 violations in city of Melbourne 2017"
   ]
  },
  {
   "cell_type": "code",
   "execution_count": 36,
   "metadata": {},
   "outputs": [
    {
     "data": {
      "text/html": [
       "<div>\n",
       "<style scoped>\n",
       "    .dataframe tbody tr th:only-of-type {\n",
       "        vertical-align: middle;\n",
       "    }\n",
       "\n",
       "    .dataframe tbody tr th {\n",
       "        vertical-align: top;\n",
       "    }\n",
       "\n",
       "    .dataframe thead th {\n",
       "        text-align: right;\n",
       "    }\n",
       "</style>\n",
       "<table border=\"1\" class=\"dataframe\">\n",
       "  <thead>\n",
       "    <tr style=\"text-align: right;\">\n",
       "      <th></th>\n",
       "      <th>deviceid</th>\n",
       "      <th>arrivaltime</th>\n",
       "      <th>departuretime</th>\n",
       "      <th>durationseconds</th>\n",
       "      <th>streetmarker</th>\n",
       "      <th>sign</th>\n",
       "      <th>area</th>\n",
       "      <th>streetid</th>\n",
       "      <th>streetname</th>\n",
       "      <th>betweenstreet1</th>\n",
       "      <th>betweenstreet2</th>\n",
       "      <th>side_of_street</th>\n",
       "      <th>in_violation</th>\n",
       "      <th>vehicle_present</th>\n",
       "    </tr>\n",
       "  </thead>\n",
       "  <tbody>\n",
       "    <tr>\n",
       "      <th>0</th>\n",
       "      <td>17512</td>\n",
       "      <td>2017-09-27T09:43:31.000</td>\n",
       "      <td>2017-09-27T10:21:51.000</td>\n",
       "      <td>2300</td>\n",
       "      <td>13642E</td>\n",
       "      <td>LZ 30M 722 M-Su 7:30-18:30</td>\n",
       "      <td>Docklands</td>\n",
       "      <td>810</td>\n",
       "      <td>IMPORT LANE</td>\n",
       "      <td>COLLINS STREET</td>\n",
       "      <td>BOURKE STREET</td>\n",
       "      <td>2</td>\n",
       "      <td>True</td>\n",
       "      <td>True</td>\n",
       "    </tr>\n",
       "    <tr>\n",
       "      <th>1</th>\n",
       "      <td>17751</td>\n",
       "      <td>2017-10-20T09:54:01.000</td>\n",
       "      <td>2017-10-20T12:34:02.000</td>\n",
       "      <td>9601</td>\n",
       "      <td>C13596</td>\n",
       "      <td>2P MTR M-SAT 7:30-18:30</td>\n",
       "      <td>Docklands</td>\n",
       "      <td>123</td>\n",
       "      <td>BOURKE STREET</td>\n",
       "      <td>GEOGRAPHE STREET</td>\n",
       "      <td>ENTERPRIZE WAY</td>\n",
       "      <td>1</td>\n",
       "      <td>True</td>\n",
       "      <td>True</td>\n",
       "    </tr>\n",
       "  </tbody>\n",
       "</table>\n",
       "</div>"
      ],
      "text/plain": [
       "  deviceid              arrivaltime            departuretime durationseconds  \\\n",
       "0    17512  2017-09-27T09:43:31.000  2017-09-27T10:21:51.000            2300   \n",
       "1    17751  2017-10-20T09:54:01.000  2017-10-20T12:34:02.000            9601   \n",
       "\n",
       "  streetmarker                        sign       area streetid     streetname  \\\n",
       "0       13642E  LZ 30M 722 M-Su 7:30-18:30  Docklands      810    IMPORT LANE   \n",
       "1       C13596     2P MTR M-SAT 7:30-18:30  Docklands      123  BOURKE STREET   \n",
       "\n",
       "     betweenstreet1  betweenstreet2 side_of_street in_violation  \\\n",
       "0    COLLINS STREET   BOURKE STREET              2         True   \n",
       "1  GEOGRAPHE STREET  ENTERPRIZE WAY              1         True   \n",
       "\n",
       "  vehicle_present  \n",
       "0            True  \n",
       "1            True  "
      ]
     },
     "execution_count": 36,
     "metadata": {},
     "output_type": "execute_result"
    }
   ],
   "source": [
    "sensor_df.head(2)"
   ]
  },
  {
   "cell_type": "code",
   "execution_count": 37,
   "metadata": {},
   "outputs": [
    {
     "data": {
      "text/plain": [
       "deviceid              0\n",
       "arrivaltime           0\n",
       "departuretime         0\n",
       "durationseconds       0\n",
       "streetmarker          0\n",
       "sign                 10\n",
       "area                  0\n",
       "streetid              0\n",
       "streetname            0\n",
       "betweenstreet1        0\n",
       "betweenstreet2     2674\n",
       "side_of_street        0\n",
       "in_violation          0\n",
       "vehicle_present       0\n",
       "dtype: int64"
      ]
     },
     "execution_count": 37,
     "metadata": {},
     "output_type": "execute_result"
    }
   ],
   "source": [
    "sensor_df.isnull().sum()\n",
    "# only a few nulls in between street 2 and sign\n",
    "# to group by maker_id to get counts of violations, only need marker id and one column of counts"
   ]
  },
  {
   "cell_type": "code",
   "execution_count": 38,
   "metadata": {},
   "outputs": [
    {
     "data": {
      "text/html": [
       "<div>\n",
       "<style scoped>\n",
       "    .dataframe tbody tr th:only-of-type {\n",
       "        vertical-align: middle;\n",
       "    }\n",
       "\n",
       "    .dataframe tbody tr th {\n",
       "        vertical-align: top;\n",
       "    }\n",
       "\n",
       "    .dataframe thead th {\n",
       "        text-align: right;\n",
       "    }\n",
       "</style>\n",
       "<table border=\"1\" class=\"dataframe\">\n",
       "  <thead>\n",
       "    <tr style=\"text-align: right;\">\n",
       "      <th></th>\n",
       "      <th>deviceid</th>\n",
       "      <th>arrivaltime</th>\n",
       "      <th>departuretime</th>\n",
       "      <th>durationseconds</th>\n",
       "      <th>sign</th>\n",
       "      <th>area</th>\n",
       "      <th>streetid</th>\n",
       "      <th>streetname</th>\n",
       "      <th>betweenstreet1</th>\n",
       "      <th>betweenstreet2</th>\n",
       "      <th>side_of_street</th>\n",
       "      <th>in_violation</th>\n",
       "      <th>vehicle_present</th>\n",
       "    </tr>\n",
       "    <tr>\n",
       "      <th>streetmarker</th>\n",
       "      <th></th>\n",
       "      <th></th>\n",
       "      <th></th>\n",
       "      <th></th>\n",
       "      <th></th>\n",
       "      <th></th>\n",
       "      <th></th>\n",
       "      <th></th>\n",
       "      <th></th>\n",
       "      <th></th>\n",
       "      <th></th>\n",
       "      <th></th>\n",
       "      <th></th>\n",
       "    </tr>\n",
       "  </thead>\n",
       "  <tbody>\n",
       "    <tr>\n",
       "      <th>10001S</th>\n",
       "      <td>285</td>\n",
       "      <td>285</td>\n",
       "      <td>285</td>\n",
       "      <td>285</td>\n",
       "      <td>285</td>\n",
       "      <td>285</td>\n",
       "      <td>285</td>\n",
       "      <td>285</td>\n",
       "      <td>285</td>\n",
       "      <td>285</td>\n",
       "      <td>285</td>\n",
       "      <td>285</td>\n",
       "      <td>285</td>\n",
       "    </tr>\n",
       "    <tr>\n",
       "      <th>10003S</th>\n",
       "      <td>288</td>\n",
       "      <td>288</td>\n",
       "      <td>288</td>\n",
       "      <td>288</td>\n",
       "      <td>288</td>\n",
       "      <td>288</td>\n",
       "      <td>288</td>\n",
       "      <td>288</td>\n",
       "      <td>288</td>\n",
       "      <td>288</td>\n",
       "      <td>288</td>\n",
       "      <td>288</td>\n",
       "      <td>288</td>\n",
       "    </tr>\n",
       "  </tbody>\n",
       "</table>\n",
       "</div>"
      ],
      "text/plain": [
       "              deviceid  arrivaltime  departuretime  durationseconds  sign  \\\n",
       "streetmarker                                                                \n",
       "10001S             285          285            285              285   285   \n",
       "10003S             288          288            288              288   288   \n",
       "\n",
       "              area  streetid  streetname  betweenstreet1  betweenstreet2  \\\n",
       "streetmarker                                                               \n",
       "10001S         285       285         285             285             285   \n",
       "10003S         288       288         288             288             288   \n",
       "\n",
       "              side_of_street  in_violation  vehicle_present  \n",
       "streetmarker                                                 \n",
       "10001S                   285           285              285  \n",
       "10003S                   288           288              288  "
      ]
     },
     "execution_count": 38,
     "metadata": {},
     "output_type": "execute_result"
    }
   ],
   "source": [
    "sensor_df.groupby(by=['streetmarker']).count().head(2)"
   ]
  },
  {
   "cell_type": "code",
   "execution_count": 3,
   "metadata": {},
   "outputs": [],
   "source": [
    "all_violations = sensor_df.groupby(by=['streetmarker']).count().iloc[:,0:1]\n",
    "# this step assigns only one column of the aggregate count group by to use for further analysis "
   ]
  },
  {
   "cell_type": "code",
   "execution_count": 4,
   "metadata": {},
   "outputs": [
    {
     "data": {
      "text/html": [
       "<div>\n",
       "<style scoped>\n",
       "    .dataframe tbody tr th:only-of-type {\n",
       "        vertical-align: middle;\n",
       "    }\n",
       "\n",
       "    .dataframe tbody tr th {\n",
       "        vertical-align: top;\n",
       "    }\n",
       "\n",
       "    .dataframe thead th {\n",
       "        text-align: right;\n",
       "    }\n",
       "</style>\n",
       "<table border=\"1\" class=\"dataframe\">\n",
       "  <thead>\n",
       "    <tr style=\"text-align: right;\">\n",
       "      <th></th>\n",
       "      <th>deviceid</th>\n",
       "    </tr>\n",
       "    <tr>\n",
       "      <th>streetmarker</th>\n",
       "      <th></th>\n",
       "    </tr>\n",
       "  </thead>\n",
       "  <tbody>\n",
       "    <tr>\n",
       "      <th>10001S</th>\n",
       "      <td>285</td>\n",
       "    </tr>\n",
       "    <tr>\n",
       "      <th>10003S</th>\n",
       "      <td>288</td>\n",
       "    </tr>\n",
       "    <tr>\n",
       "      <th>10005S</th>\n",
       "      <td>284</td>\n",
       "    </tr>\n",
       "    <tr>\n",
       "      <th>10007S</th>\n",
       "      <td>331</td>\n",
       "    </tr>\n",
       "    <tr>\n",
       "      <th>10009W</th>\n",
       "      <td>162</td>\n",
       "    </tr>\n",
       "    <tr>\n",
       "      <th>...</th>\n",
       "      <td>...</td>\n",
       "    </tr>\n",
       "    <tr>\n",
       "      <th>C988</th>\n",
       "      <td>325</td>\n",
       "    </tr>\n",
       "    <tr>\n",
       "      <th>C992</th>\n",
       "      <td>339</td>\n",
       "    </tr>\n",
       "    <tr>\n",
       "      <th>C996</th>\n",
       "      <td>363</td>\n",
       "    </tr>\n",
       "    <tr>\n",
       "      <th>D7W</th>\n",
       "      <td>328</td>\n",
       "    </tr>\n",
       "    <tr>\n",
       "      <th>D9W</th>\n",
       "      <td>368</td>\n",
       "    </tr>\n",
       "  </tbody>\n",
       "</table>\n",
       "<p>4631 rows × 1 columns</p>\n",
       "</div>"
      ],
      "text/plain": [
       "              deviceid\n",
       "streetmarker          \n",
       "10001S             285\n",
       "10003S             288\n",
       "10005S             284\n",
       "10007S             331\n",
       "10009W             162\n",
       "...                ...\n",
       "C988               325\n",
       "C992               339\n",
       "C996               363\n",
       "D7W                328\n",
       "D9W                368\n",
       "\n",
       "[4631 rows x 1 columns]"
      ]
     },
     "execution_count": 4,
     "metadata": {},
     "output_type": "execute_result"
    }
   ],
   "source": [
    "all_violations[['deviceid']]"
   ]
  },
  {
   "cell_type": "code",
   "execution_count": 5,
   "metadata": {},
   "outputs": [],
   "source": [
    "all_violations.rename(columns = {'deviceid':'total_violations'}, inplace = True)\n",
    "# changed column name to reflect aggregate measure --> total count of parking instances that were violations over 2017"
   ]
  },
  {
   "cell_type": "code",
   "execution_count": 45,
   "metadata": {},
   "outputs": [],
   "source": [
    "# all_violations = all_violations.reset_index()"
   ]
  },
  {
   "cell_type": "code",
   "execution_count": 46,
   "metadata": {},
   "outputs": [
    {
     "data": {
      "text/plain": [
       "4631"
      ]
     },
     "execution_count": 46,
     "metadata": {},
     "output_type": "execute_result"
    }
   ],
   "source": [
    "all_violations['streetmarker'].nunique()"
   ]
  },
  {
   "cell_type": "code",
   "execution_count": 48,
   "metadata": {},
   "outputs": [
    {
     "data": {
      "text/plain": [
       "11509S    1\n",
       "C696      1\n",
       "13339W    1\n",
       "898E      1\n",
       "9391S     1\n",
       "         ..\n",
       "9956N     1\n",
       "2793S     1\n",
       "8321W     1\n",
       "1490E     1\n",
       "2437S     1\n",
       "Name: streetmarker, Length: 4631, dtype: int64"
      ]
     },
     "execution_count": 48,
     "metadata": {},
     "output_type": "execute_result"
    }
   ],
   "source": [
    "all_violations.streetmarker.value_counts().sort_values(ascending=False)"
   ]
  },
  {
   "cell_type": "code",
   "execution_count": 50,
   "metadata": {},
   "outputs": [],
   "source": [
    "# all_violations ready to join"
   ]
  },
  {
   "cell_type": "markdown",
   "metadata": {},
   "source": [
    "### Check and clean location_df (contains lat/long point)"
   ]
  },
  {
   "cell_type": "code",
   "execution_count": 56,
   "metadata": {},
   "outputs": [
    {
     "data": {
      "text/html": [
       "<div>\n",
       "<style scoped>\n",
       "    .dataframe tbody tr th:only-of-type {\n",
       "        vertical-align: middle;\n",
       "    }\n",
       "\n",
       "    .dataframe tbody tr th {\n",
       "        vertical-align: top;\n",
       "    }\n",
       "\n",
       "    .dataframe thead th {\n",
       "        text-align: right;\n",
       "    }\n",
       "</style>\n",
       "<table border=\"1\" class=\"dataframe\">\n",
       "  <thead>\n",
       "    <tr style=\"text-align: right;\">\n",
       "      <th></th>\n",
       "      <th>the_geom</th>\n",
       "      <th>marker_id</th>\n",
       "      <th>bay_id</th>\n",
       "      <th>last_edit</th>\n",
       "      <th>rd_seg_id</th>\n",
       "      <th>rd_seg_dsc</th>\n",
       "      <th>meter_id</th>\n",
       "    </tr>\n",
       "  </thead>\n",
       "  <tbody>\n",
       "    <tr>\n",
       "      <th>0</th>\n",
       "      <td>{'type': 'MultiPolygon', 'coordinates': [[[[14...</td>\n",
       "      <td>20268E</td>\n",
       "      <td>17200</td>\n",
       "      <td>20201223122254</td>\n",
       "      <td>22277</td>\n",
       "      <td>St Leonards Court from Anderson Street</td>\n",
       "      <td>NaN</td>\n",
       "    </tr>\n",
       "    <tr>\n",
       "      <th>1</th>\n",
       "      <td>{'type': 'MultiPolygon', 'coordinates': [[[[14...</td>\n",
       "      <td>NaN</td>\n",
       "      <td>12554</td>\n",
       "      <td>20201208141056</td>\n",
       "      <td>20524</td>\n",
       "      <td>Lygon Street between Queensberry Street and Ar...</td>\n",
       "      <td>NaN</td>\n",
       "    </tr>\n",
       "  </tbody>\n",
       "</table>\n",
       "</div>"
      ],
      "text/plain": [
       "                                            the_geom marker_id bay_id  \\\n",
       "0  {'type': 'MultiPolygon', 'coordinates': [[[[14...    20268E  17200   \n",
       "1  {'type': 'MultiPolygon', 'coordinates': [[[[14...       NaN  12554   \n",
       "\n",
       "        last_edit rd_seg_id  \\\n",
       "0  20201223122254     22277   \n",
       "1  20201208141056     20524   \n",
       "\n",
       "                                          rd_seg_dsc meter_id  \n",
       "0             St Leonards Court from Anderson Street      NaN  \n",
       "1  Lygon Street between Queensberry Street and Ar...      NaN  "
      ]
     },
     "execution_count": 56,
     "metadata": {},
     "output_type": "execute_result"
    }
   ],
   "source": [
    "location_df.head(2)"
   ]
  },
  {
   "cell_type": "code",
   "execution_count": 57,
   "metadata": {},
   "outputs": [],
   "source": [
    "# want to match on marker_id to get coordinate points for parking bays"
   ]
  },
  {
   "cell_type": "code",
   "execution_count": 58,
   "metadata": {},
   "outputs": [
    {
     "data": {
      "text/plain": [
       "(24746, 7)"
      ]
     },
     "execution_count": 58,
     "metadata": {},
     "output_type": "execute_result"
    }
   ],
   "source": [
    "location_df.shape"
   ]
  },
  {
   "cell_type": "code",
   "execution_count": 59,
   "metadata": {},
   "outputs": [
    {
     "data": {
      "text/plain": [
       "the_geom          0\n",
       "marker_id     18731\n",
       "bay_id            0\n",
       "last_edit         0\n",
       "rd_seg_id      1146\n",
       "rd_seg_dsc     1146\n",
       "meter_id      24213\n",
       "dtype: int64"
      ]
     },
     "execution_count": 59,
     "metadata": {},
     "output_type": "execute_result"
    }
   ],
   "source": [
    "location_df.isnull().sum()"
   ]
  },
  {
   "cell_type": "code",
   "execution_count": 6,
   "metadata": {},
   "outputs": [],
   "source": [
    "location_df = location_df.dropna(subset = ['marker_id'])"
   ]
  },
  {
   "cell_type": "code",
   "execution_count": 61,
   "metadata": {},
   "outputs": [
    {
     "data": {
      "text/plain": [
       "(6015, 7)"
      ]
     },
     "execution_count": 61,
     "metadata": {},
     "output_type": "execute_result"
    }
   ],
   "source": [
    "location_df.shape"
   ]
  },
  {
   "cell_type": "code",
   "execution_count": 62,
   "metadata": {},
   "outputs": [
    {
     "data": {
      "text/plain": [
       "3776N     4\n",
       "15208E    4\n",
       "9081S     2\n",
       "13035S    2\n",
       "4559W     2\n",
       "         ..\n",
       "15125S    1\n",
       "12548N    1\n",
       "2793S     1\n",
       "11513S    1\n",
       "20644N    1\n",
       "Name: marker_id, Length: 6001, dtype: int64"
      ]
     },
     "execution_count": 62,
     "metadata": {},
     "output_type": "execute_result"
    }
   ],
   "source": [
    "location_df.marker_id.value_counts().sort_values(ascending = False)"
   ]
  },
  {
   "cell_type": "code",
   "execution_count": 7,
   "metadata": {},
   "outputs": [],
   "source": [
    "location_df = location_df.drop_duplicates(subset = 'marker_id')"
   ]
  },
  {
   "cell_type": "code",
   "execution_count": 64,
   "metadata": {},
   "outputs": [
    {
     "data": {
      "text/plain": [
       "15076E    1\n",
       "C674      1\n",
       "12283S    1\n",
       "15518N    1\n",
       "13339W    1\n",
       "         ..\n",
       "12548N    1\n",
       "2793S     1\n",
       "11513S    1\n",
       "C1072     1\n",
       "12481S    1\n",
       "Name: marker_id, Length: 6001, dtype: int64"
      ]
     },
     "execution_count": 64,
     "metadata": {},
     "output_type": "execute_result"
    }
   ],
   "source": [
    "location_df.marker_id.value_counts().sort_values(ascending = False)"
   ]
  },
  {
   "cell_type": "code",
   "execution_count": 8,
   "metadata": {},
   "outputs": [
    {
     "data": {
      "text/plain": [
       "(6001, 7)"
      ]
     },
     "execution_count": 8,
     "metadata": {},
     "output_type": "execute_result"
    }
   ],
   "source": [
    "location_df.shape"
   ]
  },
  {
   "cell_type": "code",
   "execution_count": 9,
   "metadata": {},
   "outputs": [],
   "source": [
    "location_df['coordinates'] = location_df.the_geom.apply(lambda x: x['coordinates'][0][0][0])"
   ]
  },
  {
   "cell_type": "code",
   "execution_count": 10,
   "metadata": {},
   "outputs": [],
   "source": [
    "location_df[['long','lat']] = pd.DataFrame(location_df['coordinates'].tolist(), index = location_df.index)"
   ]
  },
  {
   "cell_type": "code",
   "execution_count": 11,
   "metadata": {},
   "outputs": [],
   "source": [
    "location_df = location_df[['marker_id','long','lat']]"
   ]
  },
  {
   "cell_type": "code",
   "execution_count": 12,
   "metadata": {},
   "outputs": [],
   "source": [
    "location_df.rename(columns = {'marker_id':'streetmarker'}, inplace = True)"
   ]
  },
  {
   "cell_type": "code",
   "execution_count": 13,
   "metadata": {},
   "outputs": [
    {
     "data": {
      "text/plain": [
       "Index(['streetmarker', 'long', 'lat'], dtype='object')"
      ]
     },
     "execution_count": 13,
     "metadata": {},
     "output_type": "execute_result"
    }
   ],
   "source": [
    "location_df.columns"
   ]
  },
  {
   "cell_type": "code",
   "execution_count": 71,
   "metadata": {},
   "outputs": [
    {
     "data": {
      "text/html": [
       "<div>\n",
       "<style scoped>\n",
       "    .dataframe tbody tr th:only-of-type {\n",
       "        vertical-align: middle;\n",
       "    }\n",
       "\n",
       "    .dataframe tbody tr th {\n",
       "        vertical-align: top;\n",
       "    }\n",
       "\n",
       "    .dataframe thead th {\n",
       "        text-align: right;\n",
       "    }\n",
       "</style>\n",
       "<table border=\"1\" class=\"dataframe\">\n",
       "  <thead>\n",
       "    <tr style=\"text-align: right;\">\n",
       "      <th></th>\n",
       "      <th>streetmarker</th>\n",
       "      <th>long</th>\n",
       "      <th>lat</th>\n",
       "    </tr>\n",
       "  </thead>\n",
       "  <tbody>\n",
       "    <tr>\n",
       "      <th>0</th>\n",
       "      <td>20268E</td>\n",
       "      <td>144.985531</td>\n",
       "      <td>-37.829758</td>\n",
       "    </tr>\n",
       "    <tr>\n",
       "      <th>9</th>\n",
       "      <td>4902E</td>\n",
       "      <td>144.958095</td>\n",
       "      <td>-37.808002</td>\n",
       "    </tr>\n",
       "    <tr>\n",
       "      <th>12</th>\n",
       "      <td>8481W</td>\n",
       "      <td>144.966757</td>\n",
       "      <td>-37.825113</td>\n",
       "    </tr>\n",
       "    <tr>\n",
       "      <th>13</th>\n",
       "      <td>20308E</td>\n",
       "      <td>144.985862</td>\n",
       "      <td>-37.832815</td>\n",
       "    </tr>\n",
       "    <tr>\n",
       "      <th>19</th>\n",
       "      <td>3914N</td>\n",
       "      <td>144.955170</td>\n",
       "      <td>-37.812031</td>\n",
       "    </tr>\n",
       "  </tbody>\n",
       "</table>\n",
       "</div>"
      ],
      "text/plain": [
       "   streetmarker        long        lat\n",
       "0        20268E  144.985531 -37.829758\n",
       "9         4902E  144.958095 -37.808002\n",
       "12        8481W  144.966757 -37.825113\n",
       "13       20308E  144.985862 -37.832815\n",
       "19        3914N  144.955170 -37.812031"
      ]
     },
     "execution_count": 71,
     "metadata": {},
     "output_type": "execute_result"
    }
   ],
   "source": [
    "location_df.head()\n",
    "# this is the cleaned location dataset ready to merge"
   ]
  },
  {
   "cell_type": "code",
   "execution_count": 72,
   "metadata": {},
   "outputs": [
    {
     "data": {
      "text/plain": [
       "(6001, 3)"
      ]
     },
     "execution_count": 72,
     "metadata": {},
     "output_type": "execute_result"
    }
   ],
   "source": [
    "location_df.shape"
   ]
  },
  {
   "cell_type": "code",
   "execution_count": 73,
   "metadata": {},
   "outputs": [
    {
     "data": {
      "text/plain": [
       "(4631, 3)"
      ]
     },
     "execution_count": 73,
     "metadata": {},
     "output_type": "execute_result"
    }
   ],
   "source": [
    "all_violations.shape"
   ]
  },
  {
   "cell_type": "markdown",
   "metadata": {},
   "source": [
    "### Merge all_violations and locations_df on 'streetmarker'"
   ]
  },
  {
   "cell_type": "code",
   "execution_count": 14,
   "metadata": {},
   "outputs": [],
   "source": [
    "all_merge_location = pd.merge(all_violations, location_df, on=\"streetmarker\")"
   ]
  },
  {
   "cell_type": "code",
   "execution_count": 15,
   "metadata": {},
   "outputs": [
    {
     "data": {
      "text/plain": [
       "(4102, 4)"
      ]
     },
     "execution_count": 15,
     "metadata": {},
     "output_type": "execute_result"
    }
   ],
   "source": [
    "all_merge_location.shape"
   ]
  },
  {
   "cell_type": "code",
   "execution_count": 17,
   "metadata": {},
   "outputs": [
    {
     "data": {
      "text/html": [
       "<div>\n",
       "<style scoped>\n",
       "    .dataframe tbody tr th:only-of-type {\n",
       "        vertical-align: middle;\n",
       "    }\n",
       "\n",
       "    .dataframe tbody tr th {\n",
       "        vertical-align: top;\n",
       "    }\n",
       "\n",
       "    .dataframe thead th {\n",
       "        text-align: right;\n",
       "    }\n",
       "</style>\n",
       "<table border=\"1\" class=\"dataframe\">\n",
       "  <thead>\n",
       "    <tr style=\"text-align: right;\">\n",
       "      <th></th>\n",
       "      <th>streetmarker</th>\n",
       "      <th>total_violations</th>\n",
       "      <th>long</th>\n",
       "      <th>lat</th>\n",
       "    </tr>\n",
       "  </thead>\n",
       "  <tbody>\n",
       "    <tr>\n",
       "      <th>0</th>\n",
       "      <td>10009W</td>\n",
       "      <td>162</td>\n",
       "      <td>144.947719</td>\n",
       "      <td>-37.804563</td>\n",
       "    </tr>\n",
       "    <tr>\n",
       "      <th>1</th>\n",
       "      <td>1002E</td>\n",
       "      <td>112</td>\n",
       "      <td>144.962803</td>\n",
       "      <td>-37.818161</td>\n",
       "    </tr>\n",
       "    <tr>\n",
       "      <th>2</th>\n",
       "      <td>10041S</td>\n",
       "      <td>623</td>\n",
       "      <td>144.965739</td>\n",
       "      <td>-37.823369</td>\n",
       "    </tr>\n",
       "    <tr>\n",
       "      <th>3</th>\n",
       "      <td>10043S</td>\n",
       "      <td>475</td>\n",
       "      <td>144.965666</td>\n",
       "      <td>-37.823379</td>\n",
       "    </tr>\n",
       "    <tr>\n",
       "      <th>4</th>\n",
       "      <td>10049S</td>\n",
       "      <td>2707</td>\n",
       "      <td>144.963199</td>\n",
       "      <td>-37.822029</td>\n",
       "    </tr>\n",
       "  </tbody>\n",
       "</table>\n",
       "</div>"
      ],
      "text/plain": [
       "  streetmarker  total_violations        long        lat\n",
       "0       10009W               162  144.947719 -37.804563\n",
       "1        1002E               112  144.962803 -37.818161\n",
       "2       10041S               623  144.965739 -37.823369\n",
       "3       10043S               475  144.965666 -37.823379\n",
       "4       10049S              2707  144.963199 -37.822029"
      ]
     },
     "execution_count": 17,
     "metadata": {},
     "output_type": "execute_result"
    }
   ],
   "source": [
    "all_merge_location.head(5)"
   ]
  },
  {
   "cell_type": "code",
   "execution_count": 76,
   "metadata": {},
   "outputs": [],
   "source": [
    "def check_if_match(df_1, df_2, col_name_df1, col_name_df2):\n",
    "    unique_to_df_1 = [i for i in df_1[col_name_df1].unique() if i not in df_2[col_name_df2].unique()]\n",
    "    unique_to_df_2 = [i for i in df_2[col_name_df2].unique() if i not in df_1[col_name_df1].unique()]\n",
    "    common_to_df_1_and_df_2 = [i for i in df_2[col_name_df2].unique() if i in df_1[col_name_df1].unique()]\n",
    "    print('values unique to df_1', str(len(unique_to_df_1)))\n",
    "    print('values unique to df_2', str(len(unique_to_df_2)))\n",
    "    print('values common to df_1 and df_2', str(len(common_to_df_1_and_df_2)))\n",
    "    return unique_to_df_1, unique_to_df_2, common_to_df_1_and_df_2"
   ]
  },
  {
   "cell_type": "code",
   "execution_count": 77,
   "metadata": {},
   "outputs": [
    {
     "name": "stdout",
     "output_type": "stream",
     "text": [
      "values unique to df_1 529\n",
      "values unique to df_2 1899\n",
      "values common to df_1 and df_2 4102\n"
     ]
    }
   ],
   "source": [
    "result_unique_df_1, result_unique_df_2, result_common_df_1_df_2 = check_if_match(df_1 = all_violations, \\\n",
    "                df_2 = location_df, col_name_df1 = 'streetmarker', col_name_df2 = 'streetmarker')"
   ]
  },
  {
   "cell_type": "code",
   "execution_count": 78,
   "metadata": {},
   "outputs": [
    {
     "data": {
      "text/plain": [
       "529"
      ]
     },
     "execution_count": 78,
     "metadata": {},
     "output_type": "execute_result"
    }
   ],
   "source": [
    "4631 - 4102\n",
    "# this matches the number of items unique to df_1 --> a check that no other rows are lost/added\n",
    "# 4631 is rows of original all_violations, 4102 is rows of merged_df"
   ]
  },
  {
   "cell_type": "code",
   "execution_count": 79,
   "metadata": {},
   "outputs": [
    {
     "data": {
      "text/plain": [
       "11509S    1\n",
       "C3022     1\n",
       "C7208     1\n",
       "9333S     1\n",
       "5520E     1\n",
       "         ..\n",
       "1490E     1\n",
       "5491W     1\n",
       "9842N     1\n",
       "11895W    1\n",
       "12481S    1\n",
       "Name: streetmarker, Length: 4102, dtype: int64"
      ]
     },
     "execution_count": 79,
     "metadata": {},
     "output_type": "execute_result"
    }
   ],
   "source": [
    "all_merge_location.streetmarker.value_counts().sort_values(ascending = False)"
   ]
  },
  {
   "cell_type": "markdown",
   "metadata": {},
   "source": [
    "#### create csv file to view map in Tableau"
   ]
  },
  {
   "cell_type": "code",
   "execution_count": 92,
   "metadata": {},
   "outputs": [],
   "source": [
    "all_merge_location.to_csv('yearly_violations_agg_all_bays.csv')\n",
    "# This file to be investigated in Tableau"
   ]
  },
  {
   "cell_type": "markdown",
   "metadata": {},
   "source": [
    "### Investigate effect of merge on 2017 sensor data "
   ]
  },
  {
   "cell_type": "code",
   "execution_count": 81,
   "metadata": {},
   "outputs": [
    {
     "data": {
      "text/html": [
       "<div>\n",
       "<style scoped>\n",
       "    .dataframe tbody tr th:only-of-type {\n",
       "        vertical-align: middle;\n",
       "    }\n",
       "\n",
       "    .dataframe tbody tr th {\n",
       "        vertical-align: top;\n",
       "    }\n",
       "\n",
       "    .dataframe thead th {\n",
       "        text-align: right;\n",
       "    }\n",
       "</style>\n",
       "<table border=\"1\" class=\"dataframe\">\n",
       "  <thead>\n",
       "    <tr style=\"text-align: right;\">\n",
       "      <th></th>\n",
       "      <th>index</th>\n",
       "      <th>streetmarker</th>\n",
       "      <th>total_violations</th>\n",
       "    </tr>\n",
       "  </thead>\n",
       "  <tbody>\n",
       "    <tr>\n",
       "      <th>0</th>\n",
       "      <td>0</td>\n",
       "      <td>10001S</td>\n",
       "      <td>285</td>\n",
       "    </tr>\n",
       "    <tr>\n",
       "      <th>1</th>\n",
       "      <td>1</td>\n",
       "      <td>10003S</td>\n",
       "      <td>288</td>\n",
       "    </tr>\n",
       "    <tr>\n",
       "      <th>2</th>\n",
       "      <td>2</td>\n",
       "      <td>10005S</td>\n",
       "      <td>284</td>\n",
       "    </tr>\n",
       "    <tr>\n",
       "      <th>3</th>\n",
       "      <td>3</td>\n",
       "      <td>10007S</td>\n",
       "      <td>331</td>\n",
       "    </tr>\n",
       "    <tr>\n",
       "      <th>4</th>\n",
       "      <td>4</td>\n",
       "      <td>10009W</td>\n",
       "      <td>162</td>\n",
       "    </tr>\n",
       "  </tbody>\n",
       "</table>\n",
       "</div>"
      ],
      "text/plain": [
       "   index streetmarker  total_violations\n",
       "0      0       10001S               285\n",
       "1      1       10003S               288\n",
       "2      2       10005S               284\n",
       "3      3       10007S               331\n",
       "4      4       10009W               162"
      ]
     },
     "execution_count": 81,
     "metadata": {},
     "output_type": "execute_result"
    }
   ],
   "source": [
    "all_violations.head()"
   ]
  },
  {
   "cell_type": "code",
   "execution_count": 82,
   "metadata": {},
   "outputs": [
    {
     "data": {
      "text/html": [
       "<div>\n",
       "<style scoped>\n",
       "    .dataframe tbody tr th:only-of-type {\n",
       "        vertical-align: middle;\n",
       "    }\n",
       "\n",
       "    .dataframe tbody tr th {\n",
       "        vertical-align: top;\n",
       "    }\n",
       "\n",
       "    .dataframe thead th {\n",
       "        text-align: right;\n",
       "    }\n",
       "</style>\n",
       "<table border=\"1\" class=\"dataframe\">\n",
       "  <thead>\n",
       "    <tr style=\"text-align: right;\">\n",
       "      <th></th>\n",
       "      <th>index</th>\n",
       "      <th>streetmarker</th>\n",
       "      <th>total_violations</th>\n",
       "    </tr>\n",
       "  </thead>\n",
       "  <tbody>\n",
       "    <tr>\n",
       "      <th>2442</th>\n",
       "      <td>2442</td>\n",
       "      <td>5314E</td>\n",
       "      <td>4299</td>\n",
       "    </tr>\n",
       "    <tr>\n",
       "      <th>1432</th>\n",
       "      <td>1432</td>\n",
       "      <td>1549W</td>\n",
       "      <td>3968</td>\n",
       "    </tr>\n",
       "    <tr>\n",
       "      <th>22</th>\n",
       "      <td>22</td>\n",
       "      <td>10055S</td>\n",
       "      <td>3866</td>\n",
       "    </tr>\n",
       "    <tr>\n",
       "      <th>21</th>\n",
       "      <td>21</td>\n",
       "      <td>10053S</td>\n",
       "      <td>3840</td>\n",
       "    </tr>\n",
       "    <tr>\n",
       "      <th>1431</th>\n",
       "      <td>1431</td>\n",
       "      <td>1547W</td>\n",
       "      <td>3646</td>\n",
       "    </tr>\n",
       "    <tr>\n",
       "      <th>20</th>\n",
       "      <td>20</td>\n",
       "      <td>10051S</td>\n",
       "      <td>3190</td>\n",
       "    </tr>\n",
       "    <tr>\n",
       "      <th>718</th>\n",
       "      <td>718</td>\n",
       "      <td>13063S</td>\n",
       "      <td>3173</td>\n",
       "    </tr>\n",
       "    <tr>\n",
       "      <th>715</th>\n",
       "      <td>715</td>\n",
       "      <td>13059S</td>\n",
       "      <td>3164</td>\n",
       "    </tr>\n",
       "    <tr>\n",
       "      <th>19</th>\n",
       "      <td>19</td>\n",
       "      <td>10049S</td>\n",
       "      <td>2707</td>\n",
       "    </tr>\n",
       "    <tr>\n",
       "      <th>1255</th>\n",
       "      <td>1255</td>\n",
       "      <td>13918E</td>\n",
       "      <td>2689</td>\n",
       "    </tr>\n",
       "  </tbody>\n",
       "</table>\n",
       "</div>"
      ],
      "text/plain": [
       "      index streetmarker  total_violations\n",
       "2442   2442        5314E              4299\n",
       "1432   1432        1549W              3968\n",
       "22       22       10055S              3866\n",
       "21       21       10053S              3840\n",
       "1431   1431        1547W              3646\n",
       "20       20       10051S              3190\n",
       "718     718       13063S              3173\n",
       "715     715       13059S              3164\n",
       "19       19       10049S              2707\n",
       "1255   1255       13918E              2689"
      ]
     },
     "execution_count": 82,
     "metadata": {},
     "output_type": "execute_result"
    }
   ],
   "source": [
    "all_violations.sort_values(by = 'total_violations', ascending = False).head(10)\n",
    "# the top result (bay with most violations in 2017), does not have a matching marker_id in locations_df and \n",
    "# is therefore removed in the merge. This shows a downside of this approach --> we are removing some data if it \n",
    "# doesn't have a matching location marker_id. \n",
    "# Further investigation with data holders could be done here:\n",
    "# what is this bay (and other top violation bays), should it be included, get lat/long, deliberately excluded? "
   ]
  },
  {
   "cell_type": "code",
   "execution_count": 98,
   "metadata": {},
   "outputs": [
    {
     "data": {
      "text/plain": [
       "<AxesSubplot:title={'center':'Top 10 by count of violations per parking bay'}, xlabel='streetmarker', ylabel='Count of violations'>"
      ]
     },
     "execution_count": 98,
     "metadata": {},
     "output_type": "execute_result"
    },
    {
     "data": {
      "image/png": "[encoded data removed]",
      "text/plain": [
       "<Figure size 432x288 with 1 Axes>"
      ]
     },
     "metadata": {
      "needs_background": "light"
     },
     "output_type": "display_data"
    }
   ],
   "source": [
    "all_violations.sort_values(by = 'total_violations', ascending = False).head(10).plot(x = 'streetmarker', \\\n",
    "        y = 'total_violations', ylabel = 'Count of violations', kind='bar', \\\n",
    "        title = 'Top 10 by count of violations per parking bay')"
   ]
  },
  {
   "cell_type": "code",
   "execution_count": null,
   "metadata": {},
   "outputs": [],
   "source": [
    "all_violations.plot()"
   ]
  },
  {
   "cell_type": "code",
   "execution_count": 57,
   "metadata": {},
   "outputs": [
    {
     "data": {
      "text/html": [
       "<div>\n",
       "<style scoped>\n",
       "    .dataframe tbody tr th:only-of-type {\n",
       "        vertical-align: middle;\n",
       "    }\n",
       "\n",
       "    .dataframe tbody tr th {\n",
       "        vertical-align: top;\n",
       "    }\n",
       "\n",
       "    .dataframe thead th {\n",
       "        text-align: right;\n",
       "    }\n",
       "</style>\n",
       "<table border=\"1\" class=\"dataframe\">\n",
       "  <thead>\n",
       "    <tr style=\"text-align: right;\">\n",
       "      <th></th>\n",
       "      <th>deviceid</th>\n",
       "      <th>arrivaltime</th>\n",
       "      <th>departuretime</th>\n",
       "      <th>durationseconds</th>\n",
       "      <th>streetmarker</th>\n",
       "      <th>sign</th>\n",
       "      <th>area</th>\n",
       "      <th>streetid</th>\n",
       "      <th>streetname</th>\n",
       "      <th>betweenstreet1</th>\n",
       "      <th>betweenstreet2</th>\n",
       "      <th>side_of_street</th>\n",
       "      <th>in_violation</th>\n",
       "      <th>vehicle_present</th>\n",
       "    </tr>\n",
       "  </thead>\n",
       "  <tbody>\n",
       "    <tr>\n",
       "      <th>1071</th>\n",
       "      <td>19417</td>\n",
       "      <td>2017-05-22T10:10:35.000</td>\n",
       "      <td>2017-05-22T11:23:32.000</td>\n",
       "      <td>4377</td>\n",
       "      <td>5314E</td>\n",
       "      <td>P10 Mins AOT</td>\n",
       "      <td>Mint</td>\n",
       "      <td>1428</td>\n",
       "      <td>WILLIAM STREET</td>\n",
       "      <td>A'BECKETT STREET</td>\n",
       "      <td>LA TROBE STREET</td>\n",
       "      <td>2</td>\n",
       "      <td>True</td>\n",
       "      <td>True</td>\n",
       "    </tr>\n",
       "    <tr>\n",
       "      <th>1102</th>\n",
       "      <td>19417</td>\n",
       "      <td>2017-01-23T18:04:35.000</td>\n",
       "      <td>2017-01-23T18:35:49.000</td>\n",
       "      <td>1874</td>\n",
       "      <td>5314E</td>\n",
       "      <td>P10 Mins AOT</td>\n",
       "      <td>Mint</td>\n",
       "      <td>1428</td>\n",
       "      <td>WILLIAM STREET</td>\n",
       "      <td>A'BECKETT STREET</td>\n",
       "      <td>LA TROBE STREET</td>\n",
       "      <td>2</td>\n",
       "      <td>True</td>\n",
       "      <td>True</td>\n",
       "    </tr>\n",
       "    <tr>\n",
       "      <th>1234</th>\n",
       "      <td>19417</td>\n",
       "      <td>2017-08-21T01:59:39.000</td>\n",
       "      <td>2017-08-21T02:48:37.000</td>\n",
       "      <td>2938</td>\n",
       "      <td>5314E</td>\n",
       "      <td>P10 Mins AOT</td>\n",
       "      <td>Mint</td>\n",
       "      <td>1428</td>\n",
       "      <td>WILLIAM STREET</td>\n",
       "      <td>A'BECKETT STREET</td>\n",
       "      <td>LA TROBE STREET</td>\n",
       "      <td>2</td>\n",
       "      <td>True</td>\n",
       "      <td>True</td>\n",
       "    </tr>\n",
       "    <tr>\n",
       "      <th>1490</th>\n",
       "      <td>19417</td>\n",
       "      <td>2017-02-28T11:43:35.000</td>\n",
       "      <td>2017-02-28T12:29:05.000</td>\n",
       "      <td>2730</td>\n",
       "      <td>5314E</td>\n",
       "      <td>P10 Mins AOT</td>\n",
       "      <td>Mint</td>\n",
       "      <td>1428</td>\n",
       "      <td>WILLIAM STREET</td>\n",
       "      <td>A'BECKETT STREET</td>\n",
       "      <td>LA TROBE STREET</td>\n",
       "      <td>2</td>\n",
       "      <td>True</td>\n",
       "      <td>True</td>\n",
       "    </tr>\n",
       "    <tr>\n",
       "      <th>2179</th>\n",
       "      <td>19417</td>\n",
       "      <td>2017-09-11T08:58:45.000</td>\n",
       "      <td>2017-09-11T09:16:49.000</td>\n",
       "      <td>1084</td>\n",
       "      <td>5314E</td>\n",
       "      <td>P10 Mins AOT</td>\n",
       "      <td>Mint</td>\n",
       "      <td>1428</td>\n",
       "      <td>WILLIAM STREET</td>\n",
       "      <td>A'BECKETT STREET</td>\n",
       "      <td>LA TROBE STREET</td>\n",
       "      <td>2</td>\n",
       "      <td>True</td>\n",
       "      <td>True</td>\n",
       "    </tr>\n",
       "    <tr>\n",
       "      <th>2595</th>\n",
       "      <td>19417</td>\n",
       "      <td>2017-10-05T21:38:29.000</td>\n",
       "      <td>2017-10-05T21:53:34.000</td>\n",
       "      <td>905</td>\n",
       "      <td>5314E</td>\n",
       "      <td>P10 Mins AOT</td>\n",
       "      <td>Mint</td>\n",
       "      <td>1428</td>\n",
       "      <td>WILLIAM STREET</td>\n",
       "      <td>A'BECKETT STREET</td>\n",
       "      <td>LA TROBE STREET</td>\n",
       "      <td>2</td>\n",
       "      <td>True</td>\n",
       "      <td>True</td>\n",
       "    </tr>\n",
       "    <tr>\n",
       "      <th>4503</th>\n",
       "      <td>19417</td>\n",
       "      <td>2017-05-03T19:56:16.000</td>\n",
       "      <td>2017-05-03T20:15:59.000</td>\n",
       "      <td>1183</td>\n",
       "      <td>5314E</td>\n",
       "      <td>P10 Mins AOT</td>\n",
       "      <td>Mint</td>\n",
       "      <td>1428</td>\n",
       "      <td>WILLIAM STREET</td>\n",
       "      <td>A'BECKETT STREET</td>\n",
       "      <td>LA TROBE STREET</td>\n",
       "      <td>2</td>\n",
       "      <td>True</td>\n",
       "      <td>True</td>\n",
       "    </tr>\n",
       "    <tr>\n",
       "      <th>4644</th>\n",
       "      <td>19417</td>\n",
       "      <td>2017-03-02T11:44:30.000</td>\n",
       "      <td>2017-03-02T11:59:52.000</td>\n",
       "      <td>922</td>\n",
       "      <td>5314E</td>\n",
       "      <td>P10 Mins AOT</td>\n",
       "      <td>Mint</td>\n",
       "      <td>1428</td>\n",
       "      <td>WILLIAM STREET</td>\n",
       "      <td>A'BECKETT STREET</td>\n",
       "      <td>LA TROBE STREET</td>\n",
       "      <td>2</td>\n",
       "      <td>True</td>\n",
       "      <td>True</td>\n",
       "    </tr>\n",
       "    <tr>\n",
       "      <th>4905</th>\n",
       "      <td>19417</td>\n",
       "      <td>2017-05-22T21:25:34.000</td>\n",
       "      <td>2017-05-22T21:53:01.000</td>\n",
       "      <td>1647</td>\n",
       "      <td>5314E</td>\n",
       "      <td>P10 Mins AOT</td>\n",
       "      <td>Mint</td>\n",
       "      <td>1428</td>\n",
       "      <td>WILLIAM STREET</td>\n",
       "      <td>A'BECKETT STREET</td>\n",
       "      <td>LA TROBE STREET</td>\n",
       "      <td>2</td>\n",
       "      <td>True</td>\n",
       "      <td>True</td>\n",
       "    </tr>\n",
       "    <tr>\n",
       "      <th>5494</th>\n",
       "      <td>19417</td>\n",
       "      <td>2017-03-21T07:47:42.000</td>\n",
       "      <td>2017-03-21T08:19:29.000</td>\n",
       "      <td>1907</td>\n",
       "      <td>5314E</td>\n",
       "      <td>P10 Mins AOT</td>\n",
       "      <td>Mint</td>\n",
       "      <td>1428</td>\n",
       "      <td>WILLIAM STREET</td>\n",
       "      <td>A'BECKETT STREET</td>\n",
       "      <td>LA TROBE STREET</td>\n",
       "      <td>2</td>\n",
       "      <td>True</td>\n",
       "      <td>True</td>\n",
       "    </tr>\n",
       "  </tbody>\n",
       "</table>\n",
       "</div>"
      ],
      "text/plain": [
       "     deviceid              arrivaltime            departuretime  \\\n",
       "1071    19417  2017-05-22T10:10:35.000  2017-05-22T11:23:32.000   \n",
       "1102    19417  2017-01-23T18:04:35.000  2017-01-23T18:35:49.000   \n",
       "1234    19417  2017-08-21T01:59:39.000  2017-08-21T02:48:37.000   \n",
       "1490    19417  2017-02-28T11:43:35.000  2017-02-28T12:29:05.000   \n",
       "2179    19417  2017-09-11T08:58:45.000  2017-09-11T09:16:49.000   \n",
       "2595    19417  2017-10-05T21:38:29.000  2017-10-05T21:53:34.000   \n",
       "4503    19417  2017-05-03T19:56:16.000  2017-05-03T20:15:59.000   \n",
       "4644    19417  2017-03-02T11:44:30.000  2017-03-02T11:59:52.000   \n",
       "4905    19417  2017-05-22T21:25:34.000  2017-05-22T21:53:01.000   \n",
       "5494    19417  2017-03-21T07:47:42.000  2017-03-21T08:19:29.000   \n",
       "\n",
       "     durationseconds streetmarker          sign  area streetid  \\\n",
       "1071            4377        5314E  P10 Mins AOT  Mint     1428   \n",
       "1102            1874        5314E  P10 Mins AOT  Mint     1428   \n",
       "1234            2938        5314E  P10 Mins AOT  Mint     1428   \n",
       "1490            2730        5314E  P10 Mins AOT  Mint     1428   \n",
       "2179            1084        5314E  P10 Mins AOT  Mint     1428   \n",
       "2595             905        5314E  P10 Mins AOT  Mint     1428   \n",
       "4503            1183        5314E  P10 Mins AOT  Mint     1428   \n",
       "4644             922        5314E  P10 Mins AOT  Mint     1428   \n",
       "4905            1647        5314E  P10 Mins AOT  Mint     1428   \n",
       "5494            1907        5314E  P10 Mins AOT  Mint     1428   \n",
       "\n",
       "          streetname    betweenstreet1   betweenstreet2 side_of_street  \\\n",
       "1071  WILLIAM STREET  A'BECKETT STREET  LA TROBE STREET              2   \n",
       "1102  WILLIAM STREET  A'BECKETT STREET  LA TROBE STREET              2   \n",
       "1234  WILLIAM STREET  A'BECKETT STREET  LA TROBE STREET              2   \n",
       "1490  WILLIAM STREET  A'BECKETT STREET  LA TROBE STREET              2   \n",
       "2179  WILLIAM STREET  A'BECKETT STREET  LA TROBE STREET              2   \n",
       "2595  WILLIAM STREET  A'BECKETT STREET  LA TROBE STREET              2   \n",
       "4503  WILLIAM STREET  A'BECKETT STREET  LA TROBE STREET              2   \n",
       "4644  WILLIAM STREET  A'BECKETT STREET  LA TROBE STREET              2   \n",
       "4905  WILLIAM STREET  A'BECKETT STREET  LA TROBE STREET              2   \n",
       "5494  WILLIAM STREET  A'BECKETT STREET  LA TROBE STREET              2   \n",
       "\n",
       "     in_violation vehicle_present  \n",
       "1071         True            True  \n",
       "1102         True            True  \n",
       "1234         True            True  \n",
       "1490         True            True  \n",
       "2179         True            True  \n",
       "2595         True            True  \n",
       "4503         True            True  \n",
       "4644         True            True  \n",
       "4905         True            True  \n",
       "5494         True            True  "
      ]
     },
     "execution_count": 57,
     "metadata": {},
     "output_type": "execute_result"
    }
   ],
   "source": [
    "sensor_df.loc[sensor_df['streetmarker'] == '5314E'].head(10)\n",
    "# interestingly this top bay is a P10mins AOT spot on William Street (in the middle of the city)\n",
    "# maybe this is deliberately excluded due to it being a very short term/or different parking classification? "
   ]
  },
  {
   "cell_type": "markdown",
   "metadata": {},
   "source": [
    "### Further work: investigate relationship of top violation parks to restrictions"
   ]
  },
  {
   "cell_type": "code",
   "execution_count": 88,
   "metadata": {},
   "outputs": [
    {
     "data": {
      "text/plain": [
       "302"
      ]
     },
     "execution_count": 88,
     "metadata": {},
     "output_type": "execute_result"
    }
   ],
   "source": [
    "sensor_df['sign'].nunique()"
   ]
  },
  {
   "cell_type": "code",
   "execution_count": 89,
   "metadata": {},
   "outputs": [
    {
     "data": {
      "text/plain": [
       "array(['LZ 30M 722 M-Su 7:30-18:30', '2P MTR M-SAT 7:30-18:30',\n",
       "       '1P SUN 7:30-18:30', '2P TKT A M-SAT 7:30-18:30',\n",
       "       'P/5 M-SAT 7:30-19:30 - No Park', '1P MTR M-SAT 7:30-18:30',\n",
       "       '4P RPA M-F 7:30-18:30', '1/2P A RPE M-SUN 7:30-23:00',\n",
       "       '1/4P M-F 7:30-18:30', 'P10 AOT', '2P 7.30-18.30 incl PH',\n",
       "       '1P TKT 6.00 AM - 6.30PM MON-SAT', '3P TKT A M-F 7:30-18:30',\n",
       "       '1/2P AOT RPE 7.30 - 6.30', '1/2P MTR M-SAT 7:30-19:30',\n",
       "       '1P MTR M-SAT 7:30-19:30', '2P TKT A M-F 7:30-18:30',\n",
       "       '1P TKT A M-SAT 7:30-18:30', '1P RPA M-SUN 7:30-23:00',\n",
       "       '1P A RPE M-F 7:30-18:30', 'LZ 15M M-F 7:30-23:00',\n",
       "       '4P TKT A M-F 7:30-18:30', 'P/10 M-SUN 5:00-11:59 - No Park',\n",
       "       'P/5 M-SUN 0:00-23:59 - No Park', '2P SUN 7:30-18:30',\n",
       "       '2P MTR M-SAT 7:30-20:30', '1P MTR M-F 9:30-18:30',\n",
       "       '1P TKT A M-F 7:30-18:30', '1/4P M-SUN 7:30-18:30',\n",
       "       '1/2P MTR M-F 9:30-19:30', 'LZ 15M M-F 7:30-19:30',\n",
       "       '1P SAT-SUN 7:30-18:30', 'P DIS 30MINS M-SUN 00:00-11:59',\n",
       "       '2P MTR M-F 9:30-18:30', 'P5 M-SUN 7:30-18:30',\n",
       "       '2P MTR M-F 7:30-18:30', '1/2P A RPE M-F 7:30-18:30',\n",
       "       '1/4P M-SAT 7:30-19:30', '1/2P TKT A M-SAT 7:30-18:30',\n",
       "       '1/2P RPA M-F 7:30-18:30', '1P A RPE M-SUN 7:30-23:00',\n",
       "       '2P 7.30 - 22.00', 'LZ 30M M-SUN 7:30-18:30',\n",
       "       '1P DIS M-SUN 0:00-23:59', '1P MTR M-F 9:30-16:00',\n",
       "       '3P MTR M-SAT 7:30-20:30', '2P MTR RPA M-F 7:30-18:30',\n",
       "       '4P MTR M-F 7:30-18:30',\n",
       "       'P/10 MINS NO PARKING M-SUN 0:00 TO 23:59',\n",
       "       '2P TKT A M-SAT 7:30-20:30', 'LZ 15MINS 7.30am - 7.30pm',\n",
       "       'LZ 15M M-SUN 7:30-18:30', 'LZ 30M M-F 7:30-18:30',\n",
       "       'LZ 15M M-F 7:30-18:30', '1/4P M-F 7:30-19:30',\n",
       "       '2P SUN 7:30-18:00', 'Loading Zone 60mins',\n",
       "       '1P TKT A M-SAT 7:30-19:30', '2P DIS ONLY M-SAT 7:30-20:30',\n",
       "       'LZ 30MINS 7.30-23.00', '1P TKT RPE M-SAT 7:30-23:00',\n",
       "       '1/2P M-F 7:30-18:30', 'P10 min 7.30am-22.00 <>',\n",
       "       '2P MTR RPA SAT 7:30-12:30', '4P MTR M-SAT 7:30-18:30',\n",
       "       '1P MTR M-F 7:30-16:30', 'LZ 30mins 7.30 to 7.30pm',\n",
       "       'P5 M-SUN 0:00-23:59', '1P MTR M-F 10:00-16:00',\n",
       "       '1P MTR < > 6.30PM - 11.00PM', '1P TKT A SAT 7:30-12:30',\n",
       "       '1/2P A RPE SAT 7:30-12:30', 'P/10 M-SUN 0:00-23:59 - No Park',\n",
       "       '1/2P TKT A M-SAT 7:30-19:30', '1/2P MTR M-F 7:30-16:00',\n",
       "       '1/2P MTR M-F 7:30-16:30', 'P10 M-SUN 0:00-23:59 B',\n",
       "       '3P SUN 7:30-18:30', '1/4P M-F 7:30-16:00',\n",
       "       '3P TKT A M-SAT 7:30-18:30', '1P TKTA M-F 9.30-6.30PM',\n",
       "       '1/4P M-SUN 0:00-23:59', 'LZ 15M M-F 9:30-19:30',\n",
       "       'P/   (621 OFFENCE) M-F 7.30-8.30', '1/2P M-SAT 7:30-19:30',\n",
       "       '2P MTR SAT 7:30-20:30', 'LZ 15M M-SAT 7:30-19:30',\n",
       "       '2P TKT A RPA M-F 7:30-18:30', '2P TKT A M-F 9:30-16:00',\n",
       "       'LZ 15M M-SUN 7:30-19:30', '3P MTR M-F 10:00-16:00',\n",
       "       '2P TKT A SAT 7:30-12:30', '3P TKT A M-SAT 7:30-20:30',\n",
       "       '1P MTR M-SAT 9:30-16:00', '1P MTR M-F 7:30-19:30',\n",
       "       '3P TKT A SAT 7:30-12:30', '1/4P M-F 7:30-9:30',\n",
       "       '2P DIS M-SUN 0:00-23:59', '1P MTR M-F 7:30-18:30',\n",
       "       '2P MTR SAT 7:30-12:30', '2P 5.00AM - 6.30PM SUN',\n",
       "       '1/2P MTR M-F 9:30-16:00', '1/4P M-F 16:00-18:30',\n",
       "       '2P M-F 7:30-18:30', '1/2P RPA M-SUN 7:30-18:30',\n",
       "       '1/2P MTR M-F 10:00-16:00', 'LZ 30M M-F 7:30-19:30',\n",
       "       '2P TKT A M-SAT 7:30-19:30', 'LZ 30M M-SUN 7:30-19:30',\n",
       "       '2P DIS AOT 00:00-16:00', 'P/15 M-F 7:00-9:00 - No Parking (621)',\n",
       "       'P/10 (621) M-SUN 7.30AM TO 7.30PM',\n",
       "       'P/15 M-SUN 0:00-23:59- No Park', 'LZ 15mins 7.30 - 22.00',\n",
       "       '1P M-F 7:30-18:30', '1/4P M-SAT 7:30-18:30',\n",
       "       '1P M-SUN 7:30-23:00', '1/4P M-SAT 16:00-19:30',\n",
       "       '1P MTR M-F 7:30-16:00', 'P10 M-SAT 7:30-19:30',\n",
       "       '4P M-F 7:30-18:30', 'LZ 15M M-SUN 0:00-23:59',\n",
       "       '3P DIS M-SUN 7:30-19:30', '1P AOT M-SAT 19:30-23:59',\n",
       "       '1/2P RPA M-SAT 7:30-18:30', '1P TKT A M-SAT 7:30-20:30',\n",
       "       '2P DIS ONLY 7.30 - 20.30',\n",
       "       'P/10mins (621) AOT M-SUN 12.00AM-11.59PM',\n",
       "       '2P MTR M-F 10:00-16:00', '2P DIS AOT 9:30-23:59',\n",
       "       '1P M-SUN 7:30-19:30', '1P RPA M-F 7:30-18:30',\n",
       "       '2P DIS ONLY M-SUN 7:30-18:30',\n",
       "       'LZ 30MINS 722 - SAT 7.30 TO 12.30', '2P SAT 7:30-12:30',\n",
       "       'P10 M-SUN 6.30PM - MIDNIGHT', '3P MTR M-SAT 7.30 - 18.30',\n",
       "       'LZ 30M M-SAT 7:30-19:30', '2P MTR M-F 7:30-16:00',\n",
       "       'P10 M-SUN 7:30-19:30', 'LZ 15M M-F 10:00-16:00',\n",
       "       '4P MTR RPA M-F 7:30-18:30', 'LZ 30MINS - 722 OFFENCE',\n",
       "       '2P METER M-F 9:00 - 16:00', 'LZ 15M M-SAT 7:30-18:30',\n",
       "       '1P SUN 7:30-18:00', '2P MTR M-SAT 7.30 -16.30',\n",
       "       '1/4P M-SUN 7:30-22:00', '1/2P MTR SAT 7:30-1930',\n",
       "       '4P TKT A SAT 7:30-12:30', '2P DIS 7.30AM TO 8.30PM',\n",
       "       '1/4P no time or days', '1P TKT A RPA M-F 7:30-18:30',\n",
       "       '1/2P DIS M-F 19:00-22:00', '1P MTR Sat 7.30am to 6.30pm',\n",
       "       '1P Meter 6.00-16.30', '1P MTR SAT 7:30-19:30',\n",
       "       '1/4P SAT 7:30-12:30', 'LZ 15M M-F 6.00AM - 7.30PM',\n",
       "       'LZ 30MIN 722 >', 'P5 M-F 7:30-18:30',\n",
       "       'LZ 30MINS -722 - M-F 7.30-19.30', 'P10 Mins AOT',\n",
       "       '2P RPA M-F 7:30-18:30', '1P MTR M-SAT 6:00-19:30',\n",
       "       '4P RPA SAT 7:30-12:30', '1P MTR SAT 7:30-12:30',\n",
       "       '1/4 P MON-SUN 0.00-23.59 AOT', '2P M-SAT 7:30-20:30',\n",
       "       '2P TKT A SAT 7:30-20:30', '1P A RPE SAT 7:30-12:30',\n",
       "       '4P TKT A M-SAT 7:30-20:30', '4P DIS ONLY M-SUN',\n",
       "       'LZ 30MINS 0.00-23.59 (722)', '2P MTR M-SAT 7:30-19:30',\n",
       "       '2P MTR M-F 9:30-16:00', '4P DIS 12.00 to 11.59pm AOT',\n",
       "       '2P SUN 6:00-18:30', '2P DIS S-S 7:30-22:00',\n",
       "       'LZ 30M 722 M-SAT 7:30-19:30', '1/2P RPA SAT 7:30-12:30',\n",
       "       '2P SUN 7:30-19:30', '1P RPE SUN 7:30-23:00',\n",
       "       'P10 M-F 10:00-16:00', 'P/15 M-F 4:00-6:30 No Parking (621)',\n",
       "       '2P DIS 7.30 - 8.30PM', '1/2 P MTR < > 6.00AM TO 11.00PM',\n",
       "       '1/2P MTR M-SAT 7.30 TO 18.30', 'P15 M-SAT 7:30-19:30',\n",
       "       '3P A RPE M-F 7:30-18:30', '1/2P MTR M-F 18:00-19:30',\n",
       "       '1P SAT 7:30-19:30', 'P/10 M-SAT 7.30 - 18.30',\n",
       "       '2P SAT 7:30-19:30', '1P MTR M-F 9:30-19:30', '2P S-S 7:30-18:30',\n",
       "       '1P RPA SAT 7:30-12:30', '2P DIS ONLY M-SUN 7:30-23:00',\n",
       "       '1P MTR M-SAT 7.30 TO 20.30', '2P DIS AOT 0.00- 23.59',\n",
       "       '1/2P MTR M-F 7:30-19:30', 'LZ 30M M-SUN 00:00-23:59',\n",
       "       '2P DIS ONLY 7.30AM TO 6.30PM', '2P SUN 7:30-23:00',\n",
       "       '1P MTR 6.00-6.30PM MON-SAT', '2P RPA SAT 7:30-12:30',\n",
       "       '2P DIS AOT 0:00-23:59', '2P MTR M-F 9:30-20:30',\n",
       "       '1/4 P AOT M-SUN 0.00-23.59', '2P MTR M-F 18:00-2030',\n",
       "       '1P TKT 7.30-8.30PM SAT', '1/4P M-SAT 7:30-9:30',\n",
       "       'LZ 30MINS M-Sat 00.00 to 23.59', 'LZ 30M 722 M-SU 7:30 to 19:30',\n",
       "       '1P MTR SAT 7.30-6.30PM', 'L/Zone 30MINS 7.30 - 6.30PM',\n",
       "       'P10 SAT 7:30-19:30', 'LZ 15mins Mon-Fri 9.30 to 4.30pm',\n",
       "       '3P MTR M-F 9.30 TO 16.30', '4P MTR SAT 7:30-12:30',\n",
       "       '2P DIS 00:00-23:59', '2P DIS M-SUN 7:30-19:30',\n",
       "       '1P MTR < > 6.00AM - 4.00PM', '2P A PRE SAT 7:30-12:30',\n",
       "       '1/2P DIS M-F 10:00-16:00', '2P DIS M-F 7:30-19:30',\n",
       "       '1P MTR SAT 7:30-12:00', '1/4P M-F 18:30-19:30',\n",
       "       '2P SUN 7:30-18:30 - old', '3P MTR SAT 7:30-20:30',\n",
       "       '2P TKT A M-F 18:00-20:30', '2P M-SUN 7:30-18:30',\n",
       "       '1/2P MTR M-F 18:30-19:30', '2P DIS M-F 7:30-16:00',\n",
       "       '2P MTR M-F 9.30 - 16.30', '4P DIS 7.30-8.30',\n",
       "       'LZ 30mins 7.30 23.00', '1P DIS M-SUN 7:00-18:30',\n",
       "       'LZ 15mins SAT - SUN 7.30 TO 7.30PM', '2P DIS ONLY',\n",
       "       'LZ 30M SAT 7:30-12:30', '2P DIS ONLY SUN 7:30-18:30',\n",
       "       '2P S-S 7:30-19:30', '3P MTR Sat 7:30-20:30', '1P SUN 7:30-19:30',\n",
       "       '3P Ticket M-F 1000-1500', 'LZ 15M SAT 7:30-12:30',\n",
       "       '1PMTR M-SAT 9.30 - 7.30', '2P MTR M-F 7.30am - 4.30pm',\n",
       "       '2P DIS M-F 7:30-18:30', '2P RPA S-S 7:30-18:30',\n",
       "       '1P SAT 7:30-12:30', '4P SAT-SUN 7.30am to 6.30pm',\n",
       "       'P10 SUN 7:30-18:30', 'P10 M-F 19:00-19:30',\n",
       "       '1P AOT M-SAT 0:00-7:30', '1P TKT SAT 7.30-6.30PM',\n",
       "       '4P MTR RPA SAT 7:30-12:30', '2P M-F 20:30-23:00',\n",
       "       'P10 M-F 1500-1600', '2P MTR M-F 7.30 TO 16.30',\n",
       "       '2P DIS M-SAT 7:30-19:30', '3P Disable AOT',\n",
       "       '4P DIS AOT 19:30-23:59', '4P DIS ONLY AOT 12.00AM - 11.59PM',\n",
       "       '3P DIS ONLY M-F 7:30 - 16:00', '1/2P M-SAT 7:30-20:30',\n",
       "       'LZ 15M SAT 7:30-19:30', '1P AOT SUN 0:00-23:59',\n",
       "       'LZ 30MINS 722 7.30 - 23.00', '4P Dis Sat & Sun 7.30-7.30',\n",
       "       'LZ 15M SUN 7:30-18:30', '4P DIS 7.30am - 6.30pm',\n",
       "       '3P TKT A M-F 9:30-16:00', '3P A RPE SAT 7:30-12:30',\n",
       "       '2P DIS SAT 7:30-19:30', '2P TKTA SAT 7.30 AM TO 7.30PM',\n",
       "       '1/4 P M-F 9.00 - 16.00', '2P DIS AOT 0:00-7:00',\n",
       "       '1P M-SAT 7:30-19:30', '2P DIS AOT 18:30-23:59',\n",
       "       'LZ 15M M-F 19:00-19:30', 'LZ 30M SUN 7:30-18:30',\n",
       "       '2P MTR SUN 6:00-18:30', '2P DIS SUN 7:30-18:30',\n",
       "       'Temp Sign Plate Sun-Sun 4:00-5:00', '2P TKT MF 10am to 4pm',\n",
       "       '2P Meter M-F 7.30 TO 4.30', '1/4P SAT 7:30-12:00',\n",
       "       '4P Dis M-F 9.30-7.30', '2P DIS SAT 7:30-12:30',\n",
       "       '2P DIS M-F 9.30 - 8.30PM', '1/4P M-SUN 7:30-19:30',\n",
       "       '2P MTR SAT 7:30-19:30', '4P DIS AOT 12:00-7:30',\n",
       "       '2P 7.30PM - 11.00PM', '2P DIS SAT - SUN 7.30 TO 20.30', nan,\n",
       "       '2P MTR M-F 16:30-20:30', 'P 5 Mon - Sat 7.30 - 19.30',\n",
       "       '3P DIS ONLY SAT 7:30-12:30', '3P Ticket Sat 0730-2030',\n",
       "       'P MTR M-SAT 19:30-20:30'], dtype=object)"
      ]
     },
     "execution_count": 89,
     "metadata": {},
     "output_type": "execute_result"
    }
   ],
   "source": [
    "sensor_df['sign'].unique()\n",
    "# hard to separate these for further investigate systematically\n",
    "# further work could investigate the connection to the restrictions dataset if more valuable information there"
   ]
  },
  {
   "cell_type": "code",
   "execution_count": 91,
   "metadata": {},
   "outputs": [
    {
     "data": {
      "text/html": [
       "<div>\n",
       "<style scoped>\n",
       "    .dataframe tbody tr th:only-of-type {\n",
       "        vertical-align: middle;\n",
       "    }\n",
       "\n",
       "    .dataframe tbody tr th {\n",
       "        vertical-align: top;\n",
       "    }\n",
       "\n",
       "    .dataframe thead th {\n",
       "        text-align: right;\n",
       "    }\n",
       "</style>\n",
       "<table border=\"1\" class=\"dataframe\">\n",
       "  <thead>\n",
       "    <tr style=\"text-align: right;\">\n",
       "      <th></th>\n",
       "      <th>deviceid</th>\n",
       "      <th>arrivaltime</th>\n",
       "      <th>departuretime</th>\n",
       "      <th>durationseconds</th>\n",
       "      <th>streetmarker</th>\n",
       "      <th>area</th>\n",
       "      <th>streetid</th>\n",
       "      <th>streetname</th>\n",
       "      <th>betweenstreet1</th>\n",
       "      <th>betweenstreet2</th>\n",
       "      <th>side_of_street</th>\n",
       "      <th>in_violation</th>\n",
       "      <th>vehicle_present</th>\n",
       "    </tr>\n",
       "    <tr>\n",
       "      <th>sign</th>\n",
       "      <th></th>\n",
       "      <th></th>\n",
       "      <th></th>\n",
       "      <th></th>\n",
       "      <th></th>\n",
       "      <th></th>\n",
       "      <th></th>\n",
       "      <th></th>\n",
       "      <th></th>\n",
       "      <th></th>\n",
       "      <th></th>\n",
       "      <th></th>\n",
       "      <th></th>\n",
       "    </tr>\n",
       "  </thead>\n",
       "  <tbody>\n",
       "    <tr>\n",
       "      <th>1P MTR M-SAT 7:30-19:30</th>\n",
       "      <td>127352</td>\n",
       "      <td>127352</td>\n",
       "      <td>127352</td>\n",
       "      <td>127352</td>\n",
       "      <td>127352</td>\n",
       "      <td>127352</td>\n",
       "      <td>127352</td>\n",
       "      <td>127352</td>\n",
       "      <td>127352</td>\n",
       "      <td>127352</td>\n",
       "      <td>127352</td>\n",
       "      <td>127352</td>\n",
       "      <td>127352</td>\n",
       "    </tr>\n",
       "    <tr>\n",
       "      <th>1P MTR M-SAT 7:30-18:30</th>\n",
       "      <td>109606</td>\n",
       "      <td>109606</td>\n",
       "      <td>109606</td>\n",
       "      <td>109606</td>\n",
       "      <td>109606</td>\n",
       "      <td>109606</td>\n",
       "      <td>109606</td>\n",
       "      <td>109606</td>\n",
       "      <td>109606</td>\n",
       "      <td>109606</td>\n",
       "      <td>109606</td>\n",
       "      <td>109606</td>\n",
       "      <td>109606</td>\n",
       "    </tr>\n",
       "    <tr>\n",
       "      <th>2P MTR M-SAT 7:30-20:30</th>\n",
       "      <td>91391</td>\n",
       "      <td>91391</td>\n",
       "      <td>91391</td>\n",
       "      <td>91391</td>\n",
       "      <td>91391</td>\n",
       "      <td>91391</td>\n",
       "      <td>91391</td>\n",
       "      <td>91391</td>\n",
       "      <td>91391</td>\n",
       "      <td>91391</td>\n",
       "      <td>91391</td>\n",
       "      <td>91391</td>\n",
       "      <td>91391</td>\n",
       "    </tr>\n",
       "    <tr>\n",
       "      <th>1/2P MTR M-SAT 7:30-19:30</th>\n",
       "      <td>78051</td>\n",
       "      <td>78051</td>\n",
       "      <td>78051</td>\n",
       "      <td>78051</td>\n",
       "      <td>78051</td>\n",
       "      <td>78051</td>\n",
       "      <td>78051</td>\n",
       "      <td>78051</td>\n",
       "      <td>78051</td>\n",
       "      <td>78051</td>\n",
       "      <td>78051</td>\n",
       "      <td>78051</td>\n",
       "      <td>78051</td>\n",
       "    </tr>\n",
       "    <tr>\n",
       "      <th>2P MTR M-SAT 7:30-18:30</th>\n",
       "      <td>56816</td>\n",
       "      <td>56816</td>\n",
       "      <td>56816</td>\n",
       "      <td>56816</td>\n",
       "      <td>56816</td>\n",
       "      <td>56816</td>\n",
       "      <td>56816</td>\n",
       "      <td>56816</td>\n",
       "      <td>56816</td>\n",
       "      <td>56816</td>\n",
       "      <td>56816</td>\n",
       "      <td>56816</td>\n",
       "      <td>56816</td>\n",
       "    </tr>\n",
       "  </tbody>\n",
       "</table>\n",
       "</div>"
      ],
      "text/plain": [
       "                           deviceid  arrivaltime  departuretime  \\\n",
       "sign                                                              \n",
       "1P MTR M-SAT 7:30-19:30      127352       127352         127352   \n",
       "1P MTR M-SAT 7:30-18:30      109606       109606         109606   \n",
       "2P MTR M-SAT 7:30-20:30       91391        91391          91391   \n",
       "1/2P MTR M-SAT 7:30-19:30     78051        78051          78051   \n",
       "2P MTR M-SAT 7:30-18:30       56816        56816          56816   \n",
       "\n",
       "                           durationseconds  streetmarker    area  streetid  \\\n",
       "sign                                                                         \n",
       "1P MTR M-SAT 7:30-19:30             127352        127352  127352    127352   \n",
       "1P MTR M-SAT 7:30-18:30             109606        109606  109606    109606   \n",
       "2P MTR M-SAT 7:30-20:30              91391         91391   91391     91391   \n",
       "1/2P MTR M-SAT 7:30-19:30            78051         78051   78051     78051   \n",
       "2P MTR M-SAT 7:30-18:30              56816         56816   56816     56816   \n",
       "\n",
       "                           streetname  betweenstreet1  betweenstreet2  \\\n",
       "sign                                                                    \n",
       "1P MTR M-SAT 7:30-19:30        127352          127352          127352   \n",
       "1P MTR M-SAT 7:30-18:30        109606          109606          109606   \n",
       "2P MTR M-SAT 7:30-20:30         91391           91391           91391   \n",
       "1/2P MTR M-SAT 7:30-19:30       78051           78051           78051   \n",
       "2P MTR M-SAT 7:30-18:30         56816           56816           56816   \n",
       "\n",
       "                           side_of_street  in_violation  vehicle_present  \n",
       "sign                                                                      \n",
       "1P MTR M-SAT 7:30-19:30            127352        127352           127352  \n",
       "1P MTR M-SAT 7:30-18:30            109606        109606           109606  \n",
       "2P MTR M-SAT 7:30-20:30             91391         91391            91391  \n",
       "1/2P MTR M-SAT 7:30-19:30           78051         78051            78051  \n",
       "2P MTR M-SAT 7:30-18:30             56816         56816            56816  "
      ]
     },
     "execution_count": 91,
     "metadata": {},
     "output_type": "execute_result"
    }
   ],
   "source": [
    "sensor_df.groupby(by=['sign']).count().sort_values(by = 'deviceid', ascending=False).head(5)\n",
    "# grouping original sensor_df by sign shows top 10 violation counts per parking restriction across the city\n",
    "# not very insightful"
   ]
  },
  {
   "cell_type": "code",
   "execution_count": null,
   "metadata": {},
   "outputs": [],
   "source": []
  }
 ],
 "metadata": {
  "kernelspec": {
   "display_name": "Python 3",
   "language": "python",
   "name": "python3"
  },
  "language_info": {
   "codemirror_mode": {
    "name": "ipython",
    "version": 3
   },
   "file_extension": ".py",
   "mimetype": "text/x-python",
   "name": "python",
   "nbconvert_exporter": "python",
   "pygments_lexer": "ipython3",
   "version": "3.8.5"
  }
 },
 "nbformat": 4,
 "nbformat_minor": 4
}
